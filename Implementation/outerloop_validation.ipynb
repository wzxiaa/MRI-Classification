{
 "cells": [
  {
   "cell_type": "code",
   "execution_count": 29,
   "metadata": {},
   "outputs": [],
   "source": [
    "import pandas as pd \n",
    "import numpy as np\n",
    "from neurocombat_sklearn import CombatModel\n",
    "from sklearn.cluster import SpectralClustering\n",
    "from sklearn.model_selection import cross_validate\n",
    "from neurocombat_sklearn import CombatModel\n",
    "from sklearn.ensemble import RandomForestClassifier\n",
    "from sklearn.linear_model import LogisticRegression\n",
    "from sklearn.svm import SVC\n",
    "from sklearn.model_selection import ParameterGrid\n",
    "from sklearn.model_selection import train_test_split\n",
    "from joblib import Parallel, delayed, parallel_backend\n",
    "import multiprocessing\n",
    "import time\n",
    "import pickle\n",
    "from sklearn.model_selection import StratifiedKFold\n",
    "from scipy import stats\n",
    "import math"
   ]
  },
  {
   "cell_type": "markdown",
   "metadata": {},
   "source": [
    "### Load the original data"
   ]
  },
  {
   "cell_type": "code",
   "execution_count": 30,
   "metadata": {},
   "outputs": [
    {
     "name": "stdout",
     "output_type": "stream",
     "text": [
      "Xs.shape before attaching site (612, 738)\n",
      "Y.shape (612,)\n",
      "site.shape (612,)\n",
      "Xs.shape after attaching site (612, 739)\n",
      "Xc.shape after attaching site (612, 56956)\n",
      "Xi.shape after attaching site (612, 56956)\n"
     ]
    }
   ],
   "source": [
    "Xs = np.genfromtxt(\"./data612/Xs.csv\", delimiter=',')\n",
    "Xc = np.genfromtxt(\"./data612/Xc.csv\", delimiter=',')\n",
    "Xi = np.genfromtxt(\"./data612/Xi.csv\", delimiter=',')\n",
    "\n",
    "site = np.genfromtxt(\"./data612/Site.csv\", delimiter=',')\n",
    "\n",
    "Y  = np.genfromtxt(\"./data612/Y.csv\", delimiter=',')\n",
    "\n",
    "# Preview the size of Xs\n",
    "print(\"Xs.shape before attaching site\",Xs.shape)\n",
    "print(\"Y.shape\",Y.shape)\n",
    "print(\"site.shape\",site.shape)\n",
    "\n",
    "# append site data to the end of X for simplicity\n",
    "Xs = np.concatenate((Xs, np.reshape(site, (-1, 1))), axis=1)\n",
    "Xc = np.concatenate((Xc, np.reshape(site, (-1, 1))), axis=1)\n",
    "Xi = np.concatenate((Xi, np.reshape(site, (-1, 1))), axis=1)\n",
    "\n",
    "print(\"Xs.shape after attaching site\",Xs.shape)\n",
    "print(\"Xc.shape after attaching site\",Xc.shape)\n",
    "print(\"Xi.shape after attaching site\",Xi.shape)"
   ]
  },
  {
   "cell_type": "markdown",
   "metadata": {},
   "source": [
    "###  Load analysis results"
   ]
  },
  {
   "cell_type": "code",
   "execution_count": 31,
   "metadata": {},
   "outputs": [
    {
     "name": "stdout",
     "output_type": "stream",
     "text": [
      "(612, 56956)\n"
     ]
    }
   ],
   "source": [
    "outer =0\n",
    "dataset = 'c'\n",
    "fold = str(outer)\n",
    "\n",
    "if dataset == 's':\n",
    "    X_data = Xs\n",
    "elif dataset == 'c':\n",
    "    X_data = Xc\n",
    "elif dataset == 'i':\n",
    "    X_data = Xi\n",
    "\n",
    "print(X_data.shape)"
   ]
  },
  {
   "cell_type": "code",
   "execution_count": 32,
   "metadata": {},
   "outputs": [],
   "source": [
    "filtered_good_results = pd.read_pickle(\"./X\"+dataset+\"_results/results/fold\" + fold + \"/filtered_good_results_fold\" + fold + \".pkl\")"
   ]
  },
  {
   "cell_type": "code",
   "execution_count": 33,
   "metadata": {},
   "outputs": [],
   "source": [
    "with open('./split_matlab/outer_train_index.pickle', 'rb') as train:\n",
    "    outer_train_index = pickle.load(train)\n",
    "\n",
    "with open('./split_matlab/outer_test_index.pickle', 'rb') as test:\n",
    "    outer_test_index = pickle.load(test)"
   ]
  },
  {
   "cell_type": "code",
   "execution_count": 34,
   "metadata": {},
   "outputs": [],
   "source": [
    "with open('outer_train_index.pickle', 'rb') as train_test:\n",
    "    outer_train_index_1 = pickle.load(train_test)"
   ]
  },
  {
   "cell_type": "code",
   "execution_count": 35,
   "metadata": {},
   "outputs": [
    {
     "name": "stdout",
     "output_type": "stream",
     "text": [
      "False\n",
      "False\n",
      "False\n",
      "False\n",
      "False\n"
     ]
    }
   ],
   "source": [
    "for i in range(5):\n",
    "    print(np.array_equal(outer_train_index[i], outer_train_index_1[i]))"
   ]
  },
  {
   "cell_type": "code",
   "execution_count": null,
   "metadata": {},
   "outputs": [],
   "source": []
  },
  {
   "cell_type": "code",
   "execution_count": 36,
   "metadata": {},
   "outputs": [
    {
     "data": {
      "text/html": [
       "<div>\n",
       "<style scoped>\n",
       "    .dataframe tbody tr th:only-of-type {\n",
       "        vertical-align: middle;\n",
       "    }\n",
       "\n",
       "    .dataframe tbody tr th {\n",
       "        vertical-align: top;\n",
       "    }\n",
       "\n",
       "    .dataframe thead th {\n",
       "        text-align: right;\n",
       "    }\n",
       "</style>\n",
       "<table border=\"1\" class=\"dataframe\">\n",
       "  <thead>\n",
       "    <tr style=\"text-align: right;\">\n",
       "      <th></th>\n",
       "      <th>PPV</th>\n",
       "      <th>Subjects Correctly Classified</th>\n",
       "      <th>Number of Progressor Subtypes</th>\n",
       "      <th>Number of Stable Subtypes</th>\n",
       "      <th>Number of Features</th>\n",
       "      <th>Classifier</th>\n",
       "      <th>Weighting</th>\n",
       "      <th>Class with High PPV</th>\n",
       "      <th>Stability of High PPV</th>\n",
       "      <th>Number of features mutually selected</th>\n",
       "      <th>Percentage of Mutual Features Selected across all folds</th>\n",
       "      <th>Features selected with highest frequencies across all folds</th>\n",
       "      <th>Frequencies of the features</th>\n",
       "      <th>Indexes of Instances Correctly Classified</th>\n",
       "    </tr>\n",
       "  </thead>\n",
       "  <tbody>\n",
       "    <tr>\n",
       "      <th>0</th>\n",
       "      <td>1.0</td>\n",
       "      <td>5</td>\n",
       "      <td>4</td>\n",
       "      <td>4</td>\n",
       "      <td>13</td>\n",
       "      <td>LR</td>\n",
       "      <td>1</td>\n",
       "      <td>5</td>\n",
       "      <td>5</td>\n",
       "      <td>2</td>\n",
       "      <td>0.153846</td>\n",
       "      <td>[46615, 9707, 49376, 29022, 42092, 10258, 2065...</td>\n",
       "      <td>[248, 248, 247, 242, 236, 224, 214, 201, 189, ...</td>\n",
       "      <td>[439, 440, 441, 442, 443]</td>\n",
       "    </tr>\n",
       "    <tr>\n",
       "      <th>1</th>\n",
       "      <td>1.0</td>\n",
       "      <td>5</td>\n",
       "      <td>4</td>\n",
       "      <td>4</td>\n",
       "      <td>30</td>\n",
       "      <td>LR</td>\n",
       "      <td>1</td>\n",
       "      <td>5</td>\n",
       "      <td>3</td>\n",
       "      <td>4</td>\n",
       "      <td>0.133333</td>\n",
       "      <td>[46615, 9707, 29022, 49376, 42092, 26750, 1312...</td>\n",
       "      <td>[248, 248, 248, 248, 247, 247, 245, 244, 231, ...</td>\n",
       "      <td>[439, 440, 441, 442, 443]</td>\n",
       "    </tr>\n",
       "    <tr>\n",
       "      <th>2</th>\n",
       "      <td>1.0</td>\n",
       "      <td>4</td>\n",
       "      <td>4</td>\n",
       "      <td>4</td>\n",
       "      <td>37</td>\n",
       "      <td>LR</td>\n",
       "      <td>1</td>\n",
       "      <td>5</td>\n",
       "      <td>3</td>\n",
       "      <td>3</td>\n",
       "      <td>0.081081</td>\n",
       "      <td>[46615, 9707, 29022, 49376, 42092, 26750, 1312...</td>\n",
       "      <td>[248, 248, 248, 247, 247, 247, 246, 244, 241, ...</td>\n",
       "      <td>[439, 440, 441, 443]</td>\n",
       "    </tr>\n",
       "    <tr>\n",
       "      <th>3</th>\n",
       "      <td>1.0</td>\n",
       "      <td>5</td>\n",
       "      <td>4</td>\n",
       "      <td>4</td>\n",
       "      <td>37</td>\n",
       "      <td>LR</td>\n",
       "      <td>1</td>\n",
       "      <td>6</td>\n",
       "      <td>59</td>\n",
       "      <td>3</td>\n",
       "      <td>0.081081</td>\n",
       "      <td>[46615, 9707, 29022, 49376, 42092, 26750, 1312...</td>\n",
       "      <td>[248, 248, 248, 247, 247, 247, 246, 244, 241, ...</td>\n",
       "      <td>[404, 405, 406, 407, 408]</td>\n",
       "    </tr>\n",
       "    <tr>\n",
       "      <th>4</th>\n",
       "      <td>1.0</td>\n",
       "      <td>2</td>\n",
       "      <td>3</td>\n",
       "      <td>4</td>\n",
       "      <td>28</td>\n",
       "      <td>SVM</td>\n",
       "      <td>20</td>\n",
       "      <td>4</td>\n",
       "      <td>3</td>\n",
       "      <td>3</td>\n",
       "      <td>0.107143</td>\n",
       "      <td>[46615, 9707, 49376, 26750, 42092, 15217, 2902...</td>\n",
       "      <td>[248, 248, 248, 247, 245, 245, 244, 242, 221, ...</td>\n",
       "      <td>[440, 443]</td>\n",
       "    </tr>\n",
       "  </tbody>\n",
       "</table>\n",
       "</div>"
      ],
      "text/plain": [
       "   PPV Subjects Correctly Classified Number of Progressor Subtypes  \\\n",
       "0  1.0                             5                             4   \n",
       "1  1.0                             5                             4   \n",
       "2  1.0                             4                             4   \n",
       "3  1.0                             5                             4   \n",
       "4  1.0                             2                             3   \n",
       "\n",
       "  Number of Stable Subtypes Number of Features Classifier Weighting  \\\n",
       "0                         4                 13         LR         1   \n",
       "1                         4                 30         LR         1   \n",
       "2                         4                 37         LR         1   \n",
       "3                         4                 37         LR         1   \n",
       "4                         4                 28        SVM        20   \n",
       "\n",
       "  Class with High PPV Stability of High PPV  \\\n",
       "0                   5                     5   \n",
       "1                   5                     3   \n",
       "2                   5                     3   \n",
       "3                   6                    59   \n",
       "4                   4                     3   \n",
       "\n",
       "  Number of features mutually selected  \\\n",
       "0                                    2   \n",
       "1                                    4   \n",
       "2                                    3   \n",
       "3                                    3   \n",
       "4                                    3   \n",
       "\n",
       "   Percentage of Mutual Features Selected across all folds  \\\n",
       "0                                           0.153846         \n",
       "1                                           0.133333         \n",
       "2                                           0.081081         \n",
       "3                                           0.081081         \n",
       "4                                           0.107143         \n",
       "\n",
       "  Features selected with highest frequencies across all folds  \\\n",
       "0  [46615, 9707, 49376, 29022, 42092, 10258, 2065...            \n",
       "1  [46615, 9707, 29022, 49376, 42092, 26750, 1312...            \n",
       "2  [46615, 9707, 29022, 49376, 42092, 26750, 1312...            \n",
       "3  [46615, 9707, 29022, 49376, 42092, 26750, 1312...            \n",
       "4  [46615, 9707, 49376, 26750, 42092, 15217, 2902...            \n",
       "\n",
       "                         Frequencies of the features  \\\n",
       "0  [248, 248, 247, 242, 236, 224, 214, 201, 189, ...   \n",
       "1  [248, 248, 248, 248, 247, 247, 245, 244, 231, ...   \n",
       "2  [248, 248, 248, 247, 247, 247, 246, 244, 241, ...   \n",
       "3  [248, 248, 248, 247, 247, 247, 246, 244, 241, ...   \n",
       "4  [248, 248, 248, 247, 245, 245, 244, 242, 221, ...   \n",
       "\n",
       "  Indexes of Instances Correctly Classified  \n",
       "0                 [439, 440, 441, 442, 443]  \n",
       "1                 [439, 440, 441, 442, 443]  \n",
       "2                      [439, 440, 441, 443]  \n",
       "3                 [404, 405, 406, 407, 408]  \n",
       "4                                [440, 443]  "
      ]
     },
     "execution_count": 36,
     "metadata": {},
     "output_type": "execute_result"
    }
   ],
   "source": [
    "filtered_good_results.head()"
   ]
  },
  {
   "cell_type": "code",
   "execution_count": 37,
   "metadata": {},
   "outputs": [
    {
     "name": "stdout",
     "output_type": "stream",
     "text": [
      "[1, 2, 3, 4, 5, 6, 9, 10, 11, 12, 13, 14, 15, 16, 17, 18, 19, 20, 30, 31, 32, 33, 34, 35, 36, 37, 38, 39, 40, 41, 42, 43, 44, 45, 46, 47, 48, 49, 50, 51, 52, 53, 54, 55, 77, 78, 79, 80, 81, 82, 83, 84, 85, 86, 87, 88, 89, 90, 91, 92, 93, 94, 95, 96, 97, 98, 99, 100, 101, 102, 103, 104, 105, 106, 107, 108, 109, 110, 111, 112, 113, 114, 115, 116, 117, 118, 119, 120, 121, 122, 123, 124, 125, 126, 127, 128, 129, 130, 131, 132, 133, 134, 135, 136, 137, 138, 139, 140, 141, 142, 143, 144, 145, 146, 147, 148, 149, 150, 151, 152, 153, 154, 155, 156, 157, 158, 159, 160, 161, 162, 163, 164, 165, 166, 167, 168, 169, 170, 171, 172, 173, 174, 175, 176, 177, 178, 179, 180, 181, 182, 183, 184, 185, 186, 187, 188, 189, 190, 191, 192, 193, 194, 195, 196, 197, 198, 199, 200, 201, 202, 203, 220, 221, 222, 223, 224, 225, 226, 227, 228, 229, 230, 231, 232, 233, 234, 235, 236, 237, 238, 239, 240, 241, 242, 243, 244, 245, 246, 247, 248, 249, 250, 251, 252, 253, 254, 255, 256, 257, 258, 259, 260, 261, 262, 263, 264, 265, 266, 267, 268, 269, 270, 271, 272, 273, 274, 275, 276, 277, 278, 279, 280, 281, 282, 283, 284, 285, 286, 287, 288, 289, 290, 291, 292, 293, 294, 295, 296]\n",
      "5\n"
     ]
    }
   ],
   "source": [
    "print(outer_train_index[outer])\n",
    "print(len(outer_train_index))"
   ]
  },
  {
   "cell_type": "code",
   "execution_count": 38,
   "metadata": {},
   "outputs": [
    {
     "name": "stdout",
     "output_type": "stream",
     "text": [
      "[0, 7, 8, 21, 22, 23, 24, 25, 26, 27, 28, 29, 56, 57, 58, 59, 60, 61, 62, 63, 64, 65, 66, 67, 68, 69, 70, 71, 72, 73, 74, 75, 76, 204, 205, 206, 207, 208, 209, 210, 211, 212, 213, 214, 215, 216, 217, 218, 219, 297, 298, 299, 300, 301]\n",
      "5\n"
     ]
    }
   ],
   "source": [
    "print(outer_test_index[outer])\n",
    "print(len(outer_test_index))"
   ]
  },
  {
   "cell_type": "code",
   "execution_count": 39,
   "metadata": {},
   "outputs": [],
   "source": [
    "df_results_of_each_param = pd.read_pickle(\"./X\"+dataset+\"_results/results/fold\" + fold + \"/outerfold\" + fold + \"_results_for_each_param_setting.pkl\")\n",
    "df_results_of_each_fold = pd.read_pickle(\"./X\"+dataset+\"_results/results/fold\" + fold + \"/outerfold\" + fold + \"_results_for_each_fold.pkl\")\n",
    "good_results = pd.read_pickle(\"./X\"+dataset+\"_results/results/fold\" + fold + \"/outerfold\" +  fold + \"_good_results.pkl\")"
   ]
  },
  {
   "cell_type": "code",
   "execution_count": 40,
   "metadata": {},
   "outputs": [
    {
     "name": "stdout",
     "output_type": "stream",
     "text": [
      "[  6   7   8   9  10  11  12  13  14  15  16  17  18  19  20  21  22  23\n",
      "  24  25  26  27  28  29  30  31  32  33  34  35  36  37  38  47  48  49\n",
      "  50  51  52  53  54  55  56  57  58  59  60  61  62  63  64  65  66  67\n",
      "  68  69  70  71  72  73  74  75  76  77  78  79  80  81  82  83  84  97\n",
      "  98  99 100 101 102 103 104 105 106 107 108 109 110 111 112 113 114 115\n",
      " 116 117 118 119 120 121 122 123 124 125 126 156 157 158 159 160 161 162\n",
      " 163 164 165 166 167 168 169 170 171 172 173 174 175 176 177 178 179 180\n",
      " 181 182 183 184 185 186 187 188 189 190 191 192 193 194 195 196 197 198\n",
      " 199 200 201 202 203 204 205 206 207 208 209 210 211 212 213 214 215 216\n",
      " 217 218 219 220 221 222 223 224 225 226 227 228 229 230 231 232 233 234\n",
      " 235 236 237 238 239 240 241 242 243 244 245 246 247 248 249 250 251 252\n",
      " 253 254 255 256 257 258 259 260 261 262 263 264 265 266 267 268 269 270\n",
      " 271 272 273 274 275 276 277 278 279 280 281 282 283 284 285 286 287 288\n",
      " 289 290 291 292 293 294 295 296 297 298 299 300 301 302 303 304 305 306\n",
      " 307 308 309 310 311 312 313 314 315 316 317 318 319 320 321 322 323 324\n",
      " 325 326 327 328 329 330 331 332 333 334 335 336 337 338 339 340 341 342\n",
      " 343 344 345 346 347 348 349 350 351 352 353 354 355 356 357 358 359 360\n",
      " 361 362 363 364 365 366 367 368 369 370 371 372 373 374 375 376 377 378\n",
      " 379 380 381 382 383 384 385 386 387 388 389 390 391 392 393 394 395 396\n",
      " 397 398 399 400 401 402 403 404 405 406 407 408 409 410 411 412 413 414\n",
      " 415 416 417 418 419 420 421 422 423 424 425 426 427 428 429 430 431 432\n",
      " 433 434 435 436 437 438 439 440 441 442 443 444 445 446 447 448 449 450\n",
      " 451 452 453 454 455 456 457 495 496 497 498 499 500 501 502 503 504 505\n",
      " 506 507 508 509 510 511 512 513 514 515 516 517 518 519 520 521 522 523\n",
      " 524 525 526 527 528 529 530 531 532 533 534 535 536 537 538 539 540 541\n",
      " 542 543 544 545 546 547 548 549 550 551 552 553 554 555 556 557 558 559\n",
      " 560 561 562 563 564 565 566 567 568 569 570 571 572 573 574 575 576 577\n",
      " 578 579 580 581 582 583 584 585 586 587 588 589 590 591 592 593 594 595\n",
      " 596 597 598 599 600 601 602 603 604 605 606]\n"
     ]
    }
   ],
   "source": [
    "print(np.sort(df_results_of_each_param.iloc[0]['test_index']))"
   ]
  },
  {
   "cell_type": "code",
   "execution_count": 41,
   "metadata": {},
   "outputs": [
    {
     "name": "stdout",
     "output_type": "stream",
     "text": [
      "{0: [0, 1, 2, 3, 4, 5], 1: [6, 7, 8, 9], 2: [10, 11, 12, 13, 14, 15, 16, 17], 3: [18, 19, 20, 21, 22, 23, 24, 25], 4: [26, 27, 28, 29, 30, 31, 32], 5: [33, 34, 35], 6: [36, 37, 38], 7: [39, 40, 41], 8: [42, 43, 44, 45, 46], 9: [47, 48, 49, 50], 10: [51, 52, 53], 11: [54, 55, 56, 57], 12: [58, 59, 60, 61, 62], 13: [63, 64], 14: [65, 66, 67], 15: [68, 69, 70], 16: [71, 72, 73, 74], 17: [75, 76, 77, 78, 79], 18: [80], 19: [81], 20: [82, 83, 84], 21: [85, 86, 87], 22: [88], 23: [89], 24: [90], 25: [91], 26: [92], 27: [93], 28: [94, 95], 29: [96], 30: [97, 98], 31: [99], 32: [100], 33: [101], 34: [102, 103], 35: [104], 36: [105], 37: [106], 38: [107], 39: [108], 40: [109], 41: [110], 42: [111], 43: [112], 44: [113], 45: [114], 46: [115], 47: [116], 48: [117], 49: [118], 50: [119], 51: [120, 121], 52: [122, 123], 53: [124], 54: [125], 55: [126], 56: [127, 128], 57: [129], 58: [130], 59: [131], 60: [132, 133], 61: [134], 62: [135], 63: [136], 64: [137], 65: [138], 66: [139], 67: [140, 141], 68: [142, 143, 144], 69: [145], 70: [146, 147], 71: [148], 72: [149], 73: [150], 74: [151, 152], 75: [153], 76: [154, 155], 77: [156], 78: [157], 79: [158], 80: [159, 160], 81: [161], 82: [162], 83: [163, 164], 84: [165, 166], 85: [167], 86: [168], 87: [169], 88: [170, 171], 89: [172, 173], 90: [174], 91: [175, 176], 92: [177], 93: [178], 94: [179, 180], 95: [181], 96: [182, 183], 97: [184], 98: [185], 99: [186, 187], 100: [188, 189], 101: [190], 102: [191], 103: [192], 104: [193], 105: [194], 106: [195], 107: [196], 108: [197], 109: [198], 110: [199], 111: [200], 112: [201], 113: [202], 114: [203], 115: [204], 116: [205], 117: [206], 118: [207], 119: [208], 120: [209], 121: [210], 122: [211], 123: [212], 124: [213], 125: [214], 126: [215], 127: [216], 128: [217], 129: [218], 130: [219], 131: [220], 132: [221], 133: [222], 134: [223], 135: [224], 136: [225], 137: [226], 138: [227], 139: [228], 140: [229], 141: [230], 142: [231], 143: [232], 144: [233], 145: [234], 146: [235], 147: [236], 148: [237], 149: [238], 150: [239], 151: [240], 152: [241], 153: [242], 154: [243], 155: [244], 156: [245], 157: [246], 158: [247, 248, 249, 250], 159: [251], 160: [252, 253, 254], 161: [255, 256, 257, 258, 259, 260], 162: [261, 262, 263, 264], 163: [265, 266, 267, 268, 269, 270], 164: [271, 272, 273, 274, 275], 165: [276, 277, 278], 166: [279, 280, 281, 282, 283, 284], 167: [285, 286, 287, 288, 289, 290, 291], 168: [292, 293, 294, 295, 296, 297], 169: [298, 299, 300, 301, 302, 303], 170: [304, 305, 306, 307, 308, 309, 310, 311], 171: [312, 313, 314, 315, 316, 317, 318, 319], 172: [320], 173: [321, 322, 323, 324], 174: [325, 326, 327, 328], 175: [329, 330, 331, 332], 176: [333, 334, 335], 177: [336, 337, 338, 339], 178: [340, 341], 179: [342, 343, 344, 345, 346], 180: [347, 348, 349, 350, 351, 352, 353], 181: [354, 355, 356, 357], 182: [358, 359, 360, 361, 362], 183: [363, 364, 365, 366, 367], 184: [368, 369, 370, 371, 372], 185: [373, 374, 375, 376], 186: [377, 378, 379, 380, 381, 382], 187: [383, 384, 385, 386, 387], 188: [388, 389, 390, 391, 392, 393], 189: [394, 395, 396, 397, 398], 190: [399, 400, 401, 402, 403], 191: [404, 405, 406, 407, 408], 192: [409, 410, 411, 412], 193: [413, 414, 415, 416, 417, 418], 194: [419, 420, 421, 422, 423], 195: [424, 425, 426, 427, 428, 429], 196: [430, 431], 197: [432, 433], 198: [434, 435, 436, 437, 438], 199: [439, 440, 441, 442, 443], 200: [444, 445], 201: [446, 447], 202: [448, 449, 450, 451, 452], 203: [453, 454, 455, 456, 457], 204: [458, 459, 460, 461, 462], 205: [463, 464], 206: [465, 466], 207: [467, 468], 208: [469], 209: [470, 471], 210: [472, 473], 211: [474, 475, 476], 212: [477, 478], 213: [479, 480], 214: [481, 482], 215: [483, 484], 216: [485, 486], 217: [487, 488], 218: [489, 490, 491, 492], 219: [493, 494], 220: [495, 496], 221: [497, 498], 222: [499, 500], 223: [501], 224: [502, 503, 504], 225: [505], 226: [506, 507], 227: [508, 509], 228: [510, 511], 229: [512, 513, 514], 230: [515], 231: [516], 232: [517], 233: [518], 234: [519, 520], 235: [521], 236: [522], 237: [523, 524], 238: [525, 526, 527], 239: [528, 529], 240: [530, 531], 241: [532, 533], 242: [534, 535, 536], 243: [537], 244: [538], 245: [539, 540], 246: [541], 247: [542, 543], 248: [544], 249: [545], 250: [546], 251: [547], 252: [548, 549], 253: [550], 254: [551], 255: [552, 553], 256: [554], 257: [555, 556], 258: [557], 259: [558], 260: [559, 560, 561], 261: [562, 563], 262: [564], 263: [565], 264: [566], 265: [567], 266: [568], 267: [569, 570], 268: [571], 269: [572, 573], 270: [574], 271: [575], 272: [576], 273: [577], 274: [578], 275: [579], 276: [580], 277: [581], 278: [582], 279: [583], 280: [584, 585, 586], 281: [587], 282: [588], 283: [589], 284: [590], 285: [591], 286: [592], 287: [593], 288: [594], 289: [595], 290: [596, 597, 598], 291: [599, 600], 292: [601], 293: [602], 294: [603], 295: [604], 296: [605, 606], 297: [607], 298: [608], 299: [609], 300: [610], 301: [611]}\n"
     ]
    }
   ],
   "source": [
    "index_book_pickle = open(\"./split_matlab/subjects_scans_index.pickle\", \"rb\")\n",
    "index_book = pickle.load(index_book_pickle)\n",
    "index_book_pickle.close()  \n",
    "print(index_book)"
   ]
  },
  {
   "cell_type": "code",
   "execution_count": 42,
   "metadata": {},
   "outputs": [
    {
     "name": "stdout",
     "output_type": "stream",
     "text": [
      "[6, 7, 8, 9, 10, 11, 12, 13, 14, 15, 16, 17, 18, 19, 20, 21, 22, 23, 24, 25, 26, 27, 28, 29, 30, 31, 32, 33, 34, 35, 36, 37, 38, 47, 48, 49, 50, 51, 52, 53, 54, 55, 56, 57, 58, 59, 60, 61, 62, 63, 64, 65, 66, 67, 68, 69, 70, 71, 72, 73, 74, 75, 76, 77, 78, 79, 80, 81, 82, 83, 84, 97, 98, 99, 100, 101, 102, 103, 104, 105, 106, 107, 108, 109, 110, 111, 112, 113, 114, 115, 116, 117, 118, 119, 120, 121, 122, 123, 124, 125, 126, 156, 157, 158, 159, 160, 161, 162, 163, 164, 165, 166, 167, 168, 169, 170, 171, 172, 173, 174, 175, 176, 177, 178, 179, 180, 181, 182, 183, 184, 185, 186, 187, 188, 189, 190, 191, 192, 193, 194, 195, 196, 197, 198, 199, 200, 201, 202, 203, 204, 205, 206, 207, 208, 209, 210, 211, 212, 213, 214, 215, 216, 217, 218, 219, 220, 221, 222, 223, 224, 225, 226, 227, 228, 229, 230, 231, 232, 233, 234, 235, 236, 237, 238, 239, 240, 241, 242, 243, 244, 245, 246, 247, 248, 249, 250, 251, 252, 253, 254, 255, 256, 257, 258, 259, 260, 261, 262, 263, 264, 265, 266, 267, 268, 269, 270, 271, 272, 273, 274, 275, 276, 277, 278, 279, 280, 281, 282, 283, 284, 285, 286, 287, 288, 289, 290, 291, 292, 293, 294, 295, 296, 297, 298, 299, 300, 301, 302, 303, 304, 305, 306, 307, 308, 309, 310, 311, 312, 313, 314, 315, 316, 317, 318, 319, 320, 321, 322, 323, 324, 325, 326, 327, 328, 329, 330, 331, 332, 333, 334, 335, 336, 337, 338, 339, 340, 341, 342, 343, 344, 345, 346, 347, 348, 349, 350, 351, 352, 353, 354, 355, 356, 357, 358, 359, 360, 361, 362, 363, 364, 365, 366, 367, 368, 369, 370, 371, 372, 373, 374, 375, 376, 377, 378, 379, 380, 381, 382, 383, 384, 385, 386, 387, 388, 389, 390, 391, 392, 393, 394, 395, 396, 397, 398, 399, 400, 401, 402, 403, 404, 405, 406, 407, 408, 409, 410, 411, 412, 413, 414, 415, 416, 417, 418, 419, 420, 421, 422, 423, 424, 425, 426, 427, 428, 429, 430, 431, 432, 433, 434, 435, 436, 437, 438, 439, 440, 441, 442, 443, 444, 445, 446, 447, 448, 449, 450, 451, 452, 453, 454, 455, 456, 457, 495, 496, 497, 498, 499, 500, 501, 502, 503, 504, 505, 506, 507, 508, 509, 510, 511, 512, 513, 514, 515, 516, 517, 518, 519, 520, 521, 522, 523, 524, 525, 526, 527, 528, 529, 530, 531, 532, 533, 534, 535, 536, 537, 538, 539, 540, 541, 542, 543, 544, 545, 546, 547, 548, 549, 550, 551, 552, 553, 554, 555, 556, 557, 558, 559, 560, 561, 562, 563, 564, 565, 566, 567, 568, 569, 570, 571, 572, 573, 574, 575, 576, 577, 578, 579, 580, 581, 582, 583, 584, 585, 586, 587, 588, 589, 590, 591, 592, 593, 594, 595, 596, 597, 598, 599, 600, 601, 602, 603, 604, 605, 606]\n"
     ]
    }
   ],
   "source": [
    "train_scan_index = [index_book.get(i) for i in outer_train_index[outer]]\n",
    "train_scan_index = [item for subl in train_scan_index for item in subl]\n",
    "print(train_scan_index)"
   ]
  },
  {
   "cell_type": "code",
   "execution_count": 43,
   "metadata": {},
   "outputs": [
    {
     "name": "stdout",
     "output_type": "stream",
     "text": [
      "[0, 1, 2, 3, 4, 5, 39, 40, 41, 42, 43, 44, 45, 46, 85, 86, 87, 88, 89, 90, 91, 92, 93, 94, 95, 96, 127, 128, 129, 130, 131, 132, 133, 134, 135, 136, 137, 138, 139, 140, 141, 142, 143, 144, 145, 146, 147, 148, 149, 150, 151, 152, 153, 154, 155, 458, 459, 460, 461, 462, 463, 464, 465, 466, 467, 468, 469, 470, 471, 472, 473, 474, 475, 476, 477, 478, 479, 480, 481, 482, 483, 484, 485, 486, 487, 488, 489, 490, 491, 492, 493, 494, 607, 608, 609, 610, 611]\n"
     ]
    }
   ],
   "source": [
    "test_scan_index = [index_book.get(i) for i in outer_test_index[outer]]\n",
    "test_scan_index = [item for subl in test_scan_index for item in subl]\n",
    "print(test_scan_index)"
   ]
  },
  {
   "cell_type": "code",
   "execution_count": 44,
   "metadata": {},
   "outputs": [],
   "source": [
    "class Combatstep():\n",
    "    \"\"\"A class to wrap the combat step processing, including fitting the training data and\n",
    "    apply transformation on the test data\n",
    "\n",
    "        Attributes\n",
    "        ----------\n",
    "        debug_mode : boolean\n",
    "            a boolean variable to indicate if the debugging mode is activated. If activated, \n",
    "            the intermediate results will be printed on standard output\n",
    "    \"\"\"\n",
    "\n",
    "    def __init__(self, debug_mode=False):\n",
    "        \"\"\"Apply fit_transform on the training data\n",
    "    \n",
    "            Arguments\n",
    "            ---------\n",
    "                debug_mode: boolean\n",
    "                    If true, intermediate results will be printed for debugging purposes \n",
    "                    at the end of each function call.\n",
    "        \"\"\"\n",
    "        self.model = CombatModel()\n",
    "        self.debug_mode = debug_mode\n",
    "        pass\n",
    "     \n",
    "    def fit_transform(self, X, y):\n",
    "        \"\"\"Apply fit_transform on the training data\n",
    "            \n",
    "            This function should be called upon the training data set. The combat model \n",
    "            is fitted and transformed. The data is adjusted/harmonized from the effects \n",
    "            of site data, sex data, age data and the labels. The discrete covariates includes\n",
    "            the sex data and labels. The continuous covariates includes the normalized age\n",
    "            data. \n",
    "            \n",
    "            Arguments\n",
    "            ---------\n",
    "                X: numpy.ndarray\n",
    "                    The training data with site, sex, age data attached.\n",
    "                y: numpy.ndarray\n",
    "                    The training data labels.\n",
    "            Returns\n",
    "            -------\n",
    "                X_harmonized\n",
    "                    The resulting harmonized data, excluding the site, sex, age data.\n",
    "        \"\"\"\n",
    "        # extract site, sex, age data\n",
    "        site = X[:,-1].reshape(-1,1)\n",
    "        sex = X[:,-2].reshape(-1,1)\n",
    "        age = X[:,-3].reshape(-1,1) \n",
    "        \n",
    "        # exclude site, sex, age from from the data for harmonization\n",
    "        X_raw = X[:,:-3]\n",
    "        \n",
    "        # reshape y array for concatenation\n",
    "        y = y.reshape(-1,1)\n",
    "        \n",
    "        # discrete_covariates: sex\n",
    "        discrete_covariates = sex\n",
    "        \n",
    "        # continuous_covariates: age\n",
    "        continuous_covariates = age\n",
    "        \n",
    "        # apply fit_transform on X\n",
    "        X_harmonized = self.model.fit_transform(X_raw,\n",
    "                                            site,\n",
    "                                            discrete_covariates,\n",
    "                                            continuous_covariates\n",
    "                                       )\n",
    "        \n",
    "        # attach back the age and sex data to the X_harmonized\n",
    "        age_sex_data = np.concatenate((age, sex), axis=1)\n",
    "        X_harmonized = np.concatenate((X_harmonized, age_sex_data), axis=1)\n",
    "#         print(\"fit transforma X_harmonized.shape\", X_harmonized.shape)\n",
    "        # print all the computed matrxi if debug mode is enabled\n",
    "        if self.debug_mode == True:\n",
    "            print(\"=\" * 50 + \" combat step fit_transform \" + \"=\"*50)\n",
    "            print(\"X_init\", X)\n",
    "            print(\"X_raw\",X_raw)\n",
    "            print(\"X_harmonized.shape\", X_harmonized.shape)\n",
    "            print(\"age_sex_data\", age_sex_data)\n",
    "            print(\"X_harmonized\", X_harmonized)\n",
    "            \n",
    "        return X_harmonized\n",
    "        \n",
    "    def transform(self, X, y):\n",
    "        \"\"\"Apply transformation on the testing data based on the fitted combat model.\n",
    "        \n",
    "            This function should be called upon the testing data set. The combat model has \n",
    "            already been fitted using the training data and the testing data is transformed\n",
    "            accordingly. The data is adjusted/harmonized from the effects of site data, sex \n",
    "            data, age data and the labels. The discrete covariates includes the sex data \n",
    "            and labels. The continuous covariates includes the normalized age\n",
    "            data. \n",
    "    \n",
    "            Arguments\n",
    "            ---------\n",
    "                X: numpy.ndarray\n",
    "                    The testing data with site, sex, age data attached.\n",
    "                y: numpy.ndarray\n",
    "                    The testing data labels.\n",
    "            Returns\n",
    "            -------\n",
    "                X_harmonized\n",
    "                    The resulting harmonized data, excluding the site, sex, age data.\n",
    "        \"\"\"\n",
    "        # extract site, sex, age data\n",
    "        site = X[:,-1].reshape(-1,1)\n",
    "        sex = X[:,-2].reshape(-1,1)\n",
    "        age = X[:,-3].reshape(-1,1) \n",
    "        # exclude site, sex, age from from the data for harmonization\n",
    "        X_raw = X[:,:-3]\n",
    "        \n",
    "        # reshape y array for concatenation\n",
    "        y = y.reshape(-1,1)\n",
    "        \n",
    "        # discrete_covariates: sex\n",
    "        discrete_covariates = sex\n",
    "        \n",
    "        # continuous_covariates: age\n",
    "        continuous_covariates = age\n",
    "        \n",
    "        # apply fit_transform on X\n",
    "        X_harmonized = self.model.transform(X_raw,\n",
    "                                            site,\n",
    "                                            discrete_covariates,\n",
    "                                            continuous_covariates\n",
    "                                       )\n",
    "        # attach back the age and sex data to the X_harmonized\n",
    "        age_sex_data = np.concatenate((age, sex), axis=1)\n",
    "        \n",
    "        X_harmonized = np.concatenate((X_harmonized, age_sex_data), axis=1)\n",
    "#         print(\"transforma X_harmonized.shape\", X_harmonized.shape)\n",
    "        # print all the computed matrxi if debug mode is enabled\n",
    "        if self.debug_mode == True:\n",
    "            print(\"=\" * 50 + \" combat step transform \" + \"=\"*50)\n",
    "            print(\"X_init\", X)\n",
    "            print(\"X_raw\",X_raw)\n",
    "            print(\"discrete_covariates\", np.reshape(discrete_covariates,(1, -1)))\n",
    "            print(\"continuous_covariates\", np.reshape(continuous_covariates,(1, -1)))\n",
    "            print(\"X_harmonized.shape\", X_harmonized.shape)\n",
    "            print(\"X_harmonized\", X_harmonized)\n",
    "            \n",
    "        return X_harmonized\n"
   ]
  },
  {
   "cell_type": "code",
   "execution_count": 45,
   "metadata": {},
   "outputs": [],
   "source": [
    "class Clustering():\n",
    "    \"\"\"A class to wrap the clustering step\n",
    "\n",
    "        Attributes\n",
    "        ----------\n",
    "        debug_mode : boolean\n",
    "            a boolean variable to indicate if the debugging mode is activated. If activated, \n",
    "            the intermediate results will be printed on standard output\n",
    "    \"\"\"\n",
    "\n",
    "    def __init__(self, debug_mode=False):\n",
    "        \"\"\"Apply fit_transform on the training data\n",
    "    \n",
    "            Arguments\n",
    "            ---------\n",
    "                debug_mode: boolean\n",
    "                    If true, intermediate results will be printed for debugging purposes \n",
    "                    at the end of each function call.\n",
    "        \"\"\"\n",
    "        self.debug_mode = debug_mode\n",
    "        pass\n",
    "    \n",
    "    # setter for number of subclusters for P\n",
    "    def setNumP(self, numP):\n",
    "        self.numP = numP\n",
    "    \n",
    "    # setter for number of subclusters for S\n",
    "    def setNumS(self, numS):\n",
    "        self.numS = numS\n",
    "    \n",
    "    # Step1. Separate out P and S \n",
    "    def separate(self, X, y):\n",
    "        \"\"\"Separate out the progressor and stable instances to be used for clustering later\n",
    "        \n",
    "            As the data in is reindexed by the stratifiedKfold. It is important for us\n",
    "            to save the indexes of the rows before we separate them out and do clustering \n",
    "            accordingly. In this function, while the data is splitted into separate lists \n",
    "            by class, the original index for each row is saved. After the clustering is done, \n",
    "            we will reindex our combined data set according to the saved indexes\n",
    "    \n",
    "            Arguments\n",
    "            ---------\n",
    "                X: numpy.ndarray\n",
    "                    The combined data\n",
    "                y: numpy.ndarray\n",
    "                    The combined data labels.\n",
    "            Returns\n",
    "            -------\n",
    "                P_X: list\n",
    "                    Progressor data\n",
    "                P_y: list\n",
    "                    Progressor data labels\n",
    "                S_X: list\n",
    "                    Stable data\n",
    "                S_y: list\n",
    "                    Stable data labels     \n",
    "        \"\"\"\n",
    "        \n",
    "        # initialize empty lists to store index of P&S instances in the original data\n",
    "        index_P, index_S = [], []\n",
    "        \n",
    "        # initialize lists to store the separated P and S instances\n",
    "        P_X, P_y, S_X, S_y= [], [], [], []\n",
    "        # store P and S instances separately and keep track of the indexes in the original data\n",
    "        \n",
    "        for i in range(0, y.shape[0]):\n",
    "            if y[i] == 1:\n",
    "                S_X.append(X[i])\n",
    "                S_y.append(y[i])\n",
    "                index_S.append(i)\n",
    "            else: \n",
    "                P_X.append(X[i])\n",
    "                P_y.append(y[i])\n",
    "                index_P.append(i)\n",
    "                \n",
    "        # store the indexes as a global attribute for the clasds\n",
    "        self.index_P = index_P\n",
    "        self.index_S = index_S\n",
    "        \n",
    "        # print all the computed matrxi if debug mode is enabled\n",
    "        if self.debug_mode == True:\n",
    "            print(\"index_P\", self.index_P)\n",
    "            print(\"index_S\", self.index_S)\n",
    "            \n",
    "        return np.asarray(P_X), np.asarray(P_y), np.asarray(S_X), np.asarray(S_y)\n",
    "        \n",
    "    def clusteringP(self, P_X):\n",
    "        \"\"\"Apply Spectral Clustering on Progressor data\n",
    "        \n",
    "            SpectralClustering is performed on P class instances. The number of clusters \n",
    "            is specified by the global attribute num_P. At the end of the step, the original\n",
    "            labels will be discarded and the new labels will be attached to the end of the data\n",
    "            for convenience. The assign_labels for the SpectralClustering is \"discrete\" and \n",
    "            random_state is set to 0\n",
    "    \n",
    "            Arguments\n",
    "            ---------\n",
    "                P_X: list\n",
    "                    The progressor data\n",
    "            Returns\n",
    "            -------\n",
    "                P_X_clustered: numpy.ndarray\n",
    "                    The combined clustered progressor data with new labels attached to the end\n",
    "        \"\"\"\n",
    "        # apply spectral clustering on the data     \n",
    "        clusteringP = SpectralClustering(n_clusters=self.numP, assign_labels=\"kmeans\", random_state=0).fit(P_X)\n",
    "        # get the labels returned\n",
    "        labels = clusteringP.labels_.reshape(-1,1)\n",
    "        # attach the new labels to the end of the input data\n",
    "        P_X = np.asarray(P_X)\n",
    "        P_X_clustered = np.concatenate((P_X, labels), axis=1)\n",
    "        \n",
    "        if self.debug_mode == True:\n",
    "            print(\"P labels\", np.reshape(labels,(1,-1)))\n",
    "            print(\"P_X_clustered\", P_X_clustered)\n",
    "            \n",
    "        return P_X_clustered\n",
    "    \n",
    "    def clusteringS(self, S_X):\n",
    "        \"\"\"Apply Spectral Clustering on Stable data\n",
    "        \n",
    "            SpectralClustering is performed on the S class instances. The number of clusters \n",
    "            is specified by the global attribute num_S. At the end of the step, the original\n",
    "            labels will be discarded and the new labels will be attached to the end of the data\n",
    "            for convenience. The assign_labels for the SpectralClustering is \"discrete\" and \n",
    "            random_state is set to 0\n",
    "    \n",
    "            Arguments\n",
    "            ---------\n",
    "                S_X: list\n",
    "                    The progressor data\n",
    "            Returns\n",
    "            -------\n",
    "                S_X_clustered: numpy.ndarray\n",
    "                    The combined clustered progressor data with new labels attached to the end\n",
    "        \"\"\"\n",
    "        \n",
    "        # apply spectral clustering on the data   \n",
    "        clusteringS = SpectralClustering(n_clusters=self.numS, assign_labels=\"kmeans\", random_state=0).fit(S_X)\n",
    "        # get the labels returned\n",
    "        labels = clusteringS.labels_\n",
    "        # distinguish against the P labels\n",
    "        labels = labels + self.numP\n",
    "        S_X = np.asarray(S_X)\n",
    "        labels = labels.reshape(-1,1)\n",
    "        # attach the new labels to the end of the input data\n",
    "        S_X_clustered = np.concatenate((S_X, labels), axis=1)\n",
    "        \n",
    "        if self.debug_mode == True:\n",
    "            print(\"S labels\", np.reshape(labels, (1,-1)))\n",
    "            print(\"S_X_clustered\", S_X_clustered)\n",
    "            \n",
    "        return S_X_clustered\n",
    "    \n",
    "    def transform(self, X, y):\n",
    "        \"\"\"Apply Spectral Clustering on stable data and progressor data. \n",
    "            Step 1. Separate data out into P and S classes. Save the original data index as \n",
    "            the data rows will be reindexed for clustering. \n",
    "            Step 2. Perform clustering for P class based on num_P. Attach the new labels.\n",
    "            Step 3. Perform clustering for S class based on num_S. Attach the new labels. \n",
    "            Step 4. Combine the newly clustered P class data and S class data. Reindex the \n",
    "            data rows according to the saved indexes. \n",
    "            Arguments\n",
    "            ---------\n",
    "                X: numpy.ndarray\n",
    "                    The combined data of both P and S instances.\n",
    "                y: numpy.ndarray\n",
    "                    The combined data labels.\n",
    "            Returns\n",
    "            -------\n",
    "                X_output: numpy.ndarray\n",
    "                    The combined data with newly clustered labels attached.\n",
    "        \"\"\"\n",
    "        \n",
    "        P_X, P_y, S_X, S_y = self.separate(X, y) \n",
    "        P_X_clustered = self.clusteringP(P_X)\n",
    "        S_X_clustered = self.clusteringS(S_X)\n",
    "        \n",
    "        P_X_clustered_with_index = np.concatenate((P_X_clustered, (np.array(self.index_P)).reshape(-1,1)), axis = 1)\n",
    "        S_X_clustered_with_index = np.concatenate((S_X_clustered, (np.array(self.index_S)).reshape(-1,1)), axis = 1)\n",
    "        \n",
    "        X_combined_with_index = np.concatenate((P_X_clustered_with_index, S_X_clustered_with_index), axis=0)\n",
    "        \n",
    "        X_sorted = X_combined_with_index[np.argsort(X_combined_with_index[:,-1])]\n",
    "\n",
    "        new_labels = X_sorted[:,-2]\n",
    "        X_output = X_sorted[:, :-2]\n",
    "\n",
    "        if self.debug_mode == True:\n",
    "            print(\"P_X_clustered_with_index\", P_X_clustered_with_index)\n",
    "            print(\"S_X_clustered_with_index\", S_X_clustered_with_index)\n",
    "            print(\"X_sorted\", X_sorted)\n",
    "            print(\"X_output\", X_output)\n",
    "            print(\"X_output.labels\", X_output[:, -1])\n",
    "\n",
    "        return X_output, new_labels"
   ]
  },
  {
   "cell_type": "code",
   "execution_count": 46,
   "metadata": {},
   "outputs": [],
   "source": [
    "def mrmrSelection(dataframe, nFeature, debug_mode=False):\n",
    "    \"\"\"Perform MRMR on the passed in data. \n",
    "\n",
    "        This function performs feature selection based on the mRMRe feature selection. \n",
    "        It utilizes the mRMRe package originally written in R. A python wrapper for R is\n",
    "        used here. The eMRMRe returns a list of the selected column indices given the \n",
    "        number of features to be selected. \n",
    "\n",
    "        Arguments\n",
    "        ---------\n",
    "            dataframe: pandas.DataFrame\n",
    "                The dataframe containing clustered data. \n",
    "        Returns\n",
    "        -------\n",
    "            df_: pandas.DataFrame\n",
    "                The dataframe with only selected columns.\n",
    "            labels: pandas.DataFrame\n",
    "                The dataframe of only the labels\n",
    "            colum_indices: list\n",
    "                The list of indices of the selected columns\n",
    "    \"\"\" \n",
    "    base = importr('base')\n",
    "    mr = importr('mRMRe')\n",
    "    \n",
    "    pandas2ri.activate()\n",
    "    # Convert the data into R format\n",
    "    with localconverter(ro.default_converter + pandas2ri.converter):\n",
    "        rdataframe = ro.conversion.py2rpy(dataframe)\n",
    "    mrmrData = mr.mRMR_data(data = (rdataframe))\n",
    "    solutionCount = 1  # can i change the value for solutionCount???\n",
    "    selectionEnsemble = mr.mRMR_ensemble(\"mRMRe.Data\",data = mrmrData, target_indices = (dataframe.shape[1]),\n",
    "          feature_count = nFeature, solution_count = solutionCount)\n",
    "    colum_indices = column_indices=(mr.solutions(selectionEnsemble)[0]-1)\n",
    "\n",
    "    df_ = pd.DataFrame()\n",
    "    for i,v in enumerate(colum_indices):\n",
    "        df_[i] = dataframe[v[0]]\n",
    "\n",
    "    labels = dataframe.iloc[:,-1]\n",
    "\n",
    "    colum_indices = list(np.reshape(colum_indices,(1,-1))[0])\n",
    "\n",
    "    if debug_mode:\n",
    "        print(\"colum_indices\", colum_indices)\n",
    "\n",
    "    return df_, labels, colum_indices"
   ]
  },
  {
   "cell_type": "code",
   "execution_count": 47,
   "metadata": {},
   "outputs": [],
   "source": [
    "################################################# Statistical Contrast #################################################\n",
    "def t_test(X, y):\n",
    "    \n",
    "    def separate(X, y):\n",
    "        # Y is the classes (1=stable, 2=progressor)\n",
    "        P_X, S_X = [], []\n",
    "        for i in range(X.shape[0]):\n",
    "            if  y[i] == 1:\n",
    "                S_X.append(X[i])\n",
    "            elif y[i] == 2:\n",
    "                P_X.append(X[i])\n",
    "        return np.asarray(P_X), np.asarray(S_X)\n",
    "\n",
    "    def t_test(P, S, y):\n",
    "        t_vals = []\n",
    "        for i in range(P.shape[1]):\n",
    "            t_score, p_val = stats.ttest_ind(P[:,i], S[:,i])\n",
    "            tuple_ = (t_score, p_val)\n",
    "            t_vals.append((tuple_, i))\n",
    "        return t_vals\n",
    "\n",
    "    def select(X, y, t_vals, percentage=.1):\n",
    "        total_nfeatures = X.shape[1]\n",
    "        filtered_nfeatures = math.ceil(total_nfeatures*percentage)\n",
    "        # print(\"total_nfeatures: \",total_nfeatures)\n",
    "        # print(\"filtered_nfeatures\", filtered_nfeatures)\n",
    "        sorted_t_val = sorted(t_vals, key=lambda tup: tup[0][0], reverse=True)\n",
    "        selected_indices = [i[1] for i in sorted_t_val[:filtered_nfeatures]]\n",
    "        sorted_selected_indices = sorted(selected_indices)\n",
    "        X_reduced = X[:,sorted_selected_indices]\n",
    "        return X_reduced, sorted_selected_indices\n",
    "    \n",
    "    P_X, S_X = separate(X, y)\n",
    "    t_vals = t_test(P_X, S_X, y)\n",
    "    X_reduced, selected_indices = select(X, y, t_vals)\n",
    "    return X_reduced, selected_indices"
   ]
  },
  {
   "cell_type": "code",
   "execution_count": 48,
   "metadata": {},
   "outputs": [],
   "source": [
    "def computeSampleWeight(y_train_selected, num_P, weight):\n",
    "    sample_weight = np.ones(len(y_train_selected))\n",
    "    range_P = np.arange(num_P)\n",
    "    for i,v in enumerate(y_train_selected):\n",
    "        if v in range_P:\n",
    "            sample_weight[i] = weight * sample_weight[i]\n",
    "    return sample_weight"
   ]
  },
  {
   "cell_type": "code",
   "execution_count": 49,
   "metadata": {},
   "outputs": [],
   "source": [
    "def apply(X_train, y_train, X_test, y_test, num_P, num_S, nFeatures, classifier, weighting, column_indices, dataset):\n",
    "    combat_step = Combatstep()\n",
    "    X_train_harmonized = combat_step.fit_transform(X_train, y_train)\n",
    "    X_test_harmonized = combat_step.transform(X_test, y_test)\n",
    "    \n",
    "    if dataset=='c' or dataset=='i':\n",
    "    \n",
    "        train_sex = X_train_harmonized[:,-1].reshape(-1,1)\n",
    "        train_age = X_train_harmonized[:,-2].reshape(-1,1)\n",
    "        train_age_sex_data = np.concatenate((train_age, train_sex), axis=1)\n",
    "        \n",
    "        X_train_harmonized_without_age_sex = X_train_harmonized[:,:-2]\n",
    "        \n",
    "        X_train_ttest_without_age_sex, columns_ttest = t_test(X_train_harmonized_without_age_sex, y_train)\n",
    "        X_train_ttest_with_age_sex = np.concatenate((X_train_ttest_without_age_sex, train_age_sex_data), axis=1)\n",
    "    \n",
    "        test_sex = X_test_harmonized[:,-1].reshape(-1, 1)\n",
    "        test_age = X_test_harmonized[:,-2].reshape(-1, 1)\n",
    "        test_age_sex_data = np.concatenate((test_age, test_sex), axis=1)\n",
    "        \n",
    "        X_test_harmonized_without_age_sex = X_test_harmonized[:,:-2]\n",
    "        X_test_ttest_without_age_sex = X_test_harmonized_without_age_sex[:,columns_ttest]\n",
    "        X_test_ttest_with_age_sex = np.concatenate((X_test_ttest_without_age_sex, test_age_sex_data), axis=1)\n",
    "    \n",
    "    else:\n",
    "        X_train_ttest_with_age_sex = X_train_harmonized\n",
    "        X_test_ttest_with_age_sex = X_test_harmonized\n",
    "    \n",
    "    integrated_clustering = Clustering()\n",
    "    integrated_clustering.setNumP(num_P)\n",
    "    integrated_clustering.setNumS(num_S)\n",
    "    \n",
    "    X_train_clustered, y_train_new = integrated_clustering.transform(X_train_ttest_with_age_sex, y_train)\n",
    "    \n",
    "    y_train_selected = y_train_new\n",
    "\n",
    "    X_test_combined = np.concatenate(\n",
    "        (X_test_harmonized, np.reshape(y_test, (-1, 1))), axis=1)\n",
    "    \n",
    "    if dataset!='s':\n",
    "        check = True\n",
    "        for item in column_indices:\n",
    "            if item not in columns_ttest:\n",
    "                check = False\n",
    "#         check = all(item in columns_ttest for item in column_indices)\n",
    "\n",
    "    else:\n",
    "        check = True\n",
    "        \n",
    "    if check != True:\n",
    "        print(\"xxxxxxxxxxxxxx === check === xxxxxxxxxxxxxxxx\" ,check)\n",
    "        raise Exception(\"Feature selection not matched!\")\n",
    "    \n",
    "    y_test_selected = X_test_combined[:, -1]\n",
    "    test_sex = X_test_combined[:,-2].reshape(-1, 1)\n",
    "    test_age = X_test_combined[:,-3].reshape(-1, 1)\n",
    "    \n",
    "    \n",
    "    X_train_harmonized_without_age_sex = X_train_harmonized[:,:-2]\n",
    "    train_sex = X_train_harmonized[:,-1].reshape(-1,1)\n",
    "    train_age = X_train_harmonized[:,-2].reshape(-1,1)\n",
    "    train_age_sex_data = np.concatenate((train_age, train_sex), axis=1)\n",
    "    \n",
    "    X_train_selected = X_train_harmonized_without_age_sex[:,column_indices]\n",
    "    X_train_selected_with_age_sex = np.concatenate((X_train_selected, train_age_sex_data), axis=1)\n",
    "\n",
    "    y_test_selected = y_test\n",
    "    X_test_selected = X_test_harmonized[:,column_indices]\n",
    "    X_test_selected_with_age_sex = np.concatenate((X_test_selected, test_age_sex_data), axis=1)    \n",
    "    \n",
    "    sample_weights = computeSampleWeight(y_train_selected, num_P, weighting)\n",
    "    \n",
    "    # classification step\n",
    "    if classifier == 0:\n",
    "        clf = SVC()\n",
    "        clf.fit(X_train_selected_with_age_sex, y_train_selected, sample_weight=sample_weights)\n",
    "        pred_y = clf.predict(X_test_selected_with_age_sex)\n",
    "        return num_P, num_S, nFeatures, classifier, weighting, pred_y, y_test_selected\n",
    "    \n",
    "    elif classifier == 1:\n",
    "        clf = RandomForestClassifier(random_state=0)\n",
    "        clf.fit(X_train_selected_with_age_sex, y_train_selected,  sample_weight=sample_weights)\n",
    "        pred_y = clf.predict(X_test_selected_with_age_sex)\n",
    "        return num_P, num_S, nFeatures, classifier, weighting, pred_y, y_test_selected\n",
    "    \n",
    "    else: \n",
    "        clf = LogisticRegression(random_state=0, max_iter=5000)\n",
    "        clf.fit(X_train_selected_with_age_sex, y_train_selected,  sample_weight=sample_weights)\n",
    "        pred_y = clf.predict(X_test_selected_with_age_sex)\n",
    "        return num_P, num_S, nFeatures, classifier, weighting, pred_y, y_test_selected"
   ]
  },
  {
   "cell_type": "code",
   "execution_count": 50,
   "metadata": {},
   "outputs": [],
   "source": [
    "# def apply(X_train, y_train, X_test, y_test, num_P, num_S, nFeatures, classifier, weighting, column_indices):\n",
    "#     combat_step = Combatstep()\n",
    "#     X_train_harmonized = combat_step.fit_transform(X_train, y_train)\n",
    "#     X_test_harmonized = combat_step.transform(X_test, y_test)\n",
    "    \n",
    "#     train_sex = X_train_harmonized[:,-1].reshape(-1,1)\n",
    "#     train_age = X_train_harmonized[:,-2].reshape(-1,1)\n",
    "#     train_age_sex_data = np.concatenate((train_age, train_sex), axis=1)\n",
    "    \n",
    "#     test_sex = X_test_harmonized[:,-1].reshape(-1, 1)\n",
    "#     test_age = X_test_harmonized[:,-2].reshape(-1, 1)\n",
    "#     test_age_sex_data = np.concatenate((test_age, test_sex), axis=1)\n",
    "    \n",
    "#     integrated_clustering = Clustering()\n",
    "#     integrated_clustering.setNumP(num_P)\n",
    "#     integrated_clustering.setNumS(num_S)\n",
    "    \n",
    "#     X_train_clustered, y_train_new = integrated_clustering.transform(X_train_harmonized, y_train)\n",
    "#     # X_test_combined = np.concatenate((X_test_harmonized, np.reshape(y_test,(-1,1))), axis=1)\n",
    "# #     print(\"X_train_clustered.shape\", X_train_clustered.shape)\n",
    "#     y_train_selected = y_train_new\n",
    "#     X_train_selected = X_train_clustered[:,column_indices]\n",
    "    \n",
    "#     X_train_selected_with_age_sex = np.concatenate((X_train_selected, train_age_sex_data), axis=1)\n",
    "\n",
    "#     y_test_selected = y_test\n",
    "#     X_test_selected = X_test_harmonized[:,column_indices]\n",
    "    \n",
    "#     X_test_selected_with_age_sex = np.concatenate((X_test_selected, test_age_sex_data), axis=1)    \n",
    "    \n",
    "#     sample_weights = computeSampleWeight(y_train_selected, num_P, weighting)\n",
    "    \n",
    "#     # classification step\n",
    "#     if classifier == 0:\n",
    "#         clf = SVC()\n",
    "#         clf.fit(X_train_selected_with_age_sex, y_train_selected, sample_weight=sample_weights)\n",
    "#         pred_y = clf.predict(X_test_selected_with_age_sex)\n",
    "#         return num_P, num_S, nFeatures, classifier, weighting, pred_y, y_test_selected\n",
    "    \n",
    "#     elif classifier == 1:\n",
    "#         clf = RandomForestClassifier(random_state=0)\n",
    "#         clf.fit(X_train_selected_with_age_sex, y_train_selected,  sample_weight=sample_weights)\n",
    "#         pred_y = clf.predict(X_test_selected_with_age_sex)\n",
    "#         return num_P, num_S, nFeatures, classifier, weighting, pred_y, y_test_selected\n",
    "    \n",
    "#     else: \n",
    "#         clf = LogisticRegression(random_state=0, max_iter=5000)\n",
    "#         clf.fit(X_train_selected_with_age_sex, y_train_selected,  sample_weight=sample_weights)\n",
    "#         pred_y = clf.predict(X_test_selected_with_age_sex)\n",
    "#         return num_P, num_S, nFeatures, classifier, weighting, pred_y, y_test_selected"
   ]
  },
  {
   "cell_type": "code",
   "execution_count": 51,
   "metadata": {},
   "outputs": [],
   "source": [
    "def calculateCorrectlyClassifiedSubjects(y_pred, y_act, test_indexes, subtype, num_P, num_S):\n",
    "    \"\"\"Function to calculate the number of correctly classified instances.\n",
    "    \n",
    "    Arguments\n",
    "    ---------\n",
    "        y_pred: numpy.array\n",
    "            Array of predicted results.\n",
    "        y_act: numpy.array\n",
    "            Array of actual results.\n",
    "        test_indexes: list\n",
    "            List of test indexes.\n",
    "        subtype: int\n",
    "            The subtype.\n",
    "        num_P: int\n",
    "            Number of Progressor subtypes.\n",
    "        num_S: int\n",
    "            Number of Stable subtypes.\n",
    "        weighting: int\n",
    "            Weighting value for classifier.\n",
    "        \n",
    "    Returns\n",
    "    -------\n",
    "        count: int\n",
    "            Number of correctly classified instances.\n",
    "        index_of_intances_correctly_classified: list\n",
    "            Indexes of intances correctly classified.\n",
    "    \"\"\"\n",
    "    count = 0\n",
    "    \n",
    "    n_class = num_P + num_S\n",
    "    \n",
    "    P_range, S_range = np.arange(0,num_P), np.arange(num_P, n_class)  \n",
    "    \n",
    "    index_of_intances_correctly_classified = []\n",
    "    \n",
    "    if subtype in P_range:\n",
    "        for i in range(len(y_pred)):\n",
    "            # (1=stable, 2=progressor)\n",
    "            if y_pred[i] == subtype and y_act[i] == 2:\n",
    "                count += 1\n",
    "                index_of_intances_correctly_classified.append(test_indexes[i])\n",
    "    \n",
    "    else:\n",
    "        for i in range(len(y_pred)):\n",
    "            if y_pred[i] == subtype and y_act[i] == 1:\n",
    "                count += 1 \n",
    "                index_of_intances_correctly_classified.append(test_indexes[i])\n",
    "                \n",
    "    return count, index_of_intances_correctly_classified"
   ]
  },
  {
   "cell_type": "code",
   "execution_count": 52,
   "metadata": {},
   "outputs": [],
   "source": [
    "################################################# Helper Functions to Compute PPV #################################################\n",
    "\n",
    "def TP(y_actual, y_pred):\n",
    "    TP = 0\n",
    "    for i in range(len(y_actual)):\n",
    "        if y_actual[i] == y_pred[i] == 1:\n",
    "            TP += 1\n",
    "    return TP\n",
    "\n",
    "# False positive value\n",
    "\n",
    "\n",
    "def FP(y_actual, y_pred):\n",
    "    FP = 0\n",
    "    for i in range(len(y_actual)):\n",
    "        if y_pred[i] == 1 and y_actual[i] != y_pred[i]:\n",
    "            FP += 1\n",
    "    return FP\n",
    "\n",
    "# True negative value\n",
    "\n",
    "\n",
    "def TN(y_actual, y_pred):\n",
    "    TN = 0\n",
    "    for i in range(len(y_actual)):\n",
    "        if y_actual[i] == y_pred[i] == 0:\n",
    "            TN += 1\n",
    "    return TN\n",
    "\n",
    "# False negative value\n",
    "\n",
    "\n",
    "def FN(y_actual, y_pred):\n",
    "    FN = 0\n",
    "    for i in range(len(y_actual)):\n",
    "        if y_pred[i] == 0 and y_actual[i] != y_pred[i]:\n",
    "            FN += 1\n",
    "    return FN\n",
    "\n",
    "# tp / (tp + fp)\n",
    "\n",
    "\n",
    "def precision(y_act, y_pred):\n",
    "    tp = TP(y_act, y_pred)\n",
    "    fp = FP(y_act, y_pred)\n",
    "    if tp + fp == 0:\n",
    "        return 0\n",
    "    return tp / (tp + fp)\n",
    "\n",
    "\n",
    "def binarize(label, arr):\n",
    "    arr_copy = arr.copy()\n",
    "    for i, v in enumerate(arr_copy):\n",
    "        if v == label:\n",
    "            arr_copy[i] = 1\n",
    "        else:\n",
    "            arr_copy[i] = 0\n",
    "    return arr_copy\n",
    "\n",
    "# (1=stable, 2=progressor)\n",
    "\n",
    "\n",
    "def binarizeP(arr):\n",
    "    arr_copy = arr.copy()\n",
    "    for i, v in enumerate(arr_copy):\n",
    "        if v == 2:\n",
    "            arr_copy[i] = 1\n",
    "        else:\n",
    "            arr_copy[i] = 0\n",
    "    return arr_copy\n",
    "\n",
    "# (1=stable, 2=progressor)\n",
    "\n",
    "\n",
    "def binarizeS(arr):\n",
    "    arr_copy = arr.copy()\n",
    "    for i, v in enumerate(arr_copy):\n",
    "        if v == 1:\n",
    "            arr_copy[i] = 1\n",
    "        else:\n",
    "            arr_copy[i] = 0\n",
    "    return arr_copy\n",
    "\n",
    "\n",
    "# P: [0, 1, 2]  num_P = 3\n",
    "# S: [3, 4, 5]  num_S = 3\n",
    "# n_class = 6\n",
    "\n",
    "def computePPV(numP, numS, y_pred, y_act):\n",
    "    n_class = numP + numS\n",
    "    P_range, S_range = np.arange(0, numP), np.arange(numP, n_class)\n",
    "    dic = {}\n",
    "    # print(\"y_act\",y_act)\n",
    "    for i in range(n_class):\n",
    "        # print(\"class label:\", i)\n",
    "        if (i in P_range):\n",
    "            # print(\"%d in P class\" %(i))\n",
    "            y_p = binarize(i, y_pred)\n",
    "            # print(\"predicted y after binarization\", y_p)\n",
    "            y_a = binarizeP(y_act)\n",
    "            # print(\"actual y after binarization of P\", y_a)\n",
    "            score = precision(y_a, y_p)\n",
    "        else:\n",
    "            # print(\"%d in S class\" %(i))\n",
    "            y_p = binarize(i, y_pred)\n",
    "            # print(\"predicted y after binarization\", y_p)\n",
    "            y_a = binarizeS(y_act)\n",
    "            # print(\"actual y after binarization of S\", y_a)\n",
    "            score = precision(y_a, y_p)\n",
    "        dic[i] = score\n",
    "    return dic\n",
    "\n",
    "def computeTP(numP, numS, subtype, y_pred, y_act, test_index):\n",
    "    n_class = numP + numS\n",
    "    P_range, S_range = np.arange(0, numP), np.arange(numP, n_class)\n",
    "    if (subtype in P_range):\n",
    "        y_p = binarize(subtype, y_pred)\n",
    "        y_a = binarizeP(y_act)\n",
    "        TP, FP = 0,0\n",
    "        TP_index, FP_index = [], []\n",
    "        for i in range(len(y_a)):\n",
    "            if y_a[i] == y_p[i] == 1:\n",
    "                TP += 1\n",
    "                TP_index.append(test_index[i])\n",
    "        for i in range(len(y_a)):\n",
    "            if y_p[i] == 1 and y_a[i] != y_p[i]:\n",
    "                FP += 1\n",
    "                FP_index.append(test_index[i])\n",
    "        return TP_index, FP_index\n",
    "    \n",
    "    else:\n",
    "#         (subtype in S_range):\n",
    "        y_p = binarize(subtype, y_pred)\n",
    "        y_a = binarizeS(y_act)\n",
    "        TP, FP = 0,0\n",
    "        TP_index, FP_index = [], []\n",
    "        for i in range(len(y_a)):\n",
    "            if y_a[i] == y_p[i] == 1:\n",
    "                TP += 1\n",
    "                TP_index.append(test_index[i])\n",
    "        for i in range(len(y_a)):\n",
    "            if y_p[i] == 1 and y_a[i] != y_p[i]:\n",
    "                FP += 1\n",
    "                FP_index.append(test_index[i])\n",
    "        return TP_index, FP_index     "
   ]
  },
  {
   "cell_type": "code",
   "execution_count": 53,
   "metadata": {},
   "outputs": [
    {
     "name": "stdout",
     "output_type": "stream",
     "text": [
      "(515, 56956)\n"
     ]
    }
   ],
   "source": [
    "# train_index = outer_train_index[outer]\n",
    "# test_index = outer_test_index[outer]\n",
    "\n",
    "X_train = X_data[train_scan_index]\n",
    "y_train = Y[train_scan_index]\n",
    "X_test = X_data[test_scan_index]\n",
    "y_test = Y[test_scan_index]\n",
    "\n",
    "print(X_train.shape)"
   ]
  },
  {
   "cell_type": "code",
   "execution_count": 54,
   "metadata": {
    "scrolled": true
   },
   "outputs": [
    {
     "name": "stdout",
     "output_type": "stream",
     "text": [
      "[[-0.062971 -0.21336  -0.2084   ...  0.713     0.5       1.      ]\n",
      " [ 0.18076   0.065763  0.21935  ...  0.716     0.5       1.      ]\n",
      " [ 0.16062   0.23097   0.24299  ...  0.718     0.5       1.      ]\n",
      " ...\n",
      " [-0.14228   0.23516   0.78787  ...  0.72789   0.5       6.      ]\n",
      " [ 1.3441    0.99949   1.4091   ...  0.68846   1.        5.      ]\n",
      " [ 0.83527   0.35159   0.99831  ...  0.78085   1.        5.      ]]\n",
      "[2. 2. 2. 2. 2. 2. 2. 2. 2. 2. 2. 2. 2. 2. 2. 2. 2. 2. 2. 2. 2. 2. 2. 2.\n",
      " 2. 2. 2. 2. 2. 2. 2. 2. 2. 2. 2. 2. 2. 2. 2. 2. 2. 2. 2. 2. 2. 2. 2. 2.\n",
      " 2. 2. 2. 2. 2. 2. 2. 2. 2. 2. 2. 2. 2. 2. 2. 2. 2. 2. 2. 2. 2. 2. 2. 2.\n",
      " 2. 2. 2. 2. 2. 2. 2. 2. 2. 2. 2. 2. 2. 2. 2. 2. 2. 2. 2. 2. 2. 2. 2. 2.\n",
      " 2. 2. 2. 2. 2. 2. 2. 2. 2. 2. 2. 2. 2. 2. 2. 2. 2. 2. 2. 2. 2. 2. 2. 2.\n",
      " 2. 2. 2. 2. 2. 2. 2. 2. 2. 2. 2. 2. 2. 2. 2. 2. 2. 2. 2. 2. 2. 2. 2. 2.\n",
      " 2. 2. 2. 2. 2. 2. 2. 2. 2. 2. 2. 2. 2. 2. 2. 2. 2. 2. 2. 2. 2. 2. 2. 2.\n",
      " 2. 2. 2. 2. 2. 2. 2. 2. 2. 2. 2. 2. 2. 2. 2. 2. 2. 2. 2. 2. 2. 2. 2. 2.\n",
      " 1. 1. 1. 1. 1. 1. 1. 1. 1. 1. 1. 1. 1. 1. 1. 1. 1. 1. 1. 1. 1. 1. 1. 1.\n",
      " 1. 1. 1. 1. 1. 1. 1. 1. 1. 1. 1. 1. 1. 1. 1. 1. 1. 1. 1. 1. 1. 1. 1. 1.\n",
      " 1. 1. 1. 1. 1. 1. 1. 1. 1. 1. 1. 1. 1. 1. 1. 1. 1. 1. 1. 1. 1. 1. 1. 1.\n",
      " 1. 1. 1. 1. 1. 1. 1. 1. 1. 1. 1. 1. 1. 1. 1. 1. 1. 1. 1. 1. 1. 1. 1. 1.\n",
      " 1. 1. 1. 1. 1. 1. 1. 1. 1. 1. 1. 1. 1. 1. 1. 1. 1. 1. 1. 1. 1. 1. 1. 1.\n",
      " 1. 1. 1. 1. 1. 1. 1. 1. 1. 1. 1. 1. 1. 1. 1. 1. 1. 1. 1. 1. 1. 1. 1. 1.\n",
      " 1. 1. 1. 1. 1. 1. 1. 1. 1. 1. 1. 1. 1. 1. 1. 1. 1. 1. 1. 1. 1. 1. 1. 1.\n",
      " 1. 1. 1. 1. 1. 1. 1. 1. 1. 1. 1. 1. 1. 1. 1. 1. 1. 1. 1. 1. 1. 1. 1. 1.\n",
      " 1. 1. 1. 1. 1. 1. 1. 1. 1. 1. 1. 1. 1. 1. 1. 1. 1. 1. 1. 1. 1. 1. 1. 1.\n",
      " 1. 1. 1. 1. 1. 1. 1. 1. 1. 1. 1. 1. 1. 1. 1. 1. 1. 1. 1. 1. 1. 1. 1. 1.\n",
      " 1. 1. 1. 1. 1. 1. 1. 1. 1. 1. 1. 1. 1. 1. 1. 1. 1. 1. 1. 1. 1. 1. 1. 1.\n",
      " 1. 1. 1. 1. 1. 1. 1. 1. 1. 1. 1. 1. 1. 1. 1. 1. 1. 1. 1. 1. 1. 1. 1. 1.\n",
      " 1. 1. 1. 1. 1. 1. 1. 1. 1. 1. 1. 1. 1. 1. 1. 1. 1. 1. 1. 1. 1. 1. 1. 1.\n",
      " 1. 1. 1. 1. 1. 1. 1. 1. 1. 1. 1.]\n"
     ]
    }
   ],
   "source": [
    "print(X_train)\n",
    "print(y_train)"
   ]
  },
  {
   "cell_type": "code",
   "execution_count": 55,
   "metadata": {},
   "outputs": [],
   "source": [
    "row = ['PPV of interested subtype',\n",
    "                    'Interested subtype',\n",
    "                    'Index of intances correctly classified of interested type',\n",
    "                    'Index of instances incorrectly classified into the interested type',\n",
    "                    'Number of correctly classified instances',\n",
    "                    'Number of Progressor Subtypes', \n",
    "                    'Number of Stable Subtypes', \n",
    "                    'Number of Features', \n",
    "                    'Classifier', \n",
    "                    'Weighting',\n",
    "                    'pred_y',\n",
    "                    'act_y',\n",
    "                    'test_index',\n",
    "                    'PPVs'\n",
    "          ]\n",
    "\n",
    "result_df = pd.DataFrame(columns = row)"
   ]
  },
  {
   "cell_type": "code",
   "execution_count": 56,
   "metadata": {},
   "outputs": [
    {
     "name": "stdout",
     "output_type": "stream",
     "text": [
      "nFeatures  13\n"
     ]
    },
    {
     "name": "stderr",
     "output_type": "stream",
     "text": [
      "/opt/anaconda3/lib/python3.7/site-packages/sklearn/manifold/_spectral_embedding.py:236: UserWarning: Graph is not fully connected, spectral embedding may not work as expected.\n",
      "  warnings.warn(\"Graph is not fully connected, spectral embedding\"\n",
      "/opt/anaconda3/lib/python3.7/site-packages/sklearn/manifold/_spectral_embedding.py:236: UserWarning: Graph is not fully connected, spectral embedding may not work as expected.\n",
      "  warnings.warn(\"Graph is not fully connected, spectral embedding\"\n"
     ]
    },
    {
     "name": "stdout",
     "output_type": "stream",
     "text": [
      "continued\n",
      "{0: 0.7058823529411765, 1: 0, 2: 0, 3: 0, 4: 0.4625, 5: 0, 6: 0, 7: 0}\n",
      "nFeatures  30\n"
     ]
    },
    {
     "name": "stderr",
     "output_type": "stream",
     "text": [
      "/opt/anaconda3/lib/python3.7/site-packages/sklearn/manifold/_spectral_embedding.py:236: UserWarning: Graph is not fully connected, spectral embedding may not work as expected.\n",
      "  warnings.warn(\"Graph is not fully connected, spectral embedding\"\n",
      "/opt/anaconda3/lib/python3.7/site-packages/sklearn/manifold/_spectral_embedding.py:236: UserWarning: Graph is not fully connected, spectral embedding may not work as expected.\n",
      "  warnings.warn(\"Graph is not fully connected, spectral embedding\"\n"
     ]
    },
    {
     "name": "stdout",
     "output_type": "stream",
     "text": [
      "continued\n",
      "{0: 0.5555555555555556, 1: 0, 2: 0, 3: 0, 4: 0.43037974683544306, 5: 0, 6: 0, 7: 0}\n",
      "nFeatures  37\n"
     ]
    },
    {
     "name": "stderr",
     "output_type": "stream",
     "text": [
      "/opt/anaconda3/lib/python3.7/site-packages/sklearn/manifold/_spectral_embedding.py:236: UserWarning: Graph is not fully connected, spectral embedding may not work as expected.\n",
      "  warnings.warn(\"Graph is not fully connected, spectral embedding\"\n",
      "/opt/anaconda3/lib/python3.7/site-packages/sklearn/manifold/_spectral_embedding.py:236: UserWarning: Graph is not fully connected, spectral embedding may not work as expected.\n",
      "  warnings.warn(\"Graph is not fully connected, spectral embedding\"\n"
     ]
    },
    {
     "name": "stdout",
     "output_type": "stream",
     "text": [
      "continued\n",
      "{0: 0.6363636363636364, 1: 0, 2: 0, 3: 0, 4: 0.4533333333333333, 5: 0, 6: 0, 7: 0}\n",
      "nFeatures  37\n"
     ]
    },
    {
     "name": "stderr",
     "output_type": "stream",
     "text": [
      "/opt/anaconda3/lib/python3.7/site-packages/sklearn/manifold/_spectral_embedding.py:236: UserWarning: Graph is not fully connected, spectral embedding may not work as expected.\n",
      "  warnings.warn(\"Graph is not fully connected, spectral embedding\"\n",
      "/opt/anaconda3/lib/python3.7/site-packages/sklearn/manifold/_spectral_embedding.py:236: UserWarning: Graph is not fully connected, spectral embedding may not work as expected.\n",
      "  warnings.warn(\"Graph is not fully connected, spectral embedding\"\n"
     ]
    },
    {
     "name": "stdout",
     "output_type": "stream",
     "text": [
      "continued\n",
      "{0: 0.6363636363636364, 1: 0, 2: 0, 3: 0, 4: 0.4533333333333333, 5: 0, 6: 0, 7: 0}\n",
      "nFeatures  28\n"
     ]
    },
    {
     "name": "stderr",
     "output_type": "stream",
     "text": [
      "/opt/anaconda3/lib/python3.7/site-packages/sklearn/manifold/_spectral_embedding.py:236: UserWarning: Graph is not fully connected, spectral embedding may not work as expected.\n",
      "  warnings.warn(\"Graph is not fully connected, spectral embedding\"\n",
      "/opt/anaconda3/lib/python3.7/site-packages/sklearn/manifold/_spectral_embedding.py:236: UserWarning: Graph is not fully connected, spectral embedding may not work as expected.\n",
      "  warnings.warn(\"Graph is not fully connected, spectral embedding\"\n"
     ]
    },
    {
     "name": "stdout",
     "output_type": "stream",
     "text": [
      "continued\n",
      "{0: 0.5633802816901409, 1: 0, 2: 0, 3: 0.4230769230769231, 4: 0, 5: 0, 6: 0}\n",
      "nFeatures  37\n"
     ]
    },
    {
     "name": "stderr",
     "output_type": "stream",
     "text": [
      "/opt/anaconda3/lib/python3.7/site-packages/sklearn/manifold/_spectral_embedding.py:236: UserWarning: Graph is not fully connected, spectral embedding may not work as expected.\n",
      "  warnings.warn(\"Graph is not fully connected, spectral embedding\"\n",
      "/opt/anaconda3/lib/python3.7/site-packages/sklearn/manifold/_spectral_embedding.py:236: UserWarning: Graph is not fully connected, spectral embedding may not work as expected.\n",
      "  warnings.warn(\"Graph is not fully connected, spectral embedding\"\n"
     ]
    },
    {
     "name": "stdout",
     "output_type": "stream",
     "text": [
      "continued\n",
      "{0: 0.5342465753424658, 1: 0, 2: 0, 3: 0.3333333333333333, 4: 0, 5: 0, 6: 0}\n",
      "nFeatures  18\n"
     ]
    },
    {
     "name": "stderr",
     "output_type": "stream",
     "text": [
      "/opt/anaconda3/lib/python3.7/site-packages/sklearn/manifold/_spectral_embedding.py:236: UserWarning: Graph is not fully connected, spectral embedding may not work as expected.\n",
      "  warnings.warn(\"Graph is not fully connected, spectral embedding\"\n",
      "/opt/anaconda3/lib/python3.7/site-packages/sklearn/manifold/_spectral_embedding.py:236: UserWarning: Graph is not fully connected, spectral embedding may not work as expected.\n",
      "  warnings.warn(\"Graph is not fully connected, spectral embedding\"\n"
     ]
    },
    {
     "name": "stdout",
     "output_type": "stream",
     "text": [
      "continued\n",
      "{0: 0.5492957746478874, 1: 0, 2: 0, 3: 0.38461538461538464, 4: 0, 5: 0, 6: 0}\n",
      "nFeatures  13\n"
     ]
    },
    {
     "name": "stderr",
     "output_type": "stream",
     "text": [
      "/opt/anaconda3/lib/python3.7/site-packages/sklearn/manifold/_spectral_embedding.py:236: UserWarning: Graph is not fully connected, spectral embedding may not work as expected.\n",
      "  warnings.warn(\"Graph is not fully connected, spectral embedding\"\n",
      "/opt/anaconda3/lib/python3.7/site-packages/sklearn/manifold/_spectral_embedding.py:236: UserWarning: Graph is not fully connected, spectral embedding may not work as expected.\n",
      "  warnings.warn(\"Graph is not fully connected, spectral embedding\"\n"
     ]
    },
    {
     "name": "stdout",
     "output_type": "stream",
     "text": [
      "continued\n",
      "{0: 0.6, 1: 0, 2: 0, 3: 0, 4: 0.44155844155844154, 5: 0, 6: 0, 7: 0}\n",
      "nFeatures  28\n"
     ]
    },
    {
     "name": "stderr",
     "output_type": "stream",
     "text": [
      "/opt/anaconda3/lib/python3.7/site-packages/sklearn/manifold/_spectral_embedding.py:236: UserWarning: Graph is not fully connected, spectral embedding may not work as expected.\n",
      "  warnings.warn(\"Graph is not fully connected, spectral embedding\"\n",
      "/opt/anaconda3/lib/python3.7/site-packages/sklearn/manifold/_spectral_embedding.py:236: UserWarning: Graph is not fully connected, spectral embedding may not work as expected.\n",
      "  warnings.warn(\"Graph is not fully connected, spectral embedding\"\n"
     ]
    },
    {
     "name": "stdout",
     "output_type": "stream",
     "text": [
      "continued\n",
      "{0: 0.5294117647058824, 1: 0, 2: 0, 3: 0, 4: 0.425, 5: 0, 6: 0, 7: 0}\n",
      "nFeatures  37\n"
     ]
    },
    {
     "name": "stderr",
     "output_type": "stream",
     "text": [
      "/opt/anaconda3/lib/python3.7/site-packages/sklearn/manifold/_spectral_embedding.py:236: UserWarning: Graph is not fully connected, spectral embedding may not work as expected.\n",
      "  warnings.warn(\"Graph is not fully connected, spectral embedding\"\n",
      "/opt/anaconda3/lib/python3.7/site-packages/sklearn/manifold/_spectral_embedding.py:236: UserWarning: Graph is not fully connected, spectral embedding may not work as expected.\n",
      "  warnings.warn(\"Graph is not fully connected, spectral embedding\"\n"
     ]
    },
    {
     "name": "stdout",
     "output_type": "stream",
     "text": [
      "continued\n",
      "{0: 0.5263157894736842, 1: 0, 2: 0, 3: 0, 4: 0.4230769230769231, 5: 0, 6: 0, 7: 0}\n",
      "nFeatures  32\n"
     ]
    },
    {
     "name": "stderr",
     "output_type": "stream",
     "text": [
      "/opt/anaconda3/lib/python3.7/site-packages/sklearn/manifold/_spectral_embedding.py:236: UserWarning: Graph is not fully connected, spectral embedding may not work as expected.\n",
      "  warnings.warn(\"Graph is not fully connected, spectral embedding\"\n",
      "/opt/anaconda3/lib/python3.7/site-packages/sklearn/manifold/_spectral_embedding.py:236: UserWarning: Graph is not fully connected, spectral embedding may not work as expected.\n",
      "  warnings.warn(\"Graph is not fully connected, spectral embedding\"\n"
     ]
    },
    {
     "name": "stdout",
     "output_type": "stream",
     "text": [
      "continued\n",
      "{0: 0.42857142857142855, 1: 0, 2: 0, 3: 0, 4: 0.40963855421686746, 5: 0, 6: 0, 7: 0}\n",
      "nFeatures  37\n"
     ]
    },
    {
     "name": "stderr",
     "output_type": "stream",
     "text": [
      "/opt/anaconda3/lib/python3.7/site-packages/sklearn/manifold/_spectral_embedding.py:236: UserWarning: Graph is not fully connected, spectral embedding may not work as expected.\n",
      "  warnings.warn(\"Graph is not fully connected, spectral embedding\"\n",
      "/opt/anaconda3/lib/python3.7/site-packages/sklearn/manifold/_spectral_embedding.py:236: UserWarning: Graph is not fully connected, spectral embedding may not work as expected.\n",
      "  warnings.warn(\"Graph is not fully connected, spectral embedding\"\n"
     ]
    },
    {
     "name": "stdout",
     "output_type": "stream",
     "text": [
      "continued\n",
      "{0: 0.5223880597014925, 1: 0, 2: 0.3333333333333333, 3: 0, 4: 0, 5: 0}\n",
      "nFeatures  22\n"
     ]
    },
    {
     "name": "stderr",
     "output_type": "stream",
     "text": [
      "/opt/anaconda3/lib/python3.7/site-packages/sklearn/manifold/_spectral_embedding.py:236: UserWarning: Graph is not fully connected, spectral embedding may not work as expected.\n",
      "  warnings.warn(\"Graph is not fully connected, spectral embedding\"\n",
      "/opt/anaconda3/lib/python3.7/site-packages/sklearn/manifold/_spectral_embedding.py:236: UserWarning: Graph is not fully connected, spectral embedding may not work as expected.\n",
      "  warnings.warn(\"Graph is not fully connected, spectral embedding\"\n"
     ]
    },
    {
     "name": "stdout",
     "output_type": "stream",
     "text": [
      "continued\n",
      "{0: 0.5277777777777778, 1: 0, 2: 0.32, 3: 0, 4: 0, 5: 0}\n",
      "nFeatures  13\n"
     ]
    },
    {
     "name": "stderr",
     "output_type": "stream",
     "text": [
      "/opt/anaconda3/lib/python3.7/site-packages/sklearn/manifold/_spectral_embedding.py:236: UserWarning: Graph is not fully connected, spectral embedding may not work as expected.\n",
      "  warnings.warn(\"Graph is not fully connected, spectral embedding\"\n",
      "/opt/anaconda3/lib/python3.7/site-packages/sklearn/manifold/_spectral_embedding.py:236: UserWarning: Graph is not fully connected, spectral embedding may not work as expected.\n",
      "  warnings.warn(\"Graph is not fully connected, spectral embedding\"\n"
     ]
    },
    {
     "name": "stdout",
     "output_type": "stream",
     "text": [
      "continued\n",
      "{0: 0.6, 1: 0, 2: 0.44155844155844154, 3: 0, 4: 0, 5: 0}\n",
      "nFeatures  29\n"
     ]
    },
    {
     "name": "stderr",
     "output_type": "stream",
     "text": [
      "/opt/anaconda3/lib/python3.7/site-packages/sklearn/manifold/_spectral_embedding.py:236: UserWarning: Graph is not fully connected, spectral embedding may not work as expected.\n",
      "  warnings.warn(\"Graph is not fully connected, spectral embedding\"\n",
      "/opt/anaconda3/lib/python3.7/site-packages/sklearn/manifold/_spectral_embedding.py:236: UserWarning: Graph is not fully connected, spectral embedding may not work as expected.\n",
      "  warnings.warn(\"Graph is not fully connected, spectral embedding\"\n"
     ]
    },
    {
     "name": "stdout",
     "output_type": "stream",
     "text": [
      "continued\n",
      "{0: 0.6363636363636364, 1: 0, 2: 0.4533333333333333, 3: 0, 4: 0, 5: 0}\n",
      "nFeatures  36\n"
     ]
    },
    {
     "name": "stderr",
     "output_type": "stream",
     "text": [
      "/opt/anaconda3/lib/python3.7/site-packages/sklearn/manifold/_spectral_embedding.py:236: UserWarning: Graph is not fully connected, spectral embedding may not work as expected.\n",
      "  warnings.warn(\"Graph is not fully connected, spectral embedding\"\n",
      "/opt/anaconda3/lib/python3.7/site-packages/sklearn/manifold/_spectral_embedding.py:236: UserWarning: Graph is not fully connected, spectral embedding may not work as expected.\n",
      "  warnings.warn(\"Graph is not fully connected, spectral embedding\"\n"
     ]
    },
    {
     "name": "stdout",
     "output_type": "stream",
     "text": [
      "continued\n",
      "{0: 0.6086956521739131, 1: 0, 2: 0.44594594594594594, 3: 0, 4: 0, 5: 0}\n",
      "nFeatures  25\n"
     ]
    },
    {
     "name": "stderr",
     "output_type": "stream",
     "text": [
      "/opt/anaconda3/lib/python3.7/site-packages/sklearn/manifold/_spectral_embedding.py:236: UserWarning: Graph is not fully connected, spectral embedding may not work as expected.\n",
      "  warnings.warn(\"Graph is not fully connected, spectral embedding\"\n",
      "/opt/anaconda3/lib/python3.7/site-packages/sklearn/manifold/_spectral_embedding.py:236: UserWarning: Graph is not fully connected, spectral embedding may not work as expected.\n",
      "  warnings.warn(\"Graph is not fully connected, spectral embedding\"\n"
     ]
    },
    {
     "name": "stdout",
     "output_type": "stream",
     "text": [
      "continued\n",
      "{0: 0.625, 1: 0, 2: 0.4520547945205479, 3: 0, 4: 0, 5: 0}\n",
      "nFeatures  6\n"
     ]
    },
    {
     "name": "stderr",
     "output_type": "stream",
     "text": [
      "/opt/anaconda3/lib/python3.7/site-packages/sklearn/manifold/_spectral_embedding.py:236: UserWarning: Graph is not fully connected, spectral embedding may not work as expected.\n",
      "  warnings.warn(\"Graph is not fully connected, spectral embedding\"\n",
      "/opt/anaconda3/lib/python3.7/site-packages/sklearn/manifold/_spectral_embedding.py:236: UserWarning: Graph is not fully connected, spectral embedding may not work as expected.\n",
      "  warnings.warn(\"Graph is not fully connected, spectral embedding\"\n"
     ]
    },
    {
     "name": "stdout",
     "output_type": "stream",
     "text": [
      "continued\n",
      "{0: 0.5625, 1: 0, 2: 0.0, 3: 0, 4: 0, 5: 0}\n",
      "nFeatures  37\n"
     ]
    },
    {
     "name": "stderr",
     "output_type": "stream",
     "text": [
      "/opt/anaconda3/lib/python3.7/site-packages/sklearn/manifold/_spectral_embedding.py:236: UserWarning: Graph is not fully connected, spectral embedding may not work as expected.\n",
      "  warnings.warn(\"Graph is not fully connected, spectral embedding\"\n",
      "/opt/anaconda3/lib/python3.7/site-packages/sklearn/manifold/_spectral_embedding.py:236: UserWarning: Graph is not fully connected, spectral embedding may not work as expected.\n",
      "  warnings.warn(\"Graph is not fully connected, spectral embedding\"\n"
     ]
    },
    {
     "name": "stdout",
     "output_type": "stream",
     "text": [
      "continued\n",
      "{0: 0.5428571428571428, 1: 0, 2: 0, 3: 0, 4: 0.37037037037037035, 5: 0, 6: 0, 7: 0}\n",
      "nFeatures  14\n"
     ]
    },
    {
     "name": "stderr",
     "output_type": "stream",
     "text": [
      "/opt/anaconda3/lib/python3.7/site-packages/sklearn/manifold/_spectral_embedding.py:236: UserWarning: Graph is not fully connected, spectral embedding may not work as expected.\n",
      "  warnings.warn(\"Graph is not fully connected, spectral embedding\"\n",
      "/opt/anaconda3/lib/python3.7/site-packages/sklearn/manifold/_spectral_embedding.py:236: UserWarning: Graph is not fully connected, spectral embedding may not work as expected.\n",
      "  warnings.warn(\"Graph is not fully connected, spectral embedding\"\n"
     ]
    },
    {
     "name": "stdout",
     "output_type": "stream",
     "text": [
      "continued\n",
      "{0: 0.5316455696202531, 1: 0, 2: 0, 3: 0, 4: 0.2777777777777778, 5: 0, 6: 0, 7: 0}\n",
      "nFeatures  3\n"
     ]
    },
    {
     "name": "stderr",
     "output_type": "stream",
     "text": [
      "/opt/anaconda3/lib/python3.7/site-packages/sklearn/manifold/_spectral_embedding.py:236: UserWarning: Graph is not fully connected, spectral embedding may not work as expected.\n",
      "  warnings.warn(\"Graph is not fully connected, spectral embedding\"\n",
      "/opt/anaconda3/lib/python3.7/site-packages/sklearn/manifold/_spectral_embedding.py:236: UserWarning: Graph is not fully connected, spectral embedding may not work as expected.\n",
      "  warnings.warn(\"Graph is not fully connected, spectral embedding\"\n"
     ]
    },
    {
     "name": "stdout",
     "output_type": "stream",
     "text": [
      "continued\n",
      "{0: 0.5670103092783505, 1: 0, 2: 0}\n",
      "nFeatures  37\n"
     ]
    },
    {
     "name": "stderr",
     "output_type": "stream",
     "text": [
      "/opt/anaconda3/lib/python3.7/site-packages/sklearn/manifold/_spectral_embedding.py:236: UserWarning: Graph is not fully connected, spectral embedding may not work as expected.\n",
      "  warnings.warn(\"Graph is not fully connected, spectral embedding\"\n",
      "/opt/anaconda3/lib/python3.7/site-packages/sklearn/manifold/_spectral_embedding.py:236: UserWarning: Graph is not fully connected, spectral embedding may not work as expected.\n",
      "  warnings.warn(\"Graph is not fully connected, spectral embedding\"\n"
     ]
    },
    {
     "name": "stdout",
     "output_type": "stream",
     "text": [
      "continued\n",
      "{0: 0.5223880597014925, 1: 0, 2: 0.3333333333333333, 3: 0, 4: 0, 5: 0}\n",
      "nFeatures  22\n"
     ]
    },
    {
     "name": "stderr",
     "output_type": "stream",
     "text": [
      "/opt/anaconda3/lib/python3.7/site-packages/sklearn/manifold/_spectral_embedding.py:236: UserWarning: Graph is not fully connected, spectral embedding may not work as expected.\n",
      "  warnings.warn(\"Graph is not fully connected, spectral embedding\"\n",
      "/opt/anaconda3/lib/python3.7/site-packages/sklearn/manifold/_spectral_embedding.py:236: UserWarning: Graph is not fully connected, spectral embedding may not work as expected.\n",
      "  warnings.warn(\"Graph is not fully connected, spectral embedding\"\n"
     ]
    },
    {
     "name": "stdout",
     "output_type": "stream",
     "text": [
      "continued\n",
      "{0: 0.5277777777777778, 1: 0, 2: 0.32, 3: 0, 4: 0, 5: 0}\n",
      "nFeatures  40\n"
     ]
    },
    {
     "name": "stderr",
     "output_type": "stream",
     "text": [
      "/opt/anaconda3/lib/python3.7/site-packages/sklearn/manifold/_spectral_embedding.py:236: UserWarning: Graph is not fully connected, spectral embedding may not work as expected.\n",
      "  warnings.warn(\"Graph is not fully connected, spectral embedding\"\n",
      "/opt/anaconda3/lib/python3.7/site-packages/sklearn/manifold/_spectral_embedding.py:236: UserWarning: Graph is not fully connected, spectral embedding may not work as expected.\n",
      "  warnings.warn(\"Graph is not fully connected, spectral embedding\"\n"
     ]
    },
    {
     "name": "stdout",
     "output_type": "stream",
     "text": [
      "continued\n",
      "{0: 0.5670103092783505, 1: 0, 2: 0}\n",
      "nFeatures  28\n"
     ]
    },
    {
     "name": "stderr",
     "output_type": "stream",
     "text": [
      "/opt/anaconda3/lib/python3.7/site-packages/sklearn/manifold/_spectral_embedding.py:236: UserWarning: Graph is not fully connected, spectral embedding may not work as expected.\n",
      "  warnings.warn(\"Graph is not fully connected, spectral embedding\"\n",
      "/opt/anaconda3/lib/python3.7/site-packages/sklearn/manifold/_spectral_embedding.py:236: UserWarning: Graph is not fully connected, spectral embedding may not work as expected.\n",
      "  warnings.warn(\"Graph is not fully connected, spectral embedding\"\n"
     ]
    },
    {
     "name": "stdout",
     "output_type": "stream",
     "text": [
      "continued\n",
      "{0: 0.5633802816901409, 1: 0, 2: 0, 3: 0.4230769230769231, 4: 0, 5: 0, 6: 0}\n",
      "nFeatures  37\n"
     ]
    },
    {
     "name": "stderr",
     "output_type": "stream",
     "text": [
      "/opt/anaconda3/lib/python3.7/site-packages/sklearn/manifold/_spectral_embedding.py:236: UserWarning: Graph is not fully connected, spectral embedding may not work as expected.\n",
      "  warnings.warn(\"Graph is not fully connected, spectral embedding\"\n",
      "/opt/anaconda3/lib/python3.7/site-packages/sklearn/manifold/_spectral_embedding.py:236: UserWarning: Graph is not fully connected, spectral embedding may not work as expected.\n",
      "  warnings.warn(\"Graph is not fully connected, spectral embedding\"\n"
     ]
    },
    {
     "name": "stdout",
     "output_type": "stream",
     "text": [
      "continued\n",
      "{0: 0.5342465753424658, 1: 0, 2: 0, 3: 0.3333333333333333, 4: 0, 5: 0, 6: 0}\n",
      "nFeatures  18\n"
     ]
    },
    {
     "name": "stderr",
     "output_type": "stream",
     "text": [
      "/opt/anaconda3/lib/python3.7/site-packages/sklearn/manifold/_spectral_embedding.py:236: UserWarning: Graph is not fully connected, spectral embedding may not work as expected.\n",
      "  warnings.warn(\"Graph is not fully connected, spectral embedding\"\n",
      "/opt/anaconda3/lib/python3.7/site-packages/sklearn/manifold/_spectral_embedding.py:236: UserWarning: Graph is not fully connected, spectral embedding may not work as expected.\n",
      "  warnings.warn(\"Graph is not fully connected, spectral embedding\"\n"
     ]
    },
    {
     "name": "stdout",
     "output_type": "stream",
     "text": [
      "continued\n",
      "{0: 0.5492957746478874, 1: 0, 2: 0, 3: 0.38461538461538464, 4: 0, 5: 0, 6: 0}\n",
      "nFeatures  13\n"
     ]
    },
    {
     "name": "stderr",
     "output_type": "stream",
     "text": [
      "/opt/anaconda3/lib/python3.7/site-packages/sklearn/manifold/_spectral_embedding.py:236: UserWarning: Graph is not fully connected, spectral embedding may not work as expected.\n",
      "  warnings.warn(\"Graph is not fully connected, spectral embedding\"\n",
      "/opt/anaconda3/lib/python3.7/site-packages/sklearn/manifold/_spectral_embedding.py:236: UserWarning: Graph is not fully connected, spectral embedding may not work as expected.\n",
      "  warnings.warn(\"Graph is not fully connected, spectral embedding\"\n"
     ]
    },
    {
     "name": "stdout",
     "output_type": "stream",
     "text": [
      "continued\n",
      "{0: 0.5263157894736842, 1: 0, 2: 0, 3: 0.4230769230769231, 4: 0, 5: 0, 6: 0}\n",
      "nFeatures  29\n"
     ]
    },
    {
     "name": "stderr",
     "output_type": "stream",
     "text": [
      "/opt/anaconda3/lib/python3.7/site-packages/sklearn/manifold/_spectral_embedding.py:236: UserWarning: Graph is not fully connected, spectral embedding may not work as expected.\n",
      "  warnings.warn(\"Graph is not fully connected, spectral embedding\"\n",
      "/opt/anaconda3/lib/python3.7/site-packages/sklearn/manifold/_spectral_embedding.py:236: UserWarning: Graph is not fully connected, spectral embedding may not work as expected.\n",
      "  warnings.warn(\"Graph is not fully connected, spectral embedding\"\n"
     ]
    },
    {
     "name": "stdout",
     "output_type": "stream",
     "text": [
      "continued\n",
      "{0: 0.5625, 1: 0, 2: 0, 3: 0.43209876543209874, 4: 0, 5: 0, 6: 0}\n",
      "nFeatures  37\n"
     ]
    },
    {
     "name": "stderr",
     "output_type": "stream",
     "text": [
      "/opt/anaconda3/lib/python3.7/site-packages/sklearn/manifold/_spectral_embedding.py:236: UserWarning: Graph is not fully connected, spectral embedding may not work as expected.\n",
      "  warnings.warn(\"Graph is not fully connected, spectral embedding\"\n",
      "/opt/anaconda3/lib/python3.7/site-packages/sklearn/manifold/_spectral_embedding.py:236: UserWarning: Graph is not fully connected, spectral embedding may not work as expected.\n",
      "  warnings.warn(\"Graph is not fully connected, spectral embedding\"\n"
     ]
    },
    {
     "name": "stdout",
     "output_type": "stream",
     "text": [
      "continued\n",
      "{0: 0.5294117647058824, 1: 0, 2: 0, 3: 0.425, 4: 0, 5: 0, 6: 0}\n",
      "nFeatures  32\n"
     ]
    },
    {
     "name": "stderr",
     "output_type": "stream",
     "text": [
      "/opt/anaconda3/lib/python3.7/site-packages/sklearn/manifold/_spectral_embedding.py:236: UserWarning: Graph is not fully connected, spectral embedding may not work as expected.\n",
      "  warnings.warn(\"Graph is not fully connected, spectral embedding\"\n",
      "/opt/anaconda3/lib/python3.7/site-packages/sklearn/manifold/_spectral_embedding.py:236: UserWarning: Graph is not fully connected, spectral embedding may not work as expected.\n",
      "  warnings.warn(\"Graph is not fully connected, spectral embedding\"\n"
     ]
    },
    {
     "name": "stdout",
     "output_type": "stream",
     "text": [
      "continued\n",
      "{0: 0.631578947368421, 1: 0, 2: 0, 3: 0.44871794871794873, 4: 0, 5: 0, 6: 0}\n",
      "nFeatures  13\n"
     ]
    },
    {
     "name": "stderr",
     "output_type": "stream",
     "text": [
      "/opt/anaconda3/lib/python3.7/site-packages/sklearn/manifold/_spectral_embedding.py:236: UserWarning: Graph is not fully connected, spectral embedding may not work as expected.\n",
      "  warnings.warn(\"Graph is not fully connected, spectral embedding\"\n",
      "/opt/anaconda3/lib/python3.7/site-packages/sklearn/manifold/_spectral_embedding.py:236: UserWarning: Graph is not fully connected, spectral embedding may not work as expected.\n",
      "  warnings.warn(\"Graph is not fully connected, spectral embedding\"\n"
     ]
    },
    {
     "name": "stdout",
     "output_type": "stream",
     "text": [
      "continued\n",
      "{0: 0.5555555555555556, 1: 0, 2: 0.43037974683544306, 3: 0, 4: 0, 5: 0}\n",
      "nFeatures  29\n"
     ]
    },
    {
     "name": "stderr",
     "output_type": "stream",
     "text": [
      "/opt/anaconda3/lib/python3.7/site-packages/sklearn/manifold/_spectral_embedding.py:236: UserWarning: Graph is not fully connected, spectral embedding may not work as expected.\n",
      "  warnings.warn(\"Graph is not fully connected, spectral embedding\"\n",
      "/opt/anaconda3/lib/python3.7/site-packages/sklearn/manifold/_spectral_embedding.py:236: UserWarning: Graph is not fully connected, spectral embedding may not work as expected.\n",
      "  warnings.warn(\"Graph is not fully connected, spectral embedding\"\n"
     ]
    },
    {
     "name": "stdout",
     "output_type": "stream",
     "text": [
      "continued\n",
      "{0: 0.5416666666666666, 1: 0, 2: 0.4246575342465753, 3: 0, 4: 0, 5: 0}\n",
      "nFeatures  37\n"
     ]
    },
    {
     "name": "stderr",
     "output_type": "stream",
     "text": [
      "/opt/anaconda3/lib/python3.7/site-packages/sklearn/manifold/_spectral_embedding.py:236: UserWarning: Graph is not fully connected, spectral embedding may not work as expected.\n",
      "  warnings.warn(\"Graph is not fully connected, spectral embedding\"\n",
      "/opt/anaconda3/lib/python3.7/site-packages/sklearn/manifold/_spectral_embedding.py:236: UserWarning: Graph is not fully connected, spectral embedding may not work as expected.\n",
      "  warnings.warn(\"Graph is not fully connected, spectral embedding\"\n"
     ]
    },
    {
     "name": "stdout",
     "output_type": "stream",
     "text": [
      "continued\n",
      "{0: 0.6666666666666666, 1: 0, 2: 0.4657534246575342, 3: 0, 4: 0, 5: 0}\n",
      "nFeatures  27\n"
     ]
    },
    {
     "name": "stderr",
     "output_type": "stream",
     "text": [
      "/opt/anaconda3/lib/python3.7/site-packages/sklearn/manifold/_spectral_embedding.py:236: UserWarning: Graph is not fully connected, spectral embedding may not work as expected.\n",
      "  warnings.warn(\"Graph is not fully connected, spectral embedding\"\n",
      "/opt/anaconda3/lib/python3.7/site-packages/sklearn/manifold/_spectral_embedding.py:236: UserWarning: Graph is not fully connected, spectral embedding may not work as expected.\n",
      "  warnings.warn(\"Graph is not fully connected, spectral embedding\"\n"
     ]
    },
    {
     "name": "stdout",
     "output_type": "stream",
     "text": [
      "continued\n",
      "{0: 0.6, 1: 0, 2: 0.4444444444444444, 3: 0, 4: 0, 5: 0}\n",
      "nFeatures  13\n"
     ]
    },
    {
     "name": "stderr",
     "output_type": "stream",
     "text": [
      "/opt/anaconda3/lib/python3.7/site-packages/sklearn/manifold/_spectral_embedding.py:236: UserWarning: Graph is not fully connected, spectral embedding may not work as expected.\n",
      "  warnings.warn(\"Graph is not fully connected, spectral embedding\"\n",
      "/opt/anaconda3/lib/python3.7/site-packages/sklearn/manifold/_spectral_embedding.py:236: UserWarning: Graph is not fully connected, spectral embedding may not work as expected.\n",
      "  warnings.warn(\"Graph is not fully connected, spectral embedding\"\n"
     ]
    },
    {
     "name": "stdout",
     "output_type": "stream",
     "text": [
      "continued\n",
      "{0: 0.6111111111111112, 1: 0, 2: 0, 3: 0.4430379746835443, 4: 0, 5: 0, 6: 0}\n",
      "nFeatures  29\n"
     ]
    },
    {
     "name": "stderr",
     "output_type": "stream",
     "text": [
      "/opt/anaconda3/lib/python3.7/site-packages/sklearn/manifold/_spectral_embedding.py:236: UserWarning: Graph is not fully connected, spectral embedding may not work as expected.\n",
      "  warnings.warn(\"Graph is not fully connected, spectral embedding\"\n",
      "/opt/anaconda3/lib/python3.7/site-packages/sklearn/manifold/_spectral_embedding.py:236: UserWarning: Graph is not fully connected, spectral embedding may not work as expected.\n",
      "  warnings.warn(\"Graph is not fully connected, spectral embedding\"\n"
     ]
    },
    {
     "name": "stdout",
     "output_type": "stream",
     "text": [
      "continued\n",
      "{0: 0.6, 1: 0, 2: 0, 3: 0.4444444444444444, 4: 0, 5: 0, 6: 0}\n",
      "nFeatures  36\n"
     ]
    },
    {
     "name": "stderr",
     "output_type": "stream",
     "text": [
      "/opt/anaconda3/lib/python3.7/site-packages/sklearn/manifold/_spectral_embedding.py:236: UserWarning: Graph is not fully connected, spectral embedding may not work as expected.\n",
      "  warnings.warn(\"Graph is not fully connected, spectral embedding\"\n",
      "/opt/anaconda3/lib/python3.7/site-packages/sklearn/manifold/_spectral_embedding.py:236: UserWarning: Graph is not fully connected, spectral embedding may not work as expected.\n",
      "  warnings.warn(\"Graph is not fully connected, spectral embedding\"\n"
     ]
    },
    {
     "name": "stdout",
     "output_type": "stream",
     "text": [
      "continued\n",
      "{0: 0.5909090909090909, 1: 0, 2: 0, 3: 0.44, 4: 0, 5: 0, 6: 0}\n",
      "nFeatures  24\n"
     ]
    },
    {
     "name": "stderr",
     "output_type": "stream",
     "text": [
      "/opt/anaconda3/lib/python3.7/site-packages/sklearn/manifold/_spectral_embedding.py:236: UserWarning: Graph is not fully connected, spectral embedding may not work as expected.\n",
      "  warnings.warn(\"Graph is not fully connected, spectral embedding\"\n",
      "/opt/anaconda3/lib/python3.7/site-packages/sklearn/manifold/_spectral_embedding.py:236: UserWarning: Graph is not fully connected, spectral embedding may not work as expected.\n",
      "  warnings.warn(\"Graph is not fully connected, spectral embedding\"\n"
     ]
    },
    {
     "name": "stdout",
     "output_type": "stream",
     "text": [
      "continued\n",
      "{0: 0.65, 1: 0, 2: 0, 3: 0.45454545454545453, 4: 0, 5: 0, 6: 0}\n",
      "nFeatures  12\n"
     ]
    },
    {
     "name": "stderr",
     "output_type": "stream",
     "text": [
      "/opt/anaconda3/lib/python3.7/site-packages/sklearn/manifold/_spectral_embedding.py:236: UserWarning: Graph is not fully connected, spectral embedding may not work as expected.\n",
      "  warnings.warn(\"Graph is not fully connected, spectral embedding\"\n",
      "/opt/anaconda3/lib/python3.7/site-packages/sklearn/manifold/_spectral_embedding.py:236: UserWarning: Graph is not fully connected, spectral embedding may not work as expected.\n",
      "  warnings.warn(\"Graph is not fully connected, spectral embedding\"\n"
     ]
    },
    {
     "name": "stdout",
     "output_type": "stream",
     "text": [
      "continued\n",
      "{0: 0.5, 1: 0, 2: 0, 3: 0, 4: 0.4177215189873418, 5: 0, 6: 0, 7: 0}\n",
      "nFeatures  28\n"
     ]
    },
    {
     "name": "stderr",
     "output_type": "stream",
     "text": [
      "/opt/anaconda3/lib/python3.7/site-packages/sklearn/manifold/_spectral_embedding.py:236: UserWarning: Graph is not fully connected, spectral embedding may not work as expected.\n",
      "  warnings.warn(\"Graph is not fully connected, spectral embedding\"\n",
      "/opt/anaconda3/lib/python3.7/site-packages/sklearn/manifold/_spectral_embedding.py:236: UserWarning: Graph is not fully connected, spectral embedding may not work as expected.\n",
      "  warnings.warn(\"Graph is not fully connected, spectral embedding\"\n"
     ]
    },
    {
     "name": "stdout",
     "output_type": "stream",
     "text": [
      "continued\n",
      "{0: 0.45454545454545453, 1: 0, 2: 0, 3: 0, 4: 0.4186046511627907, 5: 0, 6: 0, 7: 0}\n",
      "nFeatures  38\n"
     ]
    },
    {
     "name": "stderr",
     "output_type": "stream",
     "text": [
      "/opt/anaconda3/lib/python3.7/site-packages/sklearn/manifold/_spectral_embedding.py:236: UserWarning: Graph is not fully connected, spectral embedding may not work as expected.\n",
      "  warnings.warn(\"Graph is not fully connected, spectral embedding\"\n",
      "/opt/anaconda3/lib/python3.7/site-packages/sklearn/manifold/_spectral_embedding.py:236: UserWarning: Graph is not fully connected, spectral embedding may not work as expected.\n",
      "  warnings.warn(\"Graph is not fully connected, spectral embedding\"\n"
     ]
    },
    {
     "name": "stdout",
     "output_type": "stream",
     "text": [
      "continued\n",
      "{0: 0.4, 1: 0, 2: 0, 3: 0, 4: 0.4024390243902439, 5: 0, 6: 0, 7: 0}\n",
      "nFeatures  33\n"
     ]
    },
    {
     "name": "stderr",
     "output_type": "stream",
     "text": [
      "/opt/anaconda3/lib/python3.7/site-packages/sklearn/manifold/_spectral_embedding.py:236: UserWarning: Graph is not fully connected, spectral embedding may not work as expected.\n",
      "  warnings.warn(\"Graph is not fully connected, spectral embedding\"\n",
      "/opt/anaconda3/lib/python3.7/site-packages/sklearn/manifold/_spectral_embedding.py:236: UserWarning: Graph is not fully connected, spectral embedding may not work as expected.\n",
      "  warnings.warn(\"Graph is not fully connected, spectral embedding\"\n"
     ]
    },
    {
     "name": "stdout",
     "output_type": "stream",
     "text": [
      "continued\n",
      "{0: 0.3333333333333333, 1: 0, 2: 0, 3: 0, 4: 0.4, 5: 0, 6: 0, 7: 0}\n",
      "nFeatures  13\n"
     ]
    },
    {
     "name": "stderr",
     "output_type": "stream",
     "text": [
      "/opt/anaconda3/lib/python3.7/site-packages/sklearn/manifold/_spectral_embedding.py:236: UserWarning: Graph is not fully connected, spectral embedding may not work as expected.\n",
      "  warnings.warn(\"Graph is not fully connected, spectral embedding\"\n",
      "/opt/anaconda3/lib/python3.7/site-packages/sklearn/manifold/_spectral_embedding.py:236: UserWarning: Graph is not fully connected, spectral embedding may not work as expected.\n",
      "  warnings.warn(\"Graph is not fully connected, spectral embedding\"\n"
     ]
    },
    {
     "name": "stdout",
     "output_type": "stream",
     "text": [
      "continued\n",
      "{0: 0.5555555555555556, 1: 0, 2: 0.43037974683544306, 3: 0, 4: 0, 5: 0}\n",
      "nFeatures  29\n"
     ]
    },
    {
     "name": "stderr",
     "output_type": "stream",
     "text": [
      "/opt/anaconda3/lib/python3.7/site-packages/sklearn/manifold/_spectral_embedding.py:236: UserWarning: Graph is not fully connected, spectral embedding may not work as expected.\n",
      "  warnings.warn(\"Graph is not fully connected, spectral embedding\"\n",
      "/opt/anaconda3/lib/python3.7/site-packages/sklearn/manifold/_spectral_embedding.py:236: UserWarning: Graph is not fully connected, spectral embedding may not work as expected.\n",
      "  warnings.warn(\"Graph is not fully connected, spectral embedding\"\n"
     ]
    },
    {
     "name": "stdout",
     "output_type": "stream",
     "text": [
      "continued\n",
      "{0: 0.55, 1: 0, 2: 0.42857142857142855, 3: 0, 4: 0, 5: 0}\n",
      "nFeatures  38\n"
     ]
    },
    {
     "name": "stderr",
     "output_type": "stream",
     "text": [
      "/opt/anaconda3/lib/python3.7/site-packages/sklearn/manifold/_spectral_embedding.py:236: UserWarning: Graph is not fully connected, spectral embedding may not work as expected.\n",
      "  warnings.warn(\"Graph is not fully connected, spectral embedding\"\n",
      "/opt/anaconda3/lib/python3.7/site-packages/sklearn/manifold/_spectral_embedding.py:236: UserWarning: Graph is not fully connected, spectral embedding may not work as expected.\n",
      "  warnings.warn(\"Graph is not fully connected, spectral embedding\"\n"
     ]
    },
    {
     "name": "stdout",
     "output_type": "stream",
     "text": [
      "continued\n",
      "{0: 0.6, 1: 0, 2: 0.44155844155844154, 3: 0, 4: 0, 5: 0}\n",
      "nFeatures  33\n"
     ]
    },
    {
     "name": "stderr",
     "output_type": "stream",
     "text": [
      "/opt/anaconda3/lib/python3.7/site-packages/sklearn/manifold/_spectral_embedding.py:236: UserWarning: Graph is not fully connected, spectral embedding may not work as expected.\n",
      "  warnings.warn(\"Graph is not fully connected, spectral embedding\"\n",
      "/opt/anaconda3/lib/python3.7/site-packages/sklearn/manifold/_spectral_embedding.py:236: UserWarning: Graph is not fully connected, spectral embedding may not work as expected.\n",
      "  warnings.warn(\"Graph is not fully connected, spectral embedding\"\n"
     ]
    },
    {
     "name": "stdout",
     "output_type": "stream",
     "text": [
      "continued\n",
      "{0: 0.6111111111111112, 1: 0, 2: 0.4430379746835443, 3: 0, 4: 0, 5: 0}\n",
      "nFeatures  41\n"
     ]
    },
    {
     "name": "stderr",
     "output_type": "stream",
     "text": [
      "/opt/anaconda3/lib/python3.7/site-packages/sklearn/manifold/_spectral_embedding.py:236: UserWarning: Graph is not fully connected, spectral embedding may not work as expected.\n",
      "  warnings.warn(\"Graph is not fully connected, spectral embedding\"\n",
      "/opt/anaconda3/lib/python3.7/site-packages/sklearn/manifold/_spectral_embedding.py:236: UserWarning: Graph is not fully connected, spectral embedding may not work as expected.\n",
      "  warnings.warn(\"Graph is not fully connected, spectral embedding\"\n"
     ]
    },
    {
     "name": "stdout",
     "output_type": "stream",
     "text": [
      "continued\n",
      "{0: 0.5670103092783505, 1: 0}\n",
      "nFeatures  13\n"
     ]
    },
    {
     "name": "stderr",
     "output_type": "stream",
     "text": [
      "/opt/anaconda3/lib/python3.7/site-packages/sklearn/manifold/_spectral_embedding.py:236: UserWarning: Graph is not fully connected, spectral embedding may not work as expected.\n",
      "  warnings.warn(\"Graph is not fully connected, spectral embedding\"\n",
      "/opt/anaconda3/lib/python3.7/site-packages/sklearn/manifold/_spectral_embedding.py:236: UserWarning: Graph is not fully connected, spectral embedding may not work as expected.\n",
      "  warnings.warn(\"Graph is not fully connected, spectral embedding\"\n"
     ]
    },
    {
     "name": "stdout",
     "output_type": "stream",
     "text": [
      "continued\n",
      "{0: 0.631578947368421, 1: 0.44871794871794873, 2: 0, 3: 0, 4: 0}\n",
      "nFeatures  29\n"
     ]
    },
    {
     "name": "stderr",
     "output_type": "stream",
     "text": [
      "/opt/anaconda3/lib/python3.7/site-packages/sklearn/manifold/_spectral_embedding.py:236: UserWarning: Graph is not fully connected, spectral embedding may not work as expected.\n",
      "  warnings.warn(\"Graph is not fully connected, spectral embedding\"\n",
      "/opt/anaconda3/lib/python3.7/site-packages/sklearn/manifold/_spectral_embedding.py:236: UserWarning: Graph is not fully connected, spectral embedding may not work as expected.\n",
      "  warnings.warn(\"Graph is not fully connected, spectral embedding\"\n"
     ]
    },
    {
     "name": "stdout",
     "output_type": "stream",
     "text": [
      "continued\n",
      "{0: 0.6, 1: 0.44155844155844154, 2: 0, 3: 0, 4: 0}\n",
      "nFeatures  37\n"
     ]
    },
    {
     "name": "stderr",
     "output_type": "stream",
     "text": [
      "/opt/anaconda3/lib/python3.7/site-packages/sklearn/manifold/_spectral_embedding.py:236: UserWarning: Graph is not fully connected, spectral embedding may not work as expected.\n",
      "  warnings.warn(\"Graph is not fully connected, spectral embedding\"\n",
      "/opt/anaconda3/lib/python3.7/site-packages/sklearn/manifold/_spectral_embedding.py:236: UserWarning: Graph is not fully connected, spectral embedding may not work as expected.\n",
      "  warnings.warn(\"Graph is not fully connected, spectral embedding\"\n"
     ]
    },
    {
     "name": "stdout",
     "output_type": "stream",
     "text": [
      "continued\n",
      "{0: 0.5263157894736842, 1: 0.4230769230769231, 2: 0, 3: 0, 4: 0}\n",
      "nFeatures  21\n"
     ]
    },
    {
     "name": "stderr",
     "output_type": "stream",
     "text": [
      "/opt/anaconda3/lib/python3.7/site-packages/sklearn/manifold/_spectral_embedding.py:236: UserWarning: Graph is not fully connected, spectral embedding may not work as expected.\n",
      "  warnings.warn(\"Graph is not fully connected, spectral embedding\"\n",
      "/opt/anaconda3/lib/python3.7/site-packages/sklearn/manifold/_spectral_embedding.py:236: UserWarning: Graph is not fully connected, spectral embedding may not work as expected.\n",
      "  warnings.warn(\"Graph is not fully connected, spectral embedding\"\n"
     ]
    },
    {
     "name": "stdout",
     "output_type": "stream",
     "text": [
      "continued\n",
      "{0: 0.7368421052631579, 1: 0.47435897435897434, 2: 0, 3: 0, 4: 0}\n",
      "nFeatures  3\n"
     ]
    },
    {
     "name": "stderr",
     "output_type": "stream",
     "text": [
      "/opt/anaconda3/lib/python3.7/site-packages/sklearn/manifold/_spectral_embedding.py:236: UserWarning: Graph is not fully connected, spectral embedding may not work as expected.\n",
      "  warnings.warn(\"Graph is not fully connected, spectral embedding\"\n",
      "/opt/anaconda3/lib/python3.7/site-packages/sklearn/manifold/_spectral_embedding.py:236: UserWarning: Graph is not fully connected, spectral embedding may not work as expected.\n",
      "  warnings.warn(\"Graph is not fully connected, spectral embedding\"\n"
     ]
    },
    {
     "name": "stdout",
     "output_type": "stream",
     "text": [
      "continued\n",
      "{0: 0.5625, 1: 0, 2: 0, 3: 0.0}\n",
      "nFeatures  5\n"
     ]
    },
    {
     "name": "stderr",
     "output_type": "stream",
     "text": [
      "/opt/anaconda3/lib/python3.7/site-packages/sklearn/manifold/_spectral_embedding.py:236: UserWarning: Graph is not fully connected, spectral embedding may not work as expected.\n",
      "  warnings.warn(\"Graph is not fully connected, spectral embedding\"\n",
      "/opt/anaconda3/lib/python3.7/site-packages/sklearn/manifold/_spectral_embedding.py:236: UserWarning: Graph is not fully connected, spectral embedding may not work as expected.\n",
      "  warnings.warn(\"Graph is not fully connected, spectral embedding\"\n"
     ]
    },
    {
     "name": "stdout",
     "output_type": "stream",
     "text": [
      "continued\n",
      "{0: 0.5670103092783505, 1: 0, 2: 0, 3: 0, 4: 0}\n",
      "nFeatures  29\n"
     ]
    },
    {
     "name": "stderr",
     "output_type": "stream",
     "text": [
      "/opt/anaconda3/lib/python3.7/site-packages/sklearn/manifold/_spectral_embedding.py:236: UserWarning: Graph is not fully connected, spectral embedding may not work as expected.\n",
      "  warnings.warn(\"Graph is not fully connected, spectral embedding\"\n",
      "/opt/anaconda3/lib/python3.7/site-packages/sklearn/manifold/_spectral_embedding.py:236: UserWarning: Graph is not fully connected, spectral embedding may not work as expected.\n",
      "  warnings.warn(\"Graph is not fully connected, spectral embedding\"\n"
     ]
    },
    {
     "name": "stdout",
     "output_type": "stream",
     "text": [
      "continued\n",
      "{0: 0.5692307692307692, 1: 0.4375, 2: 0, 3: 0, 4: 0}\n",
      "nFeatures  37\n"
     ]
    },
    {
     "name": "stderr",
     "output_type": "stream",
     "text": [
      "/opt/anaconda3/lib/python3.7/site-packages/sklearn/manifold/_spectral_embedding.py:236: UserWarning: Graph is not fully connected, spectral embedding may not work as expected.\n",
      "  warnings.warn(\"Graph is not fully connected, spectral embedding\"\n",
      "/opt/anaconda3/lib/python3.7/site-packages/sklearn/manifold/_spectral_embedding.py:236: UserWarning: Graph is not fully connected, spectral embedding may not work as expected.\n",
      "  warnings.warn(\"Graph is not fully connected, spectral embedding\"\n"
     ]
    },
    {
     "name": "stdout",
     "output_type": "stream",
     "text": [
      "continued\n",
      "{0: 0.5409836065573771, 1: 0.3888888888888889, 2: 0, 3: 0, 4: 0}\n",
      "nFeatures  19\n"
     ]
    },
    {
     "name": "stderr",
     "output_type": "stream",
     "text": [
      "/opt/anaconda3/lib/python3.7/site-packages/sklearn/manifold/_spectral_embedding.py:236: UserWarning: Graph is not fully connected, spectral embedding may not work as expected.\n",
      "  warnings.warn(\"Graph is not fully connected, spectral embedding\"\n",
      "/opt/anaconda3/lib/python3.7/site-packages/sklearn/manifold/_spectral_embedding.py:236: UserWarning: Graph is not fully connected, spectral embedding may not work as expected.\n",
      "  warnings.warn(\"Graph is not fully connected, spectral embedding\"\n"
     ]
    },
    {
     "name": "stdout",
     "output_type": "stream",
     "text": [
      "continued\n",
      "{0: 0.5774647887323944, 1: 0.46153846153846156, 2: 0, 3: 0, 4: 0}\n",
      "nFeatures  3\n"
     ]
    },
    {
     "name": "stderr",
     "output_type": "stream",
     "text": [
      "/opt/anaconda3/lib/python3.7/site-packages/sklearn/manifold/_spectral_embedding.py:236: UserWarning: Graph is not fully connected, spectral embedding may not work as expected.\n",
      "  warnings.warn(\"Graph is not fully connected, spectral embedding\"\n",
      "/opt/anaconda3/lib/python3.7/site-packages/sklearn/manifold/_spectral_embedding.py:236: UserWarning: Graph is not fully connected, spectral embedding may not work as expected.\n",
      "  warnings.warn(\"Graph is not fully connected, spectral embedding\"\n"
     ]
    },
    {
     "name": "stdout",
     "output_type": "stream",
     "text": [
      "continued\n",
      "{0: 0.5625, 1: 0, 2: 0, 3: 0, 4: 0.0}\n",
      "nFeatures  29\n"
     ]
    },
    {
     "name": "stderr",
     "output_type": "stream",
     "text": [
      "/opt/anaconda3/lib/python3.7/site-packages/sklearn/manifold/_spectral_embedding.py:236: UserWarning: Graph is not fully connected, spectral embedding may not work as expected.\n",
      "  warnings.warn(\"Graph is not fully connected, spectral embedding\"\n",
      "/opt/anaconda3/lib/python3.7/site-packages/sklearn/manifold/_spectral_embedding.py:236: UserWarning: Graph is not fully connected, spectral embedding may not work as expected.\n",
      "  warnings.warn(\"Graph is not fully connected, spectral embedding\"\n"
     ]
    },
    {
     "name": "stdout",
     "output_type": "stream",
     "text": [
      "continued\n",
      "{0: 0.5483870967741935, 1: 0.4, 2: 0, 3: 0, 4: 0}\n",
      "nFeatures  37\n"
     ]
    },
    {
     "name": "stderr",
     "output_type": "stream",
     "text": [
      "/opt/anaconda3/lib/python3.7/site-packages/sklearn/manifold/_spectral_embedding.py:236: UserWarning: Graph is not fully connected, spectral embedding may not work as expected.\n",
      "  warnings.warn(\"Graph is not fully connected, spectral embedding\"\n",
      "/opt/anaconda3/lib/python3.7/site-packages/sklearn/manifold/_spectral_embedding.py:236: UserWarning: Graph is not fully connected, spectral embedding may not work as expected.\n",
      "  warnings.warn(\"Graph is not fully connected, spectral embedding\"\n"
     ]
    },
    {
     "name": "stdout",
     "output_type": "stream",
     "text": [
      "continued\n",
      "{0: 0.5245901639344263, 1: 0.3611111111111111, 2: 0, 3: 0, 4: 0}\n",
      "nFeatures  14\n"
     ]
    },
    {
     "name": "stderr",
     "output_type": "stream",
     "text": [
      "/opt/anaconda3/lib/python3.7/site-packages/sklearn/manifold/_spectral_embedding.py:236: UserWarning: Graph is not fully connected, spectral embedding may not work as expected.\n",
      "  warnings.warn(\"Graph is not fully connected, spectral embedding\"\n",
      "/opt/anaconda3/lib/python3.7/site-packages/sklearn/manifold/_spectral_embedding.py:236: UserWarning: Graph is not fully connected, spectral embedding may not work as expected.\n",
      "  warnings.warn(\"Graph is not fully connected, spectral embedding\"\n"
     ]
    },
    {
     "name": "stdout",
     "output_type": "stream",
     "text": [
      "continued\n",
      "{0: 0.5405405405405406, 1: 0.34782608695652173, 2: 0, 3: 0, 4: 0}\n",
      "nFeatures  37\n"
     ]
    },
    {
     "name": "stderr",
     "output_type": "stream",
     "text": [
      "/opt/anaconda3/lib/python3.7/site-packages/sklearn/manifold/_spectral_embedding.py:236: UserWarning: Graph is not fully connected, spectral embedding may not work as expected.\n",
      "  warnings.warn(\"Graph is not fully connected, spectral embedding\"\n",
      "/opt/anaconda3/lib/python3.7/site-packages/sklearn/manifold/_spectral_embedding.py:236: UserWarning: Graph is not fully connected, spectral embedding may not work as expected.\n",
      "  warnings.warn(\"Graph is not fully connected, spectral embedding\"\n"
     ]
    },
    {
     "name": "stdout",
     "output_type": "stream",
     "text": [
      "continued\n",
      "{0: 0.5428571428571428, 1: 0, 2: 0, 3: 0, 4: 0.37037037037037035, 5: 0, 6: 0, 7: 0}\n",
      "nFeatures  14\n"
     ]
    },
    {
     "name": "stderr",
     "output_type": "stream",
     "text": [
      "/opt/anaconda3/lib/python3.7/site-packages/sklearn/manifold/_spectral_embedding.py:236: UserWarning: Graph is not fully connected, spectral embedding may not work as expected.\n",
      "  warnings.warn(\"Graph is not fully connected, spectral embedding\"\n",
      "/opt/anaconda3/lib/python3.7/site-packages/sklearn/manifold/_spectral_embedding.py:236: UserWarning: Graph is not fully connected, spectral embedding may not work as expected.\n",
      "  warnings.warn(\"Graph is not fully connected, spectral embedding\"\n"
     ]
    },
    {
     "name": "stdout",
     "output_type": "stream",
     "text": [
      "continued\n",
      "{0: 0.5316455696202531, 1: 0, 2: 0, 3: 0, 4: 0.2777777777777778, 5: 0, 6: 0, 7: 0}\n",
      "nFeatures  28\n"
     ]
    },
    {
     "name": "stderr",
     "output_type": "stream",
     "text": [
      "/opt/anaconda3/lib/python3.7/site-packages/sklearn/manifold/_spectral_embedding.py:236: UserWarning: Graph is not fully connected, spectral embedding may not work as expected.\n",
      "  warnings.warn(\"Graph is not fully connected, spectral embedding\"\n",
      "/opt/anaconda3/lib/python3.7/site-packages/sklearn/manifold/_spectral_embedding.py:236: UserWarning: Graph is not fully connected, spectral embedding may not work as expected.\n",
      "  warnings.warn(\"Graph is not fully connected, spectral embedding\"\n"
     ]
    },
    {
     "name": "stdout",
     "output_type": "stream",
     "text": [
      "continued\n",
      "{0: 0.5633802816901409, 1: 0, 2: 0, 3: 0.4230769230769231, 4: 0, 5: 0, 6: 0}\n",
      "nFeatures  37\n"
     ]
    },
    {
     "name": "stderr",
     "output_type": "stream",
     "text": [
      "/opt/anaconda3/lib/python3.7/site-packages/sklearn/manifold/_spectral_embedding.py:236: UserWarning: Graph is not fully connected, spectral embedding may not work as expected.\n",
      "  warnings.warn(\"Graph is not fully connected, spectral embedding\"\n",
      "/opt/anaconda3/lib/python3.7/site-packages/sklearn/manifold/_spectral_embedding.py:236: UserWarning: Graph is not fully connected, spectral embedding may not work as expected.\n",
      "  warnings.warn(\"Graph is not fully connected, spectral embedding\"\n"
     ]
    },
    {
     "name": "stdout",
     "output_type": "stream",
     "text": [
      "continued\n",
      "{0: 0.5342465753424658, 1: 0, 2: 0, 3: 0.3333333333333333, 4: 0, 5: 0, 6: 0}\n",
      "nFeatures  14\n"
     ]
    },
    {
     "name": "stderr",
     "output_type": "stream",
     "text": [
      "/opt/anaconda3/lib/python3.7/site-packages/sklearn/manifold/_spectral_embedding.py:236: UserWarning: Graph is not fully connected, spectral embedding may not work as expected.\n",
      "  warnings.warn(\"Graph is not fully connected, spectral embedding\"\n",
      "/opt/anaconda3/lib/python3.7/site-packages/sklearn/manifold/_spectral_embedding.py:236: UserWarning: Graph is not fully connected, spectral embedding may not work as expected.\n",
      "  warnings.warn(\"Graph is not fully connected, spectral embedding\"\n"
     ]
    },
    {
     "name": "stdout",
     "output_type": "stream",
     "text": [
      "continued\n",
      "{0: 0.5316455696202531, 1: 0, 2: 0, 3: 0.2777777777777778, 4: 0, 5: 0, 6: 0}\n",
      "nFeatures  5\n"
     ]
    },
    {
     "name": "stderr",
     "output_type": "stream",
     "text": [
      "/opt/anaconda3/lib/python3.7/site-packages/sklearn/manifold/_spectral_embedding.py:236: UserWarning: Graph is not fully connected, spectral embedding may not work as expected.\n",
      "  warnings.warn(\"Graph is not fully connected, spectral embedding\"\n",
      "/opt/anaconda3/lib/python3.7/site-packages/sklearn/manifold/_spectral_embedding.py:236: UserWarning: Graph is not fully connected, spectral embedding may not work as expected.\n",
      "  warnings.warn(\"Graph is not fully connected, spectral embedding\"\n"
     ]
    },
    {
     "name": "stdout",
     "output_type": "stream",
     "text": [
      "continued\n",
      "{0: 0.5670103092783505, 1: 0, 2: 0, 3: 0, 4: 0}\n",
      "nFeatures  29\n"
     ]
    },
    {
     "name": "stderr",
     "output_type": "stream",
     "text": [
      "/opt/anaconda3/lib/python3.7/site-packages/sklearn/manifold/_spectral_embedding.py:236: UserWarning: Graph is not fully connected, spectral embedding may not work as expected.\n",
      "  warnings.warn(\"Graph is not fully connected, spectral embedding\"\n",
      "/opt/anaconda3/lib/python3.7/site-packages/sklearn/manifold/_spectral_embedding.py:236: UserWarning: Graph is not fully connected, spectral embedding may not work as expected.\n",
      "  warnings.warn(\"Graph is not fully connected, spectral embedding\"\n"
     ]
    },
    {
     "name": "stdout",
     "output_type": "stream",
     "text": [
      "continued\n",
      "{0: 0.5692307692307692, 1: 0.4375, 2: 0, 3: 0, 4: 0}\n",
      "nFeatures  37\n"
     ]
    },
    {
     "name": "stderr",
     "output_type": "stream",
     "text": [
      "/opt/anaconda3/lib/python3.7/site-packages/sklearn/manifold/_spectral_embedding.py:236: UserWarning: Graph is not fully connected, spectral embedding may not work as expected.\n",
      "  warnings.warn(\"Graph is not fully connected, spectral embedding\"\n",
      "/opt/anaconda3/lib/python3.7/site-packages/sklearn/manifold/_spectral_embedding.py:236: UserWarning: Graph is not fully connected, spectral embedding may not work as expected.\n",
      "  warnings.warn(\"Graph is not fully connected, spectral embedding\"\n"
     ]
    },
    {
     "name": "stdout",
     "output_type": "stream",
     "text": [
      "continued\n",
      "{0: 0.5409836065573771, 1: 0.3888888888888889, 2: 0, 3: 0, 4: 0}\n",
      "nFeatures  19\n"
     ]
    },
    {
     "name": "stderr",
     "output_type": "stream",
     "text": [
      "/opt/anaconda3/lib/python3.7/site-packages/sklearn/manifold/_spectral_embedding.py:236: UserWarning: Graph is not fully connected, spectral embedding may not work as expected.\n",
      "  warnings.warn(\"Graph is not fully connected, spectral embedding\"\n",
      "/opt/anaconda3/lib/python3.7/site-packages/sklearn/manifold/_spectral_embedding.py:236: UserWarning: Graph is not fully connected, spectral embedding may not work as expected.\n",
      "  warnings.warn(\"Graph is not fully connected, spectral embedding\"\n"
     ]
    },
    {
     "name": "stdout",
     "output_type": "stream",
     "text": [
      "continued\n",
      "{0: 0.5714285714285714, 1: 0.4444444444444444, 2: 0, 3: 0, 4: 0}\n",
      "nFeatures  18\n"
     ]
    },
    {
     "name": "stderr",
     "output_type": "stream",
     "text": [
      "/opt/anaconda3/lib/python3.7/site-packages/sklearn/manifold/_spectral_embedding.py:236: UserWarning: Graph is not fully connected, spectral embedding may not work as expected.\n",
      "  warnings.warn(\"Graph is not fully connected, spectral embedding\"\n",
      "/opt/anaconda3/lib/python3.7/site-packages/sklearn/manifold/_spectral_embedding.py:236: UserWarning: Graph is not fully connected, spectral embedding may not work as expected.\n",
      "  warnings.warn(\"Graph is not fully connected, spectral embedding\"\n"
     ]
    },
    {
     "name": "stdout",
     "output_type": "stream",
     "text": [
      "continued\n",
      "{0: 0.5352112676056338, 1: 0.34615384615384615, 2: 0, 3: 0, 4: 0}\n",
      "nFeatures  3\n"
     ]
    },
    {
     "name": "stderr",
     "output_type": "stream",
     "text": [
      "/opt/anaconda3/lib/python3.7/site-packages/sklearn/manifold/_spectral_embedding.py:236: UserWarning: Graph is not fully connected, spectral embedding may not work as expected.\n",
      "  warnings.warn(\"Graph is not fully connected, spectral embedding\"\n",
      "/opt/anaconda3/lib/python3.7/site-packages/sklearn/manifold/_spectral_embedding.py:236: UserWarning: Graph is not fully connected, spectral embedding may not work as expected.\n",
      "  warnings.warn(\"Graph is not fully connected, spectral embedding\"\n"
     ]
    },
    {
     "name": "stdout",
     "output_type": "stream",
     "text": [
      "continued\n",
      "{0: 0.5638297872340425, 1: 0.3333333333333333, 2: 0}\n",
      "nFeatures  3\n"
     ]
    },
    {
     "name": "stderr",
     "output_type": "stream",
     "text": [
      "/opt/anaconda3/lib/python3.7/site-packages/sklearn/manifold/_spectral_embedding.py:236: UserWarning: Graph is not fully connected, spectral embedding may not work as expected.\n",
      "  warnings.warn(\"Graph is not fully connected, spectral embedding\"\n",
      "/opt/anaconda3/lib/python3.7/site-packages/sklearn/manifold/_spectral_embedding.py:236: UserWarning: Graph is not fully connected, spectral embedding may not work as expected.\n",
      "  warnings.warn(\"Graph is not fully connected, spectral embedding\"\n"
     ]
    },
    {
     "name": "stdout",
     "output_type": "stream",
     "text": [
      "continued\n",
      "{0: 0.5625, 1: 0, 2: 0.0, 3: 0, 4: 0, 5: 0}\n",
      "nFeatures  29\n"
     ]
    },
    {
     "name": "stderr",
     "output_type": "stream",
     "text": [
      "/opt/anaconda3/lib/python3.7/site-packages/sklearn/manifold/_spectral_embedding.py:236: UserWarning: Graph is not fully connected, spectral embedding may not work as expected.\n",
      "  warnings.warn(\"Graph is not fully connected, spectral embedding\"\n",
      "/opt/anaconda3/lib/python3.7/site-packages/sklearn/manifold/_spectral_embedding.py:236: UserWarning: Graph is not fully connected, spectral embedding may not work as expected.\n",
      "  warnings.warn(\"Graph is not fully connected, spectral embedding\"\n"
     ]
    },
    {
     "name": "stdout",
     "output_type": "stream",
     "text": [
      "continued\n",
      "{0: 0.5303030303030303, 1: 0, 2: 0.3548387096774194, 3: 0, 4: 0, 5: 0}\n",
      "nFeatures  37\n"
     ]
    },
    {
     "name": "stderr",
     "output_type": "stream",
     "text": [
      "/opt/anaconda3/lib/python3.7/site-packages/sklearn/manifold/_spectral_embedding.py:236: UserWarning: Graph is not fully connected, spectral embedding may not work as expected.\n",
      "  warnings.warn(\"Graph is not fully connected, spectral embedding\"\n",
      "/opt/anaconda3/lib/python3.7/site-packages/sklearn/manifold/_spectral_embedding.py:236: UserWarning: Graph is not fully connected, spectral embedding may not work as expected.\n",
      "  warnings.warn(\"Graph is not fully connected, spectral embedding\"\n"
     ]
    },
    {
     "name": "stdout",
     "output_type": "stream",
     "text": [
      "continued\n",
      "{0: 0.5245901639344263, 1: 0, 2: 0.3611111111111111, 3: 0, 4: 0, 5: 0}\n",
      "nFeatures  14\n"
     ]
    },
    {
     "name": "stderr",
     "output_type": "stream",
     "text": [
      "/opt/anaconda3/lib/python3.7/site-packages/sklearn/manifold/_spectral_embedding.py:236: UserWarning: Graph is not fully connected, spectral embedding may not work as expected.\n",
      "  warnings.warn(\"Graph is not fully connected, spectral embedding\"\n",
      "/opt/anaconda3/lib/python3.7/site-packages/sklearn/manifold/_spectral_embedding.py:236: UserWarning: Graph is not fully connected, spectral embedding may not work as expected.\n",
      "  warnings.warn(\"Graph is not fully connected, spectral embedding\"\n"
     ]
    },
    {
     "name": "stdout",
     "output_type": "stream",
     "text": [
      "continued\n",
      "{0: 0.5454545454545454, 1: 0, 2: 0.3870967741935484, 3: 0, 4: 0, 5: 0}\n",
      "nFeatures  17\n"
     ]
    },
    {
     "name": "stderr",
     "output_type": "stream",
     "text": [
      "/opt/anaconda3/lib/python3.7/site-packages/sklearn/manifold/_spectral_embedding.py:236: UserWarning: Graph is not fully connected, spectral embedding may not work as expected.\n",
      "  warnings.warn(\"Graph is not fully connected, spectral embedding\"\n",
      "/opt/anaconda3/lib/python3.7/site-packages/sklearn/manifold/_spectral_embedding.py:236: UserWarning: Graph is not fully connected, spectral embedding may not work as expected.\n",
      "  warnings.warn(\"Graph is not fully connected, spectral embedding\"\n"
     ]
    },
    {
     "name": "stdout",
     "output_type": "stream",
     "text": [
      "continued\n",
      "{0: 0.5362318840579711, 1: 0, 2: 0.35714285714285715, 3: 0, 4: 0, 5: 0}\n",
      "nFeatures  13\n"
     ]
    },
    {
     "name": "stderr",
     "output_type": "stream",
     "text": [
      "/opt/anaconda3/lib/python3.7/site-packages/sklearn/manifold/_spectral_embedding.py:236: UserWarning: Graph is not fully connected, spectral embedding may not work as expected.\n",
      "  warnings.warn(\"Graph is not fully connected, spectral embedding\"\n",
      "/opt/anaconda3/lib/python3.7/site-packages/sklearn/manifold/_spectral_embedding.py:236: UserWarning: Graph is not fully connected, spectral embedding may not work as expected.\n",
      "  warnings.warn(\"Graph is not fully connected, spectral embedding\"\n"
     ]
    },
    {
     "name": "stdout",
     "output_type": "stream",
     "text": [
      "continued\n",
      "{0: 0.631578947368421, 1: 0.44871794871794873, 2: 0, 3: 0, 4: 0}\n",
      "nFeatures  29\n"
     ]
    },
    {
     "name": "stderr",
     "output_type": "stream",
     "text": [
      "/opt/anaconda3/lib/python3.7/site-packages/sklearn/manifold/_spectral_embedding.py:236: UserWarning: Graph is not fully connected, spectral embedding may not work as expected.\n",
      "  warnings.warn(\"Graph is not fully connected, spectral embedding\"\n",
      "/opt/anaconda3/lib/python3.7/site-packages/sklearn/manifold/_spectral_embedding.py:236: UserWarning: Graph is not fully connected, spectral embedding may not work as expected.\n",
      "  warnings.warn(\"Graph is not fully connected, spectral embedding\"\n"
     ]
    },
    {
     "name": "stdout",
     "output_type": "stream",
     "text": [
      "continued\n",
      "{0: 0.5454545454545454, 1: 0.4266666666666667, 2: 0, 3: 0, 4: 0}\n",
      "nFeatures  37\n"
     ]
    },
    {
     "name": "stderr",
     "output_type": "stream",
     "text": [
      "/opt/anaconda3/lib/python3.7/site-packages/sklearn/manifold/_spectral_embedding.py:236: UserWarning: Graph is not fully connected, spectral embedding may not work as expected.\n",
      "  warnings.warn(\"Graph is not fully connected, spectral embedding\"\n",
      "/opt/anaconda3/lib/python3.7/site-packages/sklearn/manifold/_spectral_embedding.py:236: UserWarning: Graph is not fully connected, spectral embedding may not work as expected.\n",
      "  warnings.warn(\"Graph is not fully connected, spectral embedding\"\n"
     ]
    },
    {
     "name": "stdout",
     "output_type": "stream",
     "text": [
      "continued\n",
      "{0: 0.5238095238095238, 1: 0.42105263157894735, 2: 0, 3: 0, 4: 0}\n",
      "nFeatures  21\n"
     ]
    },
    {
     "name": "stderr",
     "output_type": "stream",
     "text": [
      "/opt/anaconda3/lib/python3.7/site-packages/sklearn/manifold/_spectral_embedding.py:236: UserWarning: Graph is not fully connected, spectral embedding may not work as expected.\n",
      "  warnings.warn(\"Graph is not fully connected, spectral embedding\"\n",
      "/opt/anaconda3/lib/python3.7/site-packages/sklearn/manifold/_spectral_embedding.py:236: UserWarning: Graph is not fully connected, spectral embedding may not work as expected.\n",
      "  warnings.warn(\"Graph is not fully connected, spectral embedding\"\n"
     ]
    },
    {
     "name": "stdout",
     "output_type": "stream",
     "text": [
      "continued\n",
      "{0: 0.5909090909090909, 1: 0.44, 2: 0, 3: 0, 4: 0}\n",
      "nFeatures  37\n"
     ]
    },
    {
     "name": "stderr",
     "output_type": "stream",
     "text": [
      "/opt/anaconda3/lib/python3.7/site-packages/sklearn/manifold/_spectral_embedding.py:236: UserWarning: Graph is not fully connected, spectral embedding may not work as expected.\n",
      "  warnings.warn(\"Graph is not fully connected, spectral embedding\"\n",
      "/opt/anaconda3/lib/python3.7/site-packages/sklearn/manifold/_spectral_embedding.py:236: UserWarning: Graph is not fully connected, spectral embedding may not work as expected.\n",
      "  warnings.warn(\"Graph is not fully connected, spectral embedding\"\n"
     ]
    },
    {
     "name": "stdout",
     "output_type": "stream",
     "text": [
      "continued\n",
      "{0: 0.5223880597014925, 1: 0, 2: 0.3333333333333333, 3: 0, 4: 0, 5: 0}\n",
      "nFeatures  22\n"
     ]
    },
    {
     "name": "stderr",
     "output_type": "stream",
     "text": [
      "/opt/anaconda3/lib/python3.7/site-packages/sklearn/manifold/_spectral_embedding.py:236: UserWarning: Graph is not fully connected, spectral embedding may not work as expected.\n",
      "  warnings.warn(\"Graph is not fully connected, spectral embedding\"\n",
      "/opt/anaconda3/lib/python3.7/site-packages/sklearn/manifold/_spectral_embedding.py:236: UserWarning: Graph is not fully connected, spectral embedding may not work as expected.\n",
      "  warnings.warn(\"Graph is not fully connected, spectral embedding\"\n"
     ]
    },
    {
     "name": "stdout",
     "output_type": "stream",
     "text": [
      "continued\n",
      "{0: 0.5277777777777778, 1: 0, 2: 0.32, 3: 0, 4: 0, 5: 0}\n",
      "nFeatures  13\n"
     ]
    },
    {
     "name": "stderr",
     "output_type": "stream",
     "text": [
      "/opt/anaconda3/lib/python3.7/site-packages/sklearn/manifold/_spectral_embedding.py:236: UserWarning: Graph is not fully connected, spectral embedding may not work as expected.\n",
      "  warnings.warn(\"Graph is not fully connected, spectral embedding\"\n",
      "/opt/anaconda3/lib/python3.7/site-packages/sklearn/manifold/_spectral_embedding.py:236: UserWarning: Graph is not fully connected, spectral embedding may not work as expected.\n",
      "  warnings.warn(\"Graph is not fully connected, spectral embedding\"\n"
     ]
    },
    {
     "name": "stdout",
     "output_type": "stream",
     "text": [
      "continued\n",
      "{0: 0.6, 1: 0, 2: 0, 3: 0, 4: 0.44155844155844154, 5: 0, 6: 0, 7: 0}\n",
      "nFeatures  29\n"
     ]
    },
    {
     "name": "stderr",
     "output_type": "stream",
     "text": [
      "/opt/anaconda3/lib/python3.7/site-packages/sklearn/manifold/_spectral_embedding.py:236: UserWarning: Graph is not fully connected, spectral embedding may not work as expected.\n",
      "  warnings.warn(\"Graph is not fully connected, spectral embedding\"\n",
      "/opt/anaconda3/lib/python3.7/site-packages/sklearn/manifold/_spectral_embedding.py:236: UserWarning: Graph is not fully connected, spectral embedding may not work as expected.\n",
      "  warnings.warn(\"Graph is not fully connected, spectral embedding\"\n"
     ]
    },
    {
     "name": "stdout",
     "output_type": "stream",
     "text": [
      "continued\n",
      "{0: 0.6190476190476191, 1: 0, 2: 0, 3: 0, 4: 0.4473684210526316, 5: 0, 6: 0, 7: 0}\n",
      "nFeatures  36\n"
     ]
    },
    {
     "name": "stderr",
     "output_type": "stream",
     "text": [
      "/opt/anaconda3/lib/python3.7/site-packages/sklearn/manifold/_spectral_embedding.py:236: UserWarning: Graph is not fully connected, spectral embedding may not work as expected.\n",
      "  warnings.warn(\"Graph is not fully connected, spectral embedding\"\n",
      "/opt/anaconda3/lib/python3.7/site-packages/sklearn/manifold/_spectral_embedding.py:236: UserWarning: Graph is not fully connected, spectral embedding may not work as expected.\n",
      "  warnings.warn(\"Graph is not fully connected, spectral embedding\"\n"
     ]
    },
    {
     "name": "stdout",
     "output_type": "stream",
     "text": [
      "continued\n",
      "{0: 0.625, 1: 0, 2: 0, 3: 0, 4: 0.4520547945205479, 5: 0, 6: 0, 7: 0}\n",
      "nFeatures  23\n"
     ]
    },
    {
     "name": "stderr",
     "output_type": "stream",
     "text": [
      "/opt/anaconda3/lib/python3.7/site-packages/sklearn/manifold/_spectral_embedding.py:236: UserWarning: Graph is not fully connected, spectral embedding may not work as expected.\n",
      "  warnings.warn(\"Graph is not fully connected, spectral embedding\"\n",
      "/opt/anaconda3/lib/python3.7/site-packages/sklearn/manifold/_spectral_embedding.py:236: UserWarning: Graph is not fully connected, spectral embedding may not work as expected.\n",
      "  warnings.warn(\"Graph is not fully connected, spectral embedding\"\n"
     ]
    },
    {
     "name": "stdout",
     "output_type": "stream",
     "text": [
      "continued\n",
      "{0: 0.6842105263157895, 1: 0, 2: 0, 3: 0, 4: 0.46153846153846156, 5: 0, 6: 0, 7: 0}\n",
      "nFeatures  37\n"
     ]
    },
    {
     "name": "stderr",
     "output_type": "stream",
     "text": [
      "/opt/anaconda3/lib/python3.7/site-packages/sklearn/manifold/_spectral_embedding.py:236: UserWarning: Graph is not fully connected, spectral embedding may not work as expected.\n",
      "  warnings.warn(\"Graph is not fully connected, spectral embedding\"\n",
      "/opt/anaconda3/lib/python3.7/site-packages/sklearn/manifold/_spectral_embedding.py:236: UserWarning: Graph is not fully connected, spectral embedding may not work as expected.\n",
      "  warnings.warn(\"Graph is not fully connected, spectral embedding\"\n"
     ]
    },
    {
     "name": "stdout",
     "output_type": "stream",
     "text": [
      "continued\n",
      "{0: 0.5428571428571428, 1: 0, 2: 0, 3: 0, 4: 0.37037037037037035, 5: 0, 6: 0, 7: 0}\n",
      "nFeatures  14\n"
     ]
    },
    {
     "name": "stderr",
     "output_type": "stream",
     "text": [
      "/opt/anaconda3/lib/python3.7/site-packages/sklearn/manifold/_spectral_embedding.py:236: UserWarning: Graph is not fully connected, spectral embedding may not work as expected.\n",
      "  warnings.warn(\"Graph is not fully connected, spectral embedding\"\n",
      "/opt/anaconda3/lib/python3.7/site-packages/sklearn/manifold/_spectral_embedding.py:236: UserWarning: Graph is not fully connected, spectral embedding may not work as expected.\n",
      "  warnings.warn(\"Graph is not fully connected, spectral embedding\"\n"
     ]
    },
    {
     "name": "stdout",
     "output_type": "stream",
     "text": [
      "continued\n",
      "{0: 0.5316455696202531, 1: 0, 2: 0, 3: 0, 4: 0.2777777777777778, 5: 0, 6: 0, 7: 0}\n",
      "nFeatures  12\n"
     ]
    },
    {
     "name": "stderr",
     "output_type": "stream",
     "text": [
      "/opt/anaconda3/lib/python3.7/site-packages/sklearn/manifold/_spectral_embedding.py:236: UserWarning: Graph is not fully connected, spectral embedding may not work as expected.\n",
      "  warnings.warn(\"Graph is not fully connected, spectral embedding\"\n",
      "/opt/anaconda3/lib/python3.7/site-packages/sklearn/manifold/_spectral_embedding.py:236: UserWarning: Graph is not fully connected, spectral embedding may not work as expected.\n",
      "  warnings.warn(\"Graph is not fully connected, spectral embedding\"\n"
     ]
    },
    {
     "name": "stdout",
     "output_type": "stream",
     "text": [
      "continued\n",
      "{0: 0.625, 1: 0.4520547945205479, 2: 0, 3: 0, 4: 0}\n",
      "nFeatures  29\n"
     ]
    },
    {
     "name": "stderr",
     "output_type": "stream",
     "text": [
      "/opt/anaconda3/lib/python3.7/site-packages/sklearn/manifold/_spectral_embedding.py:236: UserWarning: Graph is not fully connected, spectral embedding may not work as expected.\n",
      "  warnings.warn(\"Graph is not fully connected, spectral embedding\"\n",
      "/opt/anaconda3/lib/python3.7/site-packages/sklearn/manifold/_spectral_embedding.py:236: UserWarning: Graph is not fully connected, spectral embedding may not work as expected.\n",
      "  warnings.warn(\"Graph is not fully connected, spectral embedding\"\n"
     ]
    },
    {
     "name": "stdout",
     "output_type": "stream",
     "text": [
      "continued\n",
      "{0: 0.5384615384615384, 1: 0.42857142857142855, 2: 0, 3: 0, 4: 0}\n",
      "nFeatures  37\n"
     ]
    },
    {
     "name": "stderr",
     "output_type": "stream",
     "text": [
      "/opt/anaconda3/lib/python3.7/site-packages/sklearn/manifold/_spectral_embedding.py:236: UserWarning: Graph is not fully connected, spectral embedding may not work as expected.\n",
      "  warnings.warn(\"Graph is not fully connected, spectral embedding\"\n",
      "/opt/anaconda3/lib/python3.7/site-packages/sklearn/manifold/_spectral_embedding.py:236: UserWarning: Graph is not fully connected, spectral embedding may not work as expected.\n",
      "  warnings.warn(\"Graph is not fully connected, spectral embedding\"\n"
     ]
    },
    {
     "name": "stdout",
     "output_type": "stream",
     "text": [
      "continued\n",
      "{0: 0.5, 1: 0.42168674698795183, 2: 0, 3: 0, 4: 0}\n",
      "nFeatures  32\n"
     ]
    },
    {
     "name": "stderr",
     "output_type": "stream",
     "text": [
      "/opt/anaconda3/lib/python3.7/site-packages/sklearn/manifold/_spectral_embedding.py:236: UserWarning: Graph is not fully connected, spectral embedding may not work as expected.\n",
      "  warnings.warn(\"Graph is not fully connected, spectral embedding\"\n",
      "/opt/anaconda3/lib/python3.7/site-packages/sklearn/manifold/_spectral_embedding.py:236: UserWarning: Graph is not fully connected, spectral embedding may not work as expected.\n",
      "  warnings.warn(\"Graph is not fully connected, spectral embedding\"\n"
     ]
    },
    {
     "name": "stdout",
     "output_type": "stream",
     "text": [
      "continued\n",
      "{0: 0.5294117647058824, 1: 0.425, 2: 0, 3: 0, 4: 0}\n",
      "nFeatures  12\n"
     ]
    },
    {
     "name": "stderr",
     "output_type": "stream",
     "text": [
      "/opt/anaconda3/lib/python3.7/site-packages/sklearn/manifold/_spectral_embedding.py:236: UserWarning: Graph is not fully connected, spectral embedding may not work as expected.\n",
      "  warnings.warn(\"Graph is not fully connected, spectral embedding\"\n",
      "/opt/anaconda3/lib/python3.7/site-packages/sklearn/manifold/_spectral_embedding.py:236: UserWarning: Graph is not fully connected, spectral embedding may not work as expected.\n",
      "  warnings.warn(\"Graph is not fully connected, spectral embedding\"\n"
     ]
    },
    {
     "name": "stdout",
     "output_type": "stream",
     "text": [
      "continued\n",
      "{0: 0.4666666666666667, 1: 0, 2: 0, 3: 0, 4: 0.4146341463414634, 5: 0, 6: 0, 7: 0}\n",
      "nFeatures  28\n"
     ]
    },
    {
     "name": "stderr",
     "output_type": "stream",
     "text": [
      "/opt/anaconda3/lib/python3.7/site-packages/sklearn/manifold/_spectral_embedding.py:236: UserWarning: Graph is not fully connected, spectral embedding may not work as expected.\n",
      "  warnings.warn(\"Graph is not fully connected, spectral embedding\"\n",
      "/opt/anaconda3/lib/python3.7/site-packages/sklearn/manifold/_spectral_embedding.py:236: UserWarning: Graph is not fully connected, spectral embedding may not work as expected.\n",
      "  warnings.warn(\"Graph is not fully connected, spectral embedding\"\n"
     ]
    },
    {
     "name": "stdout",
     "output_type": "stream",
     "text": [
      "continued\n",
      "{0: 0.6, 1: 0, 2: 0, 3: 0, 4: 0.43902439024390244, 5: 0, 6: 0, 7: 0}\n",
      "nFeatures  37\n"
     ]
    },
    {
     "name": "stderr",
     "output_type": "stream",
     "text": [
      "/opt/anaconda3/lib/python3.7/site-packages/sklearn/manifold/_spectral_embedding.py:236: UserWarning: Graph is not fully connected, spectral embedding may not work as expected.\n",
      "  warnings.warn(\"Graph is not fully connected, spectral embedding\"\n",
      "/opt/anaconda3/lib/python3.7/site-packages/sklearn/manifold/_spectral_embedding.py:236: UserWarning: Graph is not fully connected, spectral embedding may not work as expected.\n",
      "  warnings.warn(\"Graph is not fully connected, spectral embedding\"\n"
     ]
    },
    {
     "name": "stdout",
     "output_type": "stream",
     "text": [
      "continued\n",
      "{0: 0.6428571428571429, 1: 0, 2: 0, 3: 0, 4: 0.4457831325301205, 5: 0, 6: 0, 7: 0}\n",
      "nFeatures  32\n"
     ]
    },
    {
     "name": "stderr",
     "output_type": "stream",
     "text": [
      "/opt/anaconda3/lib/python3.7/site-packages/sklearn/manifold/_spectral_embedding.py:236: UserWarning: Graph is not fully connected, spectral embedding may not work as expected.\n",
      "  warnings.warn(\"Graph is not fully connected, spectral embedding\"\n",
      "/opt/anaconda3/lib/python3.7/site-packages/sklearn/manifold/_spectral_embedding.py:236: UserWarning: Graph is not fully connected, spectral embedding may not work as expected.\n",
      "  warnings.warn(\"Graph is not fully connected, spectral embedding\"\n"
     ]
    },
    {
     "name": "stdout",
     "output_type": "stream",
     "text": [
      "continued\n",
      "{0: 0.7142857142857143, 1: 0, 2: 0, 3: 0, 4: 0.4578313253012048, 5: 0, 6: 0, 7: 0}\n",
      "nFeatures  13\n"
     ]
    },
    {
     "name": "stderr",
     "output_type": "stream",
     "text": [
      "/opt/anaconda3/lib/python3.7/site-packages/sklearn/manifold/_spectral_embedding.py:236: UserWarning: Graph is not fully connected, spectral embedding may not work as expected.\n",
      "  warnings.warn(\"Graph is not fully connected, spectral embedding\"\n",
      "/opt/anaconda3/lib/python3.7/site-packages/sklearn/manifold/_spectral_embedding.py:236: UserWarning: Graph is not fully connected, spectral embedding may not work as expected.\n",
      "  warnings.warn(\"Graph is not fully connected, spectral embedding\"\n"
     ]
    },
    {
     "name": "stdout",
     "output_type": "stream",
     "text": [
      "continued\n",
      "{0: 0.6, 1: 0, 2: 0.44155844155844154, 3: 0, 4: 0, 5: 0}\n",
      "nFeatures  29\n"
     ]
    },
    {
     "name": "stderr",
     "output_type": "stream",
     "text": [
      "/opt/anaconda3/lib/python3.7/site-packages/sklearn/manifold/_spectral_embedding.py:236: UserWarning: Graph is not fully connected, spectral embedding may not work as expected.\n",
      "  warnings.warn(\"Graph is not fully connected, spectral embedding\"\n",
      "/opt/anaconda3/lib/python3.7/site-packages/sklearn/manifold/_spectral_embedding.py:236: UserWarning: Graph is not fully connected, spectral embedding may not work as expected.\n",
      "  warnings.warn(\"Graph is not fully connected, spectral embedding\"\n"
     ]
    },
    {
     "name": "stdout",
     "output_type": "stream",
     "text": [
      "continued\n",
      "{0: 0.6190476190476191, 1: 0, 2: 0.4473684210526316, 3: 0, 4: 0, 5: 0}\n",
      "nFeatures  36\n"
     ]
    },
    {
     "name": "stderr",
     "output_type": "stream",
     "text": [
      "/opt/anaconda3/lib/python3.7/site-packages/sklearn/manifold/_spectral_embedding.py:236: UserWarning: Graph is not fully connected, spectral embedding may not work as expected.\n",
      "  warnings.warn(\"Graph is not fully connected, spectral embedding\"\n",
      "/opt/anaconda3/lib/python3.7/site-packages/sklearn/manifold/_spectral_embedding.py:236: UserWarning: Graph is not fully connected, spectral embedding may not work as expected.\n",
      "  warnings.warn(\"Graph is not fully connected, spectral embedding\"\n"
     ]
    },
    {
     "name": "stdout",
     "output_type": "stream",
     "text": [
      "continued\n",
      "{0: 0.56, 1: 0, 2: 0.4305555555555556, 3: 0, 4: 0, 5: 0}\n",
      "nFeatures  24\n"
     ]
    },
    {
     "name": "stderr",
     "output_type": "stream",
     "text": [
      "/opt/anaconda3/lib/python3.7/site-packages/sklearn/manifold/_spectral_embedding.py:236: UserWarning: Graph is not fully connected, spectral embedding may not work as expected.\n",
      "  warnings.warn(\"Graph is not fully connected, spectral embedding\"\n",
      "/opt/anaconda3/lib/python3.7/site-packages/sklearn/manifold/_spectral_embedding.py:236: UserWarning: Graph is not fully connected, spectral embedding may not work as expected.\n",
      "  warnings.warn(\"Graph is not fully connected, spectral embedding\"\n"
     ]
    },
    {
     "name": "stdout",
     "output_type": "stream",
     "text": [
      "continued\n",
      "{0: 0.56, 1: 0, 2: 0.4305555555555556, 3: 0, 4: 0, 5: 0}\n",
      "nFeatures  37\n"
     ]
    },
    {
     "name": "stderr",
     "output_type": "stream",
     "text": [
      "/opt/anaconda3/lib/python3.7/site-packages/sklearn/manifold/_spectral_embedding.py:236: UserWarning: Graph is not fully connected, spectral embedding may not work as expected.\n",
      "  warnings.warn(\"Graph is not fully connected, spectral embedding\"\n",
      "/opt/anaconda3/lib/python3.7/site-packages/sklearn/manifold/_spectral_embedding.py:236: UserWarning: Graph is not fully connected, spectral embedding may not work as expected.\n",
      "  warnings.warn(\"Graph is not fully connected, spectral embedding\"\n"
     ]
    },
    {
     "name": "stdout",
     "output_type": "stream",
     "text": [
      "continued\n",
      "{0: 0.5428571428571428, 1: 0, 2: 0, 3: 0, 4: 0.37037037037037035, 5: 0, 6: 0, 7: 0}\n",
      "nFeatures  14\n"
     ]
    },
    {
     "name": "stderr",
     "output_type": "stream",
     "text": [
      "/opt/anaconda3/lib/python3.7/site-packages/sklearn/manifold/_spectral_embedding.py:236: UserWarning: Graph is not fully connected, spectral embedding may not work as expected.\n",
      "  warnings.warn(\"Graph is not fully connected, spectral embedding\"\n",
      "/opt/anaconda3/lib/python3.7/site-packages/sklearn/manifold/_spectral_embedding.py:236: UserWarning: Graph is not fully connected, spectral embedding may not work as expected.\n",
      "  warnings.warn(\"Graph is not fully connected, spectral embedding\"\n"
     ]
    },
    {
     "name": "stdout",
     "output_type": "stream",
     "text": [
      "continued\n",
      "{0: 0.5316455696202531, 1: 0, 2: 0, 3: 0, 4: 0.2777777777777778, 5: 0, 6: 0, 7: 0}\n",
      "nFeatures  5\n"
     ]
    },
    {
     "name": "stderr",
     "output_type": "stream",
     "text": [
      "/opt/anaconda3/lib/python3.7/site-packages/sklearn/manifold/_spectral_embedding.py:236: UserWarning: Graph is not fully connected, spectral embedding may not work as expected.\n",
      "  warnings.warn(\"Graph is not fully connected, spectral embedding\"\n",
      "/opt/anaconda3/lib/python3.7/site-packages/sklearn/manifold/_spectral_embedding.py:236: UserWarning: Graph is not fully connected, spectral embedding may not work as expected.\n",
      "  warnings.warn(\"Graph is not fully connected, spectral embedding\"\n"
     ]
    },
    {
     "name": "stdout",
     "output_type": "stream",
     "text": [
      "continued\n",
      "{0: 0.5670103092783505, 1: 0, 2: 0, 3: 0, 4: 0}\n",
      "nFeatures  29\n"
     ]
    },
    {
     "name": "stderr",
     "output_type": "stream",
     "text": [
      "/opt/anaconda3/lib/python3.7/site-packages/sklearn/manifold/_spectral_embedding.py:236: UserWarning: Graph is not fully connected, spectral embedding may not work as expected.\n",
      "  warnings.warn(\"Graph is not fully connected, spectral embedding\"\n",
      "/opt/anaconda3/lib/python3.7/site-packages/sklearn/manifold/_spectral_embedding.py:236: UserWarning: Graph is not fully connected, spectral embedding may not work as expected.\n",
      "  warnings.warn(\"Graph is not fully connected, spectral embedding\"\n"
     ]
    },
    {
     "name": "stdout",
     "output_type": "stream",
     "text": [
      "continued\n",
      "{0: 0.5692307692307692, 1: 0.4375, 2: 0, 3: 0, 4: 0}\n",
      "nFeatures  37\n"
     ]
    },
    {
     "name": "stderr",
     "output_type": "stream",
     "text": [
      "/opt/anaconda3/lib/python3.7/site-packages/sklearn/manifold/_spectral_embedding.py:236: UserWarning: Graph is not fully connected, spectral embedding may not work as expected.\n",
      "  warnings.warn(\"Graph is not fully connected, spectral embedding\"\n",
      "/opt/anaconda3/lib/python3.7/site-packages/sklearn/manifold/_spectral_embedding.py:236: UserWarning: Graph is not fully connected, spectral embedding may not work as expected.\n",
      "  warnings.warn(\"Graph is not fully connected, spectral embedding\"\n"
     ]
    },
    {
     "name": "stdout",
     "output_type": "stream",
     "text": [
      "continued\n",
      "{0: 0.5409836065573771, 1: 0.3888888888888889, 2: 0, 3: 0, 4: 0}\n",
      "nFeatures  19\n"
     ]
    },
    {
     "name": "stderr",
     "output_type": "stream",
     "text": [
      "/opt/anaconda3/lib/python3.7/site-packages/sklearn/manifold/_spectral_embedding.py:236: UserWarning: Graph is not fully connected, spectral embedding may not work as expected.\n",
      "  warnings.warn(\"Graph is not fully connected, spectral embedding\"\n",
      "/opt/anaconda3/lib/python3.7/site-packages/sklearn/manifold/_spectral_embedding.py:236: UserWarning: Graph is not fully connected, spectral embedding may not work as expected.\n",
      "  warnings.warn(\"Graph is not fully connected, spectral embedding\"\n"
     ]
    },
    {
     "name": "stdout",
     "output_type": "stream",
     "text": [
      "continued\n",
      "{0: 0.5774647887323944, 1: 0.46153846153846156, 2: 0, 3: 0, 4: 0}\n",
      "nFeatures  9\n"
     ]
    },
    {
     "name": "stderr",
     "output_type": "stream",
     "text": [
      "/opt/anaconda3/lib/python3.7/site-packages/sklearn/manifold/_spectral_embedding.py:236: UserWarning: Graph is not fully connected, spectral embedding may not work as expected.\n",
      "  warnings.warn(\"Graph is not fully connected, spectral embedding\"\n",
      "/opt/anaconda3/lib/python3.7/site-packages/sklearn/manifold/_spectral_embedding.py:236: UserWarning: Graph is not fully connected, spectral embedding may not work as expected.\n",
      "  warnings.warn(\"Graph is not fully connected, spectral embedding\"\n"
     ]
    },
    {
     "name": "stdout",
     "output_type": "stream",
     "text": [
      "continued\n",
      "{0: 0.5729166666666666, 1: 0, 2: 0.0, 3: 0, 4: 0, 5: 0}\n",
      "nFeatures  13\n"
     ]
    },
    {
     "name": "stderr",
     "output_type": "stream",
     "text": [
      "/opt/anaconda3/lib/python3.7/site-packages/sklearn/manifold/_spectral_embedding.py:236: UserWarning: Graph is not fully connected, spectral embedding may not work as expected.\n",
      "  warnings.warn(\"Graph is not fully connected, spectral embedding\"\n",
      "/opt/anaconda3/lib/python3.7/site-packages/sklearn/manifold/_spectral_embedding.py:236: UserWarning: Graph is not fully connected, spectral embedding may not work as expected.\n",
      "  warnings.warn(\"Graph is not fully connected, spectral embedding\"\n"
     ]
    },
    {
     "name": "stdout",
     "output_type": "stream",
     "text": [
      "continued\n",
      "{0: 0.6190476190476191, 1: 0, 2: 0, 3: 0, 4: 0.4473684210526316, 5: 0, 6: 0, 7: 0}\n",
      "nFeatures  28\n"
     ]
    },
    {
     "name": "stderr",
     "output_type": "stream",
     "text": [
      "/opt/anaconda3/lib/python3.7/site-packages/sklearn/manifold/_spectral_embedding.py:236: UserWarning: Graph is not fully connected, spectral embedding may not work as expected.\n",
      "  warnings.warn(\"Graph is not fully connected, spectral embedding\"\n",
      "/opt/anaconda3/lib/python3.7/site-packages/sklearn/manifold/_spectral_embedding.py:236: UserWarning: Graph is not fully connected, spectral embedding may not work as expected.\n",
      "  warnings.warn(\"Graph is not fully connected, spectral embedding\"\n"
     ]
    },
    {
     "name": "stdout",
     "output_type": "stream",
     "text": [
      "continued\n",
      "{0: 0.6818181818181818, 1: 0, 2: 0, 3: 0, 4: 0.4666666666666667, 5: 0, 6: 0, 7: 0}\n",
      "nFeatures  37\n"
     ]
    },
    {
     "name": "stderr",
     "output_type": "stream",
     "text": [
      "/opt/anaconda3/lib/python3.7/site-packages/sklearn/manifold/_spectral_embedding.py:236: UserWarning: Graph is not fully connected, spectral embedding may not work as expected.\n",
      "  warnings.warn(\"Graph is not fully connected, spectral embedding\"\n",
      "/opt/anaconda3/lib/python3.7/site-packages/sklearn/manifold/_spectral_embedding.py:236: UserWarning: Graph is not fully connected, spectral embedding may not work as expected.\n",
      "  warnings.warn(\"Graph is not fully connected, spectral embedding\"\n"
     ]
    },
    {
     "name": "stdout",
     "output_type": "stream",
     "text": [
      "continued\n",
      "{0: 0.6, 1: 0, 2: 0, 3: 0, 4: 0.4444444444444444, 5: 0, 6: 0, 7: 0}\n",
      "nFeatures  21\n"
     ]
    },
    {
     "name": "stderr",
     "output_type": "stream",
     "text": [
      "/opt/anaconda3/lib/python3.7/site-packages/sklearn/manifold/_spectral_embedding.py:236: UserWarning: Graph is not fully connected, spectral embedding may not work as expected.\n",
      "  warnings.warn(\"Graph is not fully connected, spectral embedding\"\n",
      "/opt/anaconda3/lib/python3.7/site-packages/sklearn/manifold/_spectral_embedding.py:236: UserWarning: Graph is not fully connected, spectral embedding may not work as expected.\n",
      "  warnings.warn(\"Graph is not fully connected, spectral embedding\"\n"
     ]
    },
    {
     "name": "stdout",
     "output_type": "stream",
     "text": [
      "continued\n",
      "{0: 0.7222222222222222, 1: 0, 2: 0, 3: 0, 4: 0.46835443037974683, 5: 0, 6: 0, 7: 0}\n",
      "nFeatures  29\n"
     ]
    },
    {
     "name": "stderr",
     "output_type": "stream",
     "text": [
      "/opt/anaconda3/lib/python3.7/site-packages/sklearn/manifold/_spectral_embedding.py:236: UserWarning: Graph is not fully connected, spectral embedding may not work as expected.\n",
      "  warnings.warn(\"Graph is not fully connected, spectral embedding\"\n",
      "/opt/anaconda3/lib/python3.7/site-packages/sklearn/manifold/_spectral_embedding.py:236: UserWarning: Graph is not fully connected, spectral embedding may not work as expected.\n",
      "  warnings.warn(\"Graph is not fully connected, spectral embedding\"\n"
     ]
    },
    {
     "name": "stdout",
     "output_type": "stream",
     "text": [
      "continued\n",
      "{0: 0.5633802816901409, 1: 0, 2: 0, 3: 0.4230769230769231, 4: 0, 5: 0, 6: 0}\n",
      "nFeatures  37\n"
     ]
    },
    {
     "name": "stderr",
     "output_type": "stream",
     "text": [
      "/opt/anaconda3/lib/python3.7/site-packages/sklearn/manifold/_spectral_embedding.py:236: UserWarning: Graph is not fully connected, spectral embedding may not work as expected.\n",
      "  warnings.warn(\"Graph is not fully connected, spectral embedding\"\n",
      "/opt/anaconda3/lib/python3.7/site-packages/sklearn/manifold/_spectral_embedding.py:236: UserWarning: Graph is not fully connected, spectral embedding may not work as expected.\n",
      "  warnings.warn(\"Graph is not fully connected, spectral embedding\"\n"
     ]
    },
    {
     "name": "stdout",
     "output_type": "stream",
     "text": [
      "continued\n",
      "{0: 0.5571428571428572, 1: 0, 2: 0, 3: 0.4074074074074074, 4: 0, 5: 0, 6: 0}\n",
      "nFeatures  17\n"
     ]
    },
    {
     "name": "stderr",
     "output_type": "stream",
     "text": [
      "/opt/anaconda3/lib/python3.7/site-packages/sklearn/manifold/_spectral_embedding.py:236: UserWarning: Graph is not fully connected, spectral embedding may not work as expected.\n",
      "  warnings.warn(\"Graph is not fully connected, spectral embedding\"\n",
      "/opt/anaconda3/lib/python3.7/site-packages/sklearn/manifold/_spectral_embedding.py:236: UserWarning: Graph is not fully connected, spectral embedding may not work as expected.\n",
      "  warnings.warn(\"Graph is not fully connected, spectral embedding\"\n"
     ]
    },
    {
     "name": "stdout",
     "output_type": "stream",
     "text": [
      "continued\n",
      "{0: 0.5294117647058824, 1: 0, 2: 0, 3: 0.3448275862068966, 4: 0, 5: 0, 6: 0}\n",
      "nFeatures  28\n"
     ]
    },
    {
     "name": "stderr",
     "output_type": "stream",
     "text": [
      "/opt/anaconda3/lib/python3.7/site-packages/sklearn/manifold/_spectral_embedding.py:236: UserWarning: Graph is not fully connected, spectral embedding may not work as expected.\n",
      "  warnings.warn(\"Graph is not fully connected, spectral embedding\"\n",
      "/opt/anaconda3/lib/python3.7/site-packages/sklearn/manifold/_spectral_embedding.py:236: UserWarning: Graph is not fully connected, spectral embedding may not work as expected.\n",
      "  warnings.warn(\"Graph is not fully connected, spectral embedding\"\n"
     ]
    },
    {
     "name": "stdout",
     "output_type": "stream",
     "text": [
      "continued\n",
      "{0: 0.5633802816901409, 1: 0, 2: 0, 3: 0.4230769230769231, 4: 0, 5: 0, 6: 0}\n",
      "nFeatures  37\n"
     ]
    },
    {
     "name": "stderr",
     "output_type": "stream",
     "text": [
      "/opt/anaconda3/lib/python3.7/site-packages/sklearn/manifold/_spectral_embedding.py:236: UserWarning: Graph is not fully connected, spectral embedding may not work as expected.\n",
      "  warnings.warn(\"Graph is not fully connected, spectral embedding\"\n",
      "/opt/anaconda3/lib/python3.7/site-packages/sklearn/manifold/_spectral_embedding.py:236: UserWarning: Graph is not fully connected, spectral embedding may not work as expected.\n",
      "  warnings.warn(\"Graph is not fully connected, spectral embedding\"\n"
     ]
    },
    {
     "name": "stdout",
     "output_type": "stream",
     "text": [
      "continued\n",
      "{0: 0.5342465753424658, 1: 0, 2: 0, 3: 0.3333333333333333, 4: 0, 5: 0, 6: 0}\n",
      "nFeatures  18\n"
     ]
    },
    {
     "name": "stderr",
     "output_type": "stream",
     "text": [
      "/opt/anaconda3/lib/python3.7/site-packages/sklearn/manifold/_spectral_embedding.py:236: UserWarning: Graph is not fully connected, spectral embedding may not work as expected.\n",
      "  warnings.warn(\"Graph is not fully connected, spectral embedding\"\n",
      "/opt/anaconda3/lib/python3.7/site-packages/sklearn/manifold/_spectral_embedding.py:236: UserWarning: Graph is not fully connected, spectral embedding may not work as expected.\n",
      "  warnings.warn(\"Graph is not fully connected, spectral embedding\"\n"
     ]
    },
    {
     "name": "stdout",
     "output_type": "stream",
     "text": [
      "continued\n",
      "{0: 0.5492957746478874, 1: 0, 2: 0, 3: 0.38461538461538464, 4: 0, 5: 0, 6: 0}\n",
      "nFeatures  13\n"
     ]
    },
    {
     "name": "stderr",
     "output_type": "stream",
     "text": [
      "/opt/anaconda3/lib/python3.7/site-packages/sklearn/manifold/_spectral_embedding.py:236: UserWarning: Graph is not fully connected, spectral embedding may not work as expected.\n",
      "  warnings.warn(\"Graph is not fully connected, spectral embedding\"\n",
      "/opt/anaconda3/lib/python3.7/site-packages/sklearn/manifold/_spectral_embedding.py:236: UserWarning: Graph is not fully connected, spectral embedding may not work as expected.\n",
      "  warnings.warn(\"Graph is not fully connected, spectral embedding\"\n"
     ]
    },
    {
     "name": "stdout",
     "output_type": "stream",
     "text": [
      "continued\n",
      "{0: 0.6666666666666666, 1: 0, 2: 0, 3: 0.45569620253164556, 4: 0, 5: 0, 6: 0}\n",
      "nFeatures  29\n"
     ]
    },
    {
     "name": "stderr",
     "output_type": "stream",
     "text": [
      "/opt/anaconda3/lib/python3.7/site-packages/sklearn/manifold/_spectral_embedding.py:236: UserWarning: Graph is not fully connected, spectral embedding may not work as expected.\n",
      "  warnings.warn(\"Graph is not fully connected, spectral embedding\"\n",
      "/opt/anaconda3/lib/python3.7/site-packages/sklearn/manifold/_spectral_embedding.py:236: UserWarning: Graph is not fully connected, spectral embedding may not work as expected.\n",
      "  warnings.warn(\"Graph is not fully connected, spectral embedding\"\n"
     ]
    },
    {
     "name": "stdout",
     "output_type": "stream",
     "text": [
      "continued\n",
      "{0: 0.5161290322580645, 1: 0, 2: 0, 3: 0.4090909090909091, 4: 0, 5: 0, 6: 0}\n",
      "nFeatures  36\n"
     ]
    },
    {
     "name": "stderr",
     "output_type": "stream",
     "text": [
      "/opt/anaconda3/lib/python3.7/site-packages/sklearn/manifold/_spectral_embedding.py:236: UserWarning: Graph is not fully connected, spectral embedding may not work as expected.\n",
      "  warnings.warn(\"Graph is not fully connected, spectral embedding\"\n",
      "/opt/anaconda3/lib/python3.7/site-packages/sklearn/manifold/_spectral_embedding.py:236: UserWarning: Graph is not fully connected, spectral embedding may not work as expected.\n",
      "  warnings.warn(\"Graph is not fully connected, spectral embedding\"\n"
     ]
    },
    {
     "name": "stdout",
     "output_type": "stream",
     "text": [
      "continued\n",
      "{0: 0.6666666666666666, 1: 0, 2: 0, 3: 0.4657534246575342, 4: 0, 5: 0, 6: 0}\n",
      "nFeatures  24\n"
     ]
    },
    {
     "name": "stderr",
     "output_type": "stream",
     "text": [
      "/opt/anaconda3/lib/python3.7/site-packages/sklearn/manifold/_spectral_embedding.py:236: UserWarning: Graph is not fully connected, spectral embedding may not work as expected.\n",
      "  warnings.warn(\"Graph is not fully connected, spectral embedding\"\n",
      "/opt/anaconda3/lib/python3.7/site-packages/sklearn/manifold/_spectral_embedding.py:236: UserWarning: Graph is not fully connected, spectral embedding may not work as expected.\n",
      "  warnings.warn(\"Graph is not fully connected, spectral embedding\"\n"
     ]
    },
    {
     "name": "stdout",
     "output_type": "stream",
     "text": [
      "continued\n",
      "{0: 0.6818181818181818, 1: 0, 2: 0, 3: 0.4666666666666667, 4: 0, 5: 0, 6: 0}\n",
      "nFeatures  29\n"
     ]
    },
    {
     "name": "stderr",
     "output_type": "stream",
     "text": [
      "/opt/anaconda3/lib/python3.7/site-packages/sklearn/manifold/_spectral_embedding.py:236: UserWarning: Graph is not fully connected, spectral embedding may not work as expected.\n",
      "  warnings.warn(\"Graph is not fully connected, spectral embedding\"\n",
      "/opt/anaconda3/lib/python3.7/site-packages/sklearn/manifold/_spectral_embedding.py:236: UserWarning: Graph is not fully connected, spectral embedding may not work as expected.\n",
      "  warnings.warn(\"Graph is not fully connected, spectral embedding\"\n"
     ]
    },
    {
     "name": "stdout",
     "output_type": "stream",
     "text": [
      "continued\n",
      "{0: 0.5454545454545454, 1: 0, 2: 0, 3: 0.3870967741935484, 4: 0, 5: 0, 6: 0}\n",
      "nFeatures  37\n"
     ]
    },
    {
     "name": "stderr",
     "output_type": "stream",
     "text": [
      "/opt/anaconda3/lib/python3.7/site-packages/sklearn/manifold/_spectral_embedding.py:236: UserWarning: Graph is not fully connected, spectral embedding may not work as expected.\n",
      "  warnings.warn(\"Graph is not fully connected, spectral embedding\"\n",
      "/opt/anaconda3/lib/python3.7/site-packages/sklearn/manifold/_spectral_embedding.py:236: UserWarning: Graph is not fully connected, spectral embedding may not work as expected.\n",
      "  warnings.warn(\"Graph is not fully connected, spectral embedding\"\n"
     ]
    },
    {
     "name": "stdout",
     "output_type": "stream",
     "text": [
      "continued\n",
      "{0: 0.5625, 1: 0, 2: 0, 3: 0.42424242424242425, 4: 0, 5: 0, 6: 0}\n",
      "nFeatures  16\n"
     ]
    },
    {
     "name": "stderr",
     "output_type": "stream",
     "text": [
      "/opt/anaconda3/lib/python3.7/site-packages/sklearn/manifold/_spectral_embedding.py:236: UserWarning: Graph is not fully connected, spectral embedding may not work as expected.\n",
      "  warnings.warn(\"Graph is not fully connected, spectral embedding\"\n",
      "/opt/anaconda3/lib/python3.7/site-packages/sklearn/manifold/_spectral_embedding.py:236: UserWarning: Graph is not fully connected, spectral embedding may not work as expected.\n",
      "  warnings.warn(\"Graph is not fully connected, spectral embedding\"\n"
     ]
    },
    {
     "name": "stdout",
     "output_type": "stream",
     "text": [
      "continued\n",
      "{0: 0.5142857142857142, 1: 0, 2: 0, 3: 0.2962962962962963, 4: 0, 5: 0, 6: 0}\n",
      "nFeatures  13\n"
     ]
    },
    {
     "name": "stderr",
     "output_type": "stream",
     "text": [
      "/opt/anaconda3/lib/python3.7/site-packages/sklearn/manifold/_spectral_embedding.py:236: UserWarning: Graph is not fully connected, spectral embedding may not work as expected.\n",
      "  warnings.warn(\"Graph is not fully connected, spectral embedding\"\n",
      "/opt/anaconda3/lib/python3.7/site-packages/sklearn/manifold/_spectral_embedding.py:236: UserWarning: Graph is not fully connected, spectral embedding may not work as expected.\n",
      "  warnings.warn(\"Graph is not fully connected, spectral embedding\"\n"
     ]
    },
    {
     "name": "stdout",
     "output_type": "stream",
     "text": [
      "continued\n",
      "{0: 0.3125, 1: 0.38271604938271603, 2: 0, 3: 0, 4: 0}\n",
      "nFeatures  29\n"
     ]
    },
    {
     "name": "stderr",
     "output_type": "stream",
     "text": [
      "/opt/anaconda3/lib/python3.7/site-packages/sklearn/manifold/_spectral_embedding.py:236: UserWarning: Graph is not fully connected, spectral embedding may not work as expected.\n",
      "  warnings.warn(\"Graph is not fully connected, spectral embedding\"\n",
      "/opt/anaconda3/lib/python3.7/site-packages/sklearn/manifold/_spectral_embedding.py:236: UserWarning: Graph is not fully connected, spectral embedding may not work as expected.\n",
      "  warnings.warn(\"Graph is not fully connected, spectral embedding\"\n"
     ]
    },
    {
     "name": "stdout",
     "output_type": "stream",
     "text": [
      "continued\n",
      "{0: 0.3888888888888889, 1: 0.3924050632911392, 2: 0, 3: 0, 4: 0}\n",
      "nFeatures  37\n"
     ]
    },
    {
     "name": "stderr",
     "output_type": "stream",
     "text": [
      "/opt/anaconda3/lib/python3.7/site-packages/sklearn/manifold/_spectral_embedding.py:236: UserWarning: Graph is not fully connected, spectral embedding may not work as expected.\n",
      "  warnings.warn(\"Graph is not fully connected, spectral embedding\"\n",
      "/opt/anaconda3/lib/python3.7/site-packages/sklearn/manifold/_spectral_embedding.py:236: UserWarning: Graph is not fully connected, spectral embedding may not work as expected.\n",
      "  warnings.warn(\"Graph is not fully connected, spectral embedding\"\n"
     ]
    },
    {
     "name": "stdout",
     "output_type": "stream",
     "text": [
      "continued\n",
      "{0: 0.5294117647058824, 1: 0.425, 2: 0, 3: 0, 4: 0}\n",
      "nFeatures  32\n"
     ]
    },
    {
     "name": "stderr",
     "output_type": "stream",
     "text": [
      "/opt/anaconda3/lib/python3.7/site-packages/sklearn/manifold/_spectral_embedding.py:236: UserWarning: Graph is not fully connected, spectral embedding may not work as expected.\n",
      "  warnings.warn(\"Graph is not fully connected, spectral embedding\"\n",
      "/opt/anaconda3/lib/python3.7/site-packages/sklearn/manifold/_spectral_embedding.py:236: UserWarning: Graph is not fully connected, spectral embedding may not work as expected.\n",
      "  warnings.warn(\"Graph is not fully connected, spectral embedding\"\n"
     ]
    },
    {
     "name": "stdout",
     "output_type": "stream",
     "text": [
      "continued\n",
      "{0: 0.47619047619047616, 1: 0.40789473684210525, 2: 0, 3: 0, 4: 0}\n",
      "nFeatures  4\n"
     ]
    },
    {
     "name": "stderr",
     "output_type": "stream",
     "text": [
      "/opt/anaconda3/lib/python3.7/site-packages/sklearn/manifold/_spectral_embedding.py:236: UserWarning: Graph is not fully connected, spectral embedding may not work as expected.\n",
      "  warnings.warn(\"Graph is not fully connected, spectral embedding\"\n",
      "/opt/anaconda3/lib/python3.7/site-packages/sklearn/manifold/_spectral_embedding.py:236: UserWarning: Graph is not fully connected, spectral embedding may not work as expected.\n",
      "  warnings.warn(\"Graph is not fully connected, spectral embedding\"\n"
     ]
    },
    {
     "name": "stdout",
     "output_type": "stream",
     "text": [
      "continued\n",
      "{0: 0.5670103092783505, 1: 0, 2: 0}\n",
      "nFeatures  3\n"
     ]
    },
    {
     "name": "stderr",
     "output_type": "stream",
     "text": [
      "/opt/anaconda3/lib/python3.7/site-packages/sklearn/manifold/_spectral_embedding.py:236: UserWarning: Graph is not fully connected, spectral embedding may not work as expected.\n",
      "  warnings.warn(\"Graph is not fully connected, spectral embedding\"\n",
      "/opt/anaconda3/lib/python3.7/site-packages/sklearn/manifold/_spectral_embedding.py:236: UserWarning: Graph is not fully connected, spectral embedding may not work as expected.\n",
      "  warnings.warn(\"Graph is not fully connected, spectral embedding\"\n"
     ]
    },
    {
     "name": "stdout",
     "output_type": "stream",
     "text": [
      "continued\n",
      "{0: 0.5625, 1: 0, 2: 0, 3: 0, 4: 0.0, 5: 0}\n",
      "nFeatures  12\n"
     ]
    },
    {
     "name": "stderr",
     "output_type": "stream",
     "text": [
      "/opt/anaconda3/lib/python3.7/site-packages/sklearn/manifold/_spectral_embedding.py:236: UserWarning: Graph is not fully connected, spectral embedding may not work as expected.\n",
      "  warnings.warn(\"Graph is not fully connected, spectral embedding\"\n",
      "/opt/anaconda3/lib/python3.7/site-packages/sklearn/manifold/_spectral_embedding.py:236: UserWarning: Graph is not fully connected, spectral embedding may not work as expected.\n",
      "  warnings.warn(\"Graph is not fully connected, spectral embedding\"\n"
     ]
    },
    {
     "name": "stdout",
     "output_type": "stream",
     "text": [
      "continued\n",
      "{0: 0.5555555555555556, 1: 0.43037974683544306, 2: 0, 3: 0, 4: 0}\n",
      "nFeatures  29\n"
     ]
    },
    {
     "name": "stderr",
     "output_type": "stream",
     "text": [
      "/opt/anaconda3/lib/python3.7/site-packages/sklearn/manifold/_spectral_embedding.py:236: UserWarning: Graph is not fully connected, spectral embedding may not work as expected.\n",
      "  warnings.warn(\"Graph is not fully connected, spectral embedding\"\n",
      "/opt/anaconda3/lib/python3.7/site-packages/sklearn/manifold/_spectral_embedding.py:236: UserWarning: Graph is not fully connected, spectral embedding may not work as expected.\n",
      "  warnings.warn(\"Graph is not fully connected, spectral embedding\"\n"
     ]
    },
    {
     "name": "stdout",
     "output_type": "stream",
     "text": [
      "continued\n",
      "{0: 0.55, 1: 0.42857142857142855, 2: 0, 3: 0, 4: 0}\n",
      "nFeatures  37\n"
     ]
    },
    {
     "name": "stderr",
     "output_type": "stream",
     "text": [
      "/opt/anaconda3/lib/python3.7/site-packages/sklearn/manifold/_spectral_embedding.py:236: UserWarning: Graph is not fully connected, spectral embedding may not work as expected.\n",
      "  warnings.warn(\"Graph is not fully connected, spectral embedding\"\n",
      "/opt/anaconda3/lib/python3.7/site-packages/sklearn/manifold/_spectral_embedding.py:236: UserWarning: Graph is not fully connected, spectral embedding may not work as expected.\n",
      "  warnings.warn(\"Graph is not fully connected, spectral embedding\"\n"
     ]
    },
    {
     "name": "stdout",
     "output_type": "stream",
     "text": [
      "continued\n",
      "{0: 0.5238095238095238, 1: 0.42105263157894735, 2: 0, 3: 0, 4: 0}\n",
      "nFeatures  36\n"
     ]
    },
    {
     "name": "stderr",
     "output_type": "stream",
     "text": [
      "/opt/anaconda3/lib/python3.7/site-packages/sklearn/manifold/_spectral_embedding.py:236: UserWarning: Graph is not fully connected, spectral embedding may not work as expected.\n",
      "  warnings.warn(\"Graph is not fully connected, spectral embedding\"\n",
      "/opt/anaconda3/lib/python3.7/site-packages/sklearn/manifold/_spectral_embedding.py:236: UserWarning: Graph is not fully connected, spectral embedding may not work as expected.\n",
      "  warnings.warn(\"Graph is not fully connected, spectral embedding\"\n"
     ]
    },
    {
     "name": "stdout",
     "output_type": "stream",
     "text": [
      "continued\n",
      "{0: 0.5238095238095238, 1: 0.42105263157894735, 2: 0, 3: 0, 4: 0}\n",
      "nFeatures  3\n"
     ]
    },
    {
     "name": "stderr",
     "output_type": "stream",
     "text": [
      "/opt/anaconda3/lib/python3.7/site-packages/sklearn/manifold/_spectral_embedding.py:236: UserWarning: Graph is not fully connected, spectral embedding may not work as expected.\n",
      "  warnings.warn(\"Graph is not fully connected, spectral embedding\"\n",
      "/opt/anaconda3/lib/python3.7/site-packages/sklearn/manifold/_spectral_embedding.py:236: UserWarning: Graph is not fully connected, spectral embedding may not work as expected.\n",
      "  warnings.warn(\"Graph is not fully connected, spectral embedding\"\n"
     ]
    },
    {
     "name": "stdout",
     "output_type": "stream",
     "text": [
      "continued\n",
      "{0: 0.5670103092783505, 1: 0, 2: 0}\n",
      "nFeatures  3\n"
     ]
    },
    {
     "name": "stderr",
     "output_type": "stream",
     "text": [
      "/opt/anaconda3/lib/python3.7/site-packages/sklearn/manifold/_spectral_embedding.py:236: UserWarning: Graph is not fully connected, spectral embedding may not work as expected.\n",
      "  warnings.warn(\"Graph is not fully connected, spectral embedding\"\n",
      "/opt/anaconda3/lib/python3.7/site-packages/sklearn/manifold/_spectral_embedding.py:236: UserWarning: Graph is not fully connected, spectral embedding may not work as expected.\n",
      "  warnings.warn(\"Graph is not fully connected, spectral embedding\"\n"
     ]
    },
    {
     "name": "stdout",
     "output_type": "stream",
     "text": [
      "continued\n",
      "{0: 0.5625, 1: 0, 2: 0.0}\n",
      "nFeatures  3\n"
     ]
    },
    {
     "name": "stderr",
     "output_type": "stream",
     "text": [
      "/opt/anaconda3/lib/python3.7/site-packages/sklearn/manifold/_spectral_embedding.py:236: UserWarning: Graph is not fully connected, spectral embedding may not work as expected.\n",
      "  warnings.warn(\"Graph is not fully connected, spectral embedding\"\n",
      "/opt/anaconda3/lib/python3.7/site-packages/sklearn/manifold/_spectral_embedding.py:236: UserWarning: Graph is not fully connected, spectral embedding may not work as expected.\n",
      "  warnings.warn(\"Graph is not fully connected, spectral embedding\"\n"
     ]
    },
    {
     "name": "stdout",
     "output_type": "stream",
     "text": [
      "continued\n",
      "{0: 0.5670103092783505, 1: 0, 2: 0, 3: 0}\n",
      "nFeatures  5\n"
     ]
    },
    {
     "name": "stderr",
     "output_type": "stream",
     "text": [
      "/opt/anaconda3/lib/python3.7/site-packages/sklearn/manifold/_spectral_embedding.py:236: UserWarning: Graph is not fully connected, spectral embedding may not work as expected.\n",
      "  warnings.warn(\"Graph is not fully connected, spectral embedding\"\n",
      "/opt/anaconda3/lib/python3.7/site-packages/sklearn/manifold/_spectral_embedding.py:236: UserWarning: Graph is not fully connected, spectral embedding may not work as expected.\n",
      "  warnings.warn(\"Graph is not fully connected, spectral embedding\"\n"
     ]
    },
    {
     "name": "stdout",
     "output_type": "stream",
     "text": [
      "continued\n",
      "{0: 0.5670103092783505, 1: 0, 2: 0, 3: 0, 4: 0}\n",
      "nFeatures  29\n"
     ]
    },
    {
     "name": "stderr",
     "output_type": "stream",
     "text": [
      "/opt/anaconda3/lib/python3.7/site-packages/sklearn/manifold/_spectral_embedding.py:236: UserWarning: Graph is not fully connected, spectral embedding may not work as expected.\n",
      "  warnings.warn(\"Graph is not fully connected, spectral embedding\"\n",
      "/opt/anaconda3/lib/python3.7/site-packages/sklearn/manifold/_spectral_embedding.py:236: UserWarning: Graph is not fully connected, spectral embedding may not work as expected.\n",
      "  warnings.warn(\"Graph is not fully connected, spectral embedding\"\n"
     ]
    },
    {
     "name": "stdout",
     "output_type": "stream",
     "text": [
      "continued\n",
      "{0: 0.5692307692307692, 1: 0.4375, 2: 0, 3: 0, 4: 0}\n",
      "nFeatures  37\n"
     ]
    },
    {
     "name": "stderr",
     "output_type": "stream",
     "text": [
      "/opt/anaconda3/lib/python3.7/site-packages/sklearn/manifold/_spectral_embedding.py:236: UserWarning: Graph is not fully connected, spectral embedding may not work as expected.\n",
      "  warnings.warn(\"Graph is not fully connected, spectral embedding\"\n",
      "/opt/anaconda3/lib/python3.7/site-packages/sklearn/manifold/_spectral_embedding.py:236: UserWarning: Graph is not fully connected, spectral embedding may not work as expected.\n",
      "  warnings.warn(\"Graph is not fully connected, spectral embedding\"\n"
     ]
    },
    {
     "name": "stdout",
     "output_type": "stream",
     "text": [
      "continued\n",
      "{0: 0.5409836065573771, 1: 0.3888888888888889, 2: 0, 3: 0, 4: 0}\n",
      "nFeatures  19\n"
     ]
    },
    {
     "name": "stderr",
     "output_type": "stream",
     "text": [
      "/opt/anaconda3/lib/python3.7/site-packages/sklearn/manifold/_spectral_embedding.py:236: UserWarning: Graph is not fully connected, spectral embedding may not work as expected.\n",
      "  warnings.warn(\"Graph is not fully connected, spectral embedding\"\n",
      "/opt/anaconda3/lib/python3.7/site-packages/sklearn/manifold/_spectral_embedding.py:236: UserWarning: Graph is not fully connected, spectral embedding may not work as expected.\n",
      "  warnings.warn(\"Graph is not fully connected, spectral embedding\"\n"
     ]
    },
    {
     "name": "stdout",
     "output_type": "stream",
     "text": [
      "continued\n",
      "{0: 0.5774647887323944, 1: 0.46153846153846156, 2: 0, 3: 0, 4: 0}\n",
      "nFeatures  3\n"
     ]
    },
    {
     "name": "stderr",
     "output_type": "stream",
     "text": [
      "/opt/anaconda3/lib/python3.7/site-packages/sklearn/manifold/_spectral_embedding.py:236: UserWarning: Graph is not fully connected, spectral embedding may not work as expected.\n",
      "  warnings.warn(\"Graph is not fully connected, spectral embedding\"\n",
      "/opt/anaconda3/lib/python3.7/site-packages/sklearn/manifold/_spectral_embedding.py:236: UserWarning: Graph is not fully connected, spectral embedding may not work as expected.\n",
      "  warnings.warn(\"Graph is not fully connected, spectral embedding\"\n"
     ]
    },
    {
     "name": "stdout",
     "output_type": "stream",
     "text": [
      "continued\n",
      "{0: 0.5670103092783505, 1: 0}\n",
      "nFeatures  15\n"
     ]
    },
    {
     "name": "stderr",
     "output_type": "stream",
     "text": [
      "/opt/anaconda3/lib/python3.7/site-packages/sklearn/manifold/_spectral_embedding.py:236: UserWarning: Graph is not fully connected, spectral embedding may not work as expected.\n",
      "  warnings.warn(\"Graph is not fully connected, spectral embedding\"\n",
      "/opt/anaconda3/lib/python3.7/site-packages/sklearn/manifold/_spectral_embedding.py:236: UserWarning: Graph is not fully connected, spectral embedding may not work as expected.\n",
      "  warnings.warn(\"Graph is not fully connected, spectral embedding\"\n"
     ]
    },
    {
     "name": "stdout",
     "output_type": "stream",
     "text": [
      "continued\n",
      "{0: 0.5285714285714286, 1: 0, 2: 0, 3: 0, 4: 0.3333333333333333, 5: 0, 6: 0, 7: 0}\n",
      "nFeatures  13\n"
     ]
    },
    {
     "name": "stderr",
     "output_type": "stream",
     "text": [
      "/opt/anaconda3/lib/python3.7/site-packages/sklearn/manifold/_spectral_embedding.py:236: UserWarning: Graph is not fully connected, spectral embedding may not work as expected.\n",
      "  warnings.warn(\"Graph is not fully connected, spectral embedding\"\n",
      "/opt/anaconda3/lib/python3.7/site-packages/sklearn/manifold/_spectral_embedding.py:236: UserWarning: Graph is not fully connected, spectral embedding may not work as expected.\n",
      "  warnings.warn(\"Graph is not fully connected, spectral embedding\"\n"
     ]
    },
    {
     "name": "stdout",
     "output_type": "stream",
     "text": [
      "continued\n",
      "{0: 0.6111111111111112, 1: 0.4430379746835443, 2: 0, 3: 0, 4: 0}\n",
      "nFeatures  29\n"
     ]
    },
    {
     "name": "stderr",
     "output_type": "stream",
     "text": [
      "/opt/anaconda3/lib/python3.7/site-packages/sklearn/manifold/_spectral_embedding.py:236: UserWarning: Graph is not fully connected, spectral embedding may not work as expected.\n",
      "  warnings.warn(\"Graph is not fully connected, spectral embedding\"\n",
      "/opt/anaconda3/lib/python3.7/site-packages/sklearn/manifold/_spectral_embedding.py:236: UserWarning: Graph is not fully connected, spectral embedding may not work as expected.\n",
      "  warnings.warn(\"Graph is not fully connected, spectral embedding\"\n"
     ]
    },
    {
     "name": "stdout",
     "output_type": "stream",
     "text": [
      "continued\n",
      "{0: 0.5833333333333334, 1: 0.4383561643835616, 2: 0, 3: 0, 4: 0}\n",
      "nFeatures  37\n"
     ]
    },
    {
     "name": "stderr",
     "output_type": "stream",
     "text": [
      "/opt/anaconda3/lib/python3.7/site-packages/sklearn/manifold/_spectral_embedding.py:236: UserWarning: Graph is not fully connected, spectral embedding may not work as expected.\n",
      "  warnings.warn(\"Graph is not fully connected, spectral embedding\"\n",
      "/opt/anaconda3/lib/python3.7/site-packages/sklearn/manifold/_spectral_embedding.py:236: UserWarning: Graph is not fully connected, spectral embedding may not work as expected.\n",
      "  warnings.warn(\"Graph is not fully connected, spectral embedding\"\n"
     ]
    },
    {
     "name": "stdout",
     "output_type": "stream",
     "text": [
      "continued\n",
      "{0: 0.6086956521739131, 1: 0.44594594594594594, 2: 0, 3: 0, 4: 0}\n",
      "nFeatures  23\n"
     ]
    },
    {
     "name": "stderr",
     "output_type": "stream",
     "text": [
      "/opt/anaconda3/lib/python3.7/site-packages/sklearn/manifold/_spectral_embedding.py:236: UserWarning: Graph is not fully connected, spectral embedding may not work as expected.\n",
      "  warnings.warn(\"Graph is not fully connected, spectral embedding\"\n",
      "/opt/anaconda3/lib/python3.7/site-packages/sklearn/manifold/_spectral_embedding.py:236: UserWarning: Graph is not fully connected, spectral embedding may not work as expected.\n",
      "  warnings.warn(\"Graph is not fully connected, spectral embedding\"\n"
     ]
    },
    {
     "name": "stdout",
     "output_type": "stream",
     "text": [
      "continued\n",
      "{0: 0.5833333333333334, 1: 0.4383561643835616, 2: 0, 3: 0, 4: 0}\n",
      "nFeatures  4\n"
     ]
    },
    {
     "name": "stderr",
     "output_type": "stream",
     "text": [
      "/opt/anaconda3/lib/python3.7/site-packages/sklearn/manifold/_spectral_embedding.py:236: UserWarning: Graph is not fully connected, spectral embedding may not work as expected.\n",
      "  warnings.warn(\"Graph is not fully connected, spectral embedding\"\n",
      "/opt/anaconda3/lib/python3.7/site-packages/sklearn/manifold/_spectral_embedding.py:236: UserWarning: Graph is not fully connected, spectral embedding may not work as expected.\n",
      "  warnings.warn(\"Graph is not fully connected, spectral embedding\"\n"
     ]
    },
    {
     "name": "stdout",
     "output_type": "stream",
     "text": [
      "continued\n",
      "{0: 0.5670103092783505, 1: 0, 2: 0}\n",
      "nFeatures  29\n"
     ]
    },
    {
     "name": "stderr",
     "output_type": "stream",
     "text": [
      "/opt/anaconda3/lib/python3.7/site-packages/sklearn/manifold/_spectral_embedding.py:236: UserWarning: Graph is not fully connected, spectral embedding may not work as expected.\n",
      "  warnings.warn(\"Graph is not fully connected, spectral embedding\"\n",
      "/opt/anaconda3/lib/python3.7/site-packages/sklearn/manifold/_spectral_embedding.py:236: UserWarning: Graph is not fully connected, spectral embedding may not work as expected.\n",
      "  warnings.warn(\"Graph is not fully connected, spectral embedding\"\n"
     ]
    },
    {
     "name": "stdout",
     "output_type": "stream",
     "text": [
      "continued\n",
      "{0: 0.5901639344262295, 1: 0, 2: 0, 3: 0, 4: 0.4722222222222222, 5: 0, 6: 0, 7: 0}\n",
      "nFeatures  37\n"
     ]
    },
    {
     "name": "stderr",
     "output_type": "stream",
     "text": [
      "/opt/anaconda3/lib/python3.7/site-packages/sklearn/manifold/_spectral_embedding.py:236: UserWarning: Graph is not fully connected, spectral embedding may not work as expected.\n",
      "  warnings.warn(\"Graph is not fully connected, spectral embedding\"\n",
      "/opt/anaconda3/lib/python3.7/site-packages/sklearn/manifold/_spectral_embedding.py:236: UserWarning: Graph is not fully connected, spectral embedding may not work as expected.\n",
      "  warnings.warn(\"Graph is not fully connected, spectral embedding\"\n"
     ]
    },
    {
     "name": "stdout",
     "output_type": "stream",
     "text": [
      "continued\n",
      "{0: 0.5671641791044776, 1: 0, 2: 0, 3: 0, 4: 0.43333333333333335, 5: 0, 6: 0, 7: 0}\n",
      "nFeatures  17\n"
     ]
    },
    {
     "name": "stderr",
     "output_type": "stream",
     "text": [
      "/opt/anaconda3/lib/python3.7/site-packages/sklearn/manifold/_spectral_embedding.py:236: UserWarning: Graph is not fully connected, spectral embedding may not work as expected.\n",
      "  warnings.warn(\"Graph is not fully connected, spectral embedding\"\n",
      "/opt/anaconda3/lib/python3.7/site-packages/sklearn/manifold/_spectral_embedding.py:236: UserWarning: Graph is not fully connected, spectral embedding may not work as expected.\n",
      "  warnings.warn(\"Graph is not fully connected, spectral embedding\"\n"
     ]
    },
    {
     "name": "stdout",
     "output_type": "stream",
     "text": [
      "continued\n",
      "{0: 0.5138888888888888, 1: 0, 2: 0, 3: 0, 4: 0.28, 5: 0, 6: 0, 7: 0}\n",
      "nFeatures  13\n"
     ]
    },
    {
     "name": "stderr",
     "output_type": "stream",
     "text": [
      "/opt/anaconda3/lib/python3.7/site-packages/sklearn/manifold/_spectral_embedding.py:236: UserWarning: Graph is not fully connected, spectral embedding may not work as expected.\n",
      "  warnings.warn(\"Graph is not fully connected, spectral embedding\"\n",
      "/opt/anaconda3/lib/python3.7/site-packages/sklearn/manifold/_spectral_embedding.py:236: UserWarning: Graph is not fully connected, spectral embedding may not work as expected.\n",
      "  warnings.warn(\"Graph is not fully connected, spectral embedding\"\n"
     ]
    },
    {
     "name": "stdout",
     "output_type": "stream",
     "text": [
      "continued\n",
      "{0: 0.5, 1: 0, 2: 0.4177215189873418, 3: 0, 4: 0, 5: 0}\n",
      "nFeatures  28\n"
     ]
    },
    {
     "name": "stderr",
     "output_type": "stream",
     "text": [
      "/opt/anaconda3/lib/python3.7/site-packages/sklearn/manifold/_spectral_embedding.py:236: UserWarning: Graph is not fully connected, spectral embedding may not work as expected.\n",
      "  warnings.warn(\"Graph is not fully connected, spectral embedding\"\n",
      "/opt/anaconda3/lib/python3.7/site-packages/sklearn/manifold/_spectral_embedding.py:236: UserWarning: Graph is not fully connected, spectral embedding may not work as expected.\n",
      "  warnings.warn(\"Graph is not fully connected, spectral embedding\"\n"
     ]
    },
    {
     "name": "stdout",
     "output_type": "stream",
     "text": [
      "continued\n",
      "{0: 0.375, 1: 0, 2: 0.3950617283950617, 3: 0, 4: 0, 5: 0}\n",
      "nFeatures  37\n"
     ]
    },
    {
     "name": "stderr",
     "output_type": "stream",
     "text": [
      "/opt/anaconda3/lib/python3.7/site-packages/sklearn/manifold/_spectral_embedding.py:236: UserWarning: Graph is not fully connected, spectral embedding may not work as expected.\n",
      "  warnings.warn(\"Graph is not fully connected, spectral embedding\"\n",
      "/opt/anaconda3/lib/python3.7/site-packages/sklearn/manifold/_spectral_embedding.py:236: UserWarning: Graph is not fully connected, spectral embedding may not work as expected.\n",
      "  warnings.warn(\"Graph is not fully connected, spectral embedding\"\n"
     ]
    },
    {
     "name": "stdout",
     "output_type": "stream",
     "text": [
      "continued\n",
      "{0: 0.47058823529411764, 1: 0, 2: 0.4125, 3: 0, 4: 0, 5: 0}\n",
      "nFeatures  32\n"
     ]
    },
    {
     "name": "stderr",
     "output_type": "stream",
     "text": [
      "/opt/anaconda3/lib/python3.7/site-packages/sklearn/manifold/_spectral_embedding.py:236: UserWarning: Graph is not fully connected, spectral embedding may not work as expected.\n",
      "  warnings.warn(\"Graph is not fully connected, spectral embedding\"\n",
      "/opt/anaconda3/lib/python3.7/site-packages/sklearn/manifold/_spectral_embedding.py:236: UserWarning: Graph is not fully connected, spectral embedding may not work as expected.\n",
      "  warnings.warn(\"Graph is not fully connected, spectral embedding\"\n"
     ]
    },
    {
     "name": "stdout",
     "output_type": "stream",
     "text": [
      "continued\n",
      "{0: 0.4444444444444444, 1: 0, 2: 0.4050632911392405, 3: 0, 4: 0, 5: 0}\n",
      "nFeatures  13\n"
     ]
    },
    {
     "name": "stderr",
     "output_type": "stream",
     "text": [
      "/opt/anaconda3/lib/python3.7/site-packages/sklearn/manifold/_spectral_embedding.py:236: UserWarning: Graph is not fully connected, spectral embedding may not work as expected.\n",
      "  warnings.warn(\"Graph is not fully connected, spectral embedding\"\n",
      "/opt/anaconda3/lib/python3.7/site-packages/sklearn/manifold/_spectral_embedding.py:236: UserWarning: Graph is not fully connected, spectral embedding may not work as expected.\n",
      "  warnings.warn(\"Graph is not fully connected, spectral embedding\"\n"
     ]
    },
    {
     "name": "stdout",
     "output_type": "stream",
     "text": [
      "continued\n",
      "{0: 0.6, 1: 0, 2: 0.44155844155844154, 3: 0, 4: 0, 5: 0}\n",
      "nFeatures  28\n"
     ]
    },
    {
     "name": "stderr",
     "output_type": "stream",
     "text": [
      "/opt/anaconda3/lib/python3.7/site-packages/sklearn/manifold/_spectral_embedding.py:236: UserWarning: Graph is not fully connected, spectral embedding may not work as expected.\n",
      "  warnings.warn(\"Graph is not fully connected, spectral embedding\"\n",
      "/opt/anaconda3/lib/python3.7/site-packages/sklearn/manifold/_spectral_embedding.py:236: UserWarning: Graph is not fully connected, spectral embedding may not work as expected.\n",
      "  warnings.warn(\"Graph is not fully connected, spectral embedding\"\n"
     ]
    },
    {
     "name": "stdout",
     "output_type": "stream",
     "text": [
      "continued\n",
      "{0: 0.5714285714285714, 1: 0, 2: 0.4342105263157895, 3: 0, 4: 0, 5: 0}\n",
      "nFeatures  37\n"
     ]
    },
    {
     "name": "stderr",
     "output_type": "stream",
     "text": [
      "/opt/anaconda3/lib/python3.7/site-packages/sklearn/manifold/_spectral_embedding.py:236: UserWarning: Graph is not fully connected, spectral embedding may not work as expected.\n",
      "  warnings.warn(\"Graph is not fully connected, spectral embedding\"\n",
      "/opt/anaconda3/lib/python3.7/site-packages/sklearn/manifold/_spectral_embedding.py:236: UserWarning: Graph is not fully connected, spectral embedding may not work as expected.\n",
      "  warnings.warn(\"Graph is not fully connected, spectral embedding\"\n"
     ]
    },
    {
     "name": "stdout",
     "output_type": "stream",
     "text": [
      "continued\n",
      "{0: 0.6190476190476191, 1: 0, 2: 0.4473684210526316, 3: 0, 4: 0, 5: 0}\n",
      "nFeatures  36\n"
     ]
    },
    {
     "name": "stderr",
     "output_type": "stream",
     "text": [
      "/opt/anaconda3/lib/python3.7/site-packages/sklearn/manifold/_spectral_embedding.py:236: UserWarning: Graph is not fully connected, spectral embedding may not work as expected.\n",
      "  warnings.warn(\"Graph is not fully connected, spectral embedding\"\n",
      "/opt/anaconda3/lib/python3.7/site-packages/sklearn/manifold/_spectral_embedding.py:236: UserWarning: Graph is not fully connected, spectral embedding may not work as expected.\n",
      "  warnings.warn(\"Graph is not fully connected, spectral embedding\"\n"
     ]
    },
    {
     "name": "stdout",
     "output_type": "stream",
     "text": [
      "continued\n",
      "{0: 0.6190476190476191, 1: 0, 2: 0.4473684210526316, 3: 0, 4: 0, 5: 0}\n",
      "nFeatures  13\n"
     ]
    },
    {
     "name": "stderr",
     "output_type": "stream",
     "text": [
      "/opt/anaconda3/lib/python3.7/site-packages/sklearn/manifold/_spectral_embedding.py:236: UserWarning: Graph is not fully connected, spectral embedding may not work as expected.\n",
      "  warnings.warn(\"Graph is not fully connected, spectral embedding\"\n",
      "/opt/anaconda3/lib/python3.7/site-packages/sklearn/manifold/_spectral_embedding.py:236: UserWarning: Graph is not fully connected, spectral embedding may not work as expected.\n",
      "  warnings.warn(\"Graph is not fully connected, spectral embedding\"\n"
     ]
    },
    {
     "name": "stdout",
     "output_type": "stream",
     "text": [
      "continued\n",
      "{0: 0.631578947368421, 1: 0, 2: 0, 3: 0.44871794871794873, 4: 0, 5: 0, 6: 0}\n",
      "nFeatures  29\n"
     ]
    },
    {
     "name": "stderr",
     "output_type": "stream",
     "text": [
      "/opt/anaconda3/lib/python3.7/site-packages/sklearn/manifold/_spectral_embedding.py:236: UserWarning: Graph is not fully connected, spectral embedding may not work as expected.\n",
      "  warnings.warn(\"Graph is not fully connected, spectral embedding\"\n",
      "/opt/anaconda3/lib/python3.7/site-packages/sklearn/manifold/_spectral_embedding.py:236: UserWarning: Graph is not fully connected, spectral embedding may not work as expected.\n",
      "  warnings.warn(\"Graph is not fully connected, spectral embedding\"\n"
     ]
    },
    {
     "name": "stdout",
     "output_type": "stream",
     "text": [
      "continued\n",
      "{0: 0.5714285714285714, 1: 0, 2: 0, 3: 0.43478260869565216, 4: 0, 5: 0, 6: 0}\n",
      "nFeatures  37\n"
     ]
    },
    {
     "name": "stderr",
     "output_type": "stream",
     "text": [
      "/opt/anaconda3/lib/python3.7/site-packages/sklearn/manifold/_spectral_embedding.py:236: UserWarning: Graph is not fully connected, spectral embedding may not work as expected.\n",
      "  warnings.warn(\"Graph is not fully connected, spectral embedding\"\n",
      "/opt/anaconda3/lib/python3.7/site-packages/sklearn/manifold/_spectral_embedding.py:236: UserWarning: Graph is not fully connected, spectral embedding may not work as expected.\n",
      "  warnings.warn(\"Graph is not fully connected, spectral embedding\"\n"
     ]
    },
    {
     "name": "stdout",
     "output_type": "stream",
     "text": [
      "continued\n",
      "{0: 0.5185185185185185, 1: 0, 2: 0, 3: 0.4142857142857143, 4: 0, 5: 0, 6: 0}\n",
      "nFeatures  22\n"
     ]
    },
    {
     "name": "stderr",
     "output_type": "stream",
     "text": [
      "/opt/anaconda3/lib/python3.7/site-packages/sklearn/manifold/_spectral_embedding.py:236: UserWarning: Graph is not fully connected, spectral embedding may not work as expected.\n",
      "  warnings.warn(\"Graph is not fully connected, spectral embedding\"\n",
      "/opt/anaconda3/lib/python3.7/site-packages/sklearn/manifold/_spectral_embedding.py:236: UserWarning: Graph is not fully connected, spectral embedding may not work as expected.\n",
      "  warnings.warn(\"Graph is not fully connected, spectral embedding\"\n"
     ]
    },
    {
     "name": "stdout",
     "output_type": "stream",
     "text": [
      "continued\n",
      "{0: 0.631578947368421, 1: 0, 2: 0, 3: 0.44871794871794873, 4: 0, 5: 0, 6: 0}\n",
      "nFeatures  11\n"
     ]
    },
    {
     "name": "stderr",
     "output_type": "stream",
     "text": [
      "/opt/anaconda3/lib/python3.7/site-packages/sklearn/manifold/_spectral_embedding.py:236: UserWarning: Graph is not fully connected, spectral embedding may not work as expected.\n",
      "  warnings.warn(\"Graph is not fully connected, spectral embedding\"\n",
      "/opt/anaconda3/lib/python3.7/site-packages/sklearn/manifold/_spectral_embedding.py:236: UserWarning: Graph is not fully connected, spectral embedding may not work as expected.\n",
      "  warnings.warn(\"Graph is not fully connected, spectral embedding\"\n"
     ]
    },
    {
     "name": "stdout",
     "output_type": "stream",
     "text": [
      "continued\n",
      "{0: 0.35294117647058826, 1: 0, 2: 0, 3: 0.3875, 4: 0, 5: 0, 6: 0}\n",
      "nFeatures  28\n"
     ]
    },
    {
     "name": "stderr",
     "output_type": "stream",
     "text": [
      "/opt/anaconda3/lib/python3.7/site-packages/sklearn/manifold/_spectral_embedding.py:236: UserWarning: Graph is not fully connected, spectral embedding may not work as expected.\n",
      "  warnings.warn(\"Graph is not fully connected, spectral embedding\"\n",
      "/opt/anaconda3/lib/python3.7/site-packages/sklearn/manifold/_spectral_embedding.py:236: UserWarning: Graph is not fully connected, spectral embedding may not work as expected.\n",
      "  warnings.warn(\"Graph is not fully connected, spectral embedding\"\n"
     ]
    },
    {
     "name": "stdout",
     "output_type": "stream",
     "text": [
      "continued\n",
      "{0: 0.47058823529411764, 1: 0, 2: 0, 3: 0.4125, 4: 0, 5: 0, 6: 0}\n",
      "nFeatures  38\n"
     ]
    },
    {
     "name": "stderr",
     "output_type": "stream",
     "text": [
      "/opt/anaconda3/lib/python3.7/site-packages/sklearn/manifold/_spectral_embedding.py:236: UserWarning: Graph is not fully connected, spectral embedding may not work as expected.\n",
      "  warnings.warn(\"Graph is not fully connected, spectral embedding\"\n",
      "/opt/anaconda3/lib/python3.7/site-packages/sklearn/manifold/_spectral_embedding.py:236: UserWarning: Graph is not fully connected, spectral embedding may not work as expected.\n",
      "  warnings.warn(\"Graph is not fully connected, spectral embedding\"\n"
     ]
    },
    {
     "name": "stdout",
     "output_type": "stream",
     "text": [
      "continued\n",
      "{0: 0.5, 1: 0, 2: 0, 3: 0.41975308641975306, 4: 0, 5: 0, 6: 0}\n",
      "nFeatures  33\n"
     ]
    },
    {
     "name": "stderr",
     "output_type": "stream",
     "text": [
      "/opt/anaconda3/lib/python3.7/site-packages/sklearn/manifold/_spectral_embedding.py:236: UserWarning: Graph is not fully connected, spectral embedding may not work as expected.\n",
      "  warnings.warn(\"Graph is not fully connected, spectral embedding\"\n",
      "/opt/anaconda3/lib/python3.7/site-packages/sklearn/manifold/_spectral_embedding.py:236: UserWarning: Graph is not fully connected, spectral embedding may not work as expected.\n",
      "  warnings.warn(\"Graph is not fully connected, spectral embedding\"\n"
     ]
    },
    {
     "name": "stdout",
     "output_type": "stream",
     "text": [
      "continued\n",
      "{0: 0.6428571428571429, 1: 0, 2: 0, 3: 0.4457831325301205, 4: 0, 5: 0, 6: 0}\n",
      "nFeatures  14\n"
     ]
    },
    {
     "name": "stderr",
     "output_type": "stream",
     "text": [
      "/opt/anaconda3/lib/python3.7/site-packages/sklearn/manifold/_spectral_embedding.py:236: UserWarning: Graph is not fully connected, spectral embedding may not work as expected.\n",
      "  warnings.warn(\"Graph is not fully connected, spectral embedding\"\n",
      "/opt/anaconda3/lib/python3.7/site-packages/sklearn/manifold/_spectral_embedding.py:236: UserWarning: Graph is not fully connected, spectral embedding may not work as expected.\n",
      "  warnings.warn(\"Graph is not fully connected, spectral embedding\"\n"
     ]
    },
    {
     "name": "stdout",
     "output_type": "stream",
     "text": [
      "continued\n",
      "{0: 0.6470588235294118, 1: 0.45, 2: 0, 3: 0, 4: 0}\n",
      "nFeatures  29\n"
     ]
    },
    {
     "name": "stderr",
     "output_type": "stream",
     "text": [
      "/opt/anaconda3/lib/python3.7/site-packages/sklearn/manifold/_spectral_embedding.py:236: UserWarning: Graph is not fully connected, spectral embedding may not work as expected.\n",
      "  warnings.warn(\"Graph is not fully connected, spectral embedding\"\n",
      "/opt/anaconda3/lib/python3.7/site-packages/sklearn/manifold/_spectral_embedding.py:236: UserWarning: Graph is not fully connected, spectral embedding may not work as expected.\n",
      "  warnings.warn(\"Graph is not fully connected, spectral embedding\"\n"
     ]
    },
    {
     "name": "stdout",
     "output_type": "stream",
     "text": [
      "continued\n",
      "{0: 0.6190476190476191, 1: 0.4473684210526316, 2: 0, 3: 0, 4: 0}\n",
      "nFeatures  37\n"
     ]
    },
    {
     "name": "stderr",
     "output_type": "stream",
     "text": [
      "/opt/anaconda3/lib/python3.7/site-packages/sklearn/manifold/_spectral_embedding.py:236: UserWarning: Graph is not fully connected, spectral embedding may not work as expected.\n",
      "  warnings.warn(\"Graph is not fully connected, spectral embedding\"\n",
      "/opt/anaconda3/lib/python3.7/site-packages/sklearn/manifold/_spectral_embedding.py:236: UserWarning: Graph is not fully connected, spectral embedding may not work as expected.\n",
      "  warnings.warn(\"Graph is not fully connected, spectral embedding\"\n"
     ]
    },
    {
     "name": "stdout",
     "output_type": "stream",
     "text": [
      "continued\n",
      "{0: 0.5625, 1: 0.43209876543209874, 2: 0, 3: 0, 4: 0}\n",
      "nFeatures  32\n"
     ]
    },
    {
     "name": "stderr",
     "output_type": "stream",
     "text": [
      "/opt/anaconda3/lib/python3.7/site-packages/sklearn/manifold/_spectral_embedding.py:236: UserWarning: Graph is not fully connected, spectral embedding may not work as expected.\n",
      "  warnings.warn(\"Graph is not fully connected, spectral embedding\"\n",
      "/opt/anaconda3/lib/python3.7/site-packages/sklearn/manifold/_spectral_embedding.py:236: UserWarning: Graph is not fully connected, spectral embedding may not work as expected.\n",
      "  warnings.warn(\"Graph is not fully connected, spectral embedding\"\n"
     ]
    },
    {
     "name": "stdout",
     "output_type": "stream",
     "text": [
      "continued\n",
      "{0: 0.631578947368421, 1: 0.44871794871794873, 2: 0, 3: 0, 4: 0}\n",
      "nFeatures  4\n"
     ]
    },
    {
     "name": "stderr",
     "output_type": "stream",
     "text": [
      "/opt/anaconda3/lib/python3.7/site-packages/sklearn/manifold/_spectral_embedding.py:236: UserWarning: Graph is not fully connected, spectral embedding may not work as expected.\n",
      "  warnings.warn(\"Graph is not fully connected, spectral embedding\"\n",
      "/opt/anaconda3/lib/python3.7/site-packages/sklearn/manifold/_spectral_embedding.py:236: UserWarning: Graph is not fully connected, spectral embedding may not work as expected.\n",
      "  warnings.warn(\"Graph is not fully connected, spectral embedding\"\n"
     ]
    },
    {
     "name": "stdout",
     "output_type": "stream",
     "text": [
      "continued\n",
      "{0: 0.5625, 1: 0, 2: 0.0, 3: 0, 4: 0}\n",
      "nFeatures  7\n"
     ]
    },
    {
     "name": "stderr",
     "output_type": "stream",
     "text": [
      "/opt/anaconda3/lib/python3.7/site-packages/sklearn/manifold/_spectral_embedding.py:236: UserWarning: Graph is not fully connected, spectral embedding may not work as expected.\n",
      "  warnings.warn(\"Graph is not fully connected, spectral embedding\"\n",
      "/opt/anaconda3/lib/python3.7/site-packages/sklearn/manifold/_spectral_embedding.py:236: UserWarning: Graph is not fully connected, spectral embedding may not work as expected.\n",
      "  warnings.warn(\"Graph is not fully connected, spectral embedding\"\n"
     ]
    },
    {
     "name": "stdout",
     "output_type": "stream",
     "text": [
      "continued\n",
      "{0: 0.5638297872340425, 1: 0, 2: 0.3333333333333333, 3: 0, 4: 0}\n",
      "nFeatures  12\n"
     ]
    },
    {
     "name": "stderr",
     "output_type": "stream",
     "text": [
      "/opt/anaconda3/lib/python3.7/site-packages/sklearn/manifold/_spectral_embedding.py:236: UserWarning: Graph is not fully connected, spectral embedding may not work as expected.\n",
      "  warnings.warn(\"Graph is not fully connected, spectral embedding\"\n",
      "/opt/anaconda3/lib/python3.7/site-packages/sklearn/manifold/_spectral_embedding.py:236: UserWarning: Graph is not fully connected, spectral embedding may not work as expected.\n",
      "  warnings.warn(\"Graph is not fully connected, spectral embedding\"\n"
     ]
    },
    {
     "name": "stdout",
     "output_type": "stream",
     "text": [
      "continued\n",
      "{0: 0.6428571428571429, 1: 0, 2: 0, 3: 0, 4: 0.4457831325301205, 5: 0, 6: 0, 7: 0}\n",
      "nFeatures  28\n"
     ]
    },
    {
     "name": "stderr",
     "output_type": "stream",
     "text": [
      "/opt/anaconda3/lib/python3.7/site-packages/sklearn/manifold/_spectral_embedding.py:236: UserWarning: Graph is not fully connected, spectral embedding may not work as expected.\n",
      "  warnings.warn(\"Graph is not fully connected, spectral embedding\"\n",
      "/opt/anaconda3/lib/python3.7/site-packages/sklearn/manifold/_spectral_embedding.py:236: UserWarning: Graph is not fully connected, spectral embedding may not work as expected.\n",
      "  warnings.warn(\"Graph is not fully connected, spectral embedding\"\n"
     ]
    },
    {
     "name": "stdout",
     "output_type": "stream",
     "text": [
      "continued\n",
      "{0: 0.631578947368421, 1: 0, 2: 0, 3: 0, 4: 0.44871794871794873, 5: 0, 6: 0, 7: 0}\n",
      "nFeatures  38\n"
     ]
    },
    {
     "name": "stderr",
     "output_type": "stream",
     "text": [
      "/opt/anaconda3/lib/python3.7/site-packages/sklearn/manifold/_spectral_embedding.py:236: UserWarning: Graph is not fully connected, spectral embedding may not work as expected.\n",
      "  warnings.warn(\"Graph is not fully connected, spectral embedding\"\n",
      "/opt/anaconda3/lib/python3.7/site-packages/sklearn/manifold/_spectral_embedding.py:236: UserWarning: Graph is not fully connected, spectral embedding may not work as expected.\n",
      "  warnings.warn(\"Graph is not fully connected, spectral embedding\"\n"
     ]
    },
    {
     "name": "stdout",
     "output_type": "stream",
     "text": [
      "continued\n",
      "{0: 0.631578947368421, 1: 0, 2: 0, 3: 0, 4: 0.44871794871794873, 5: 0, 6: 0, 7: 0}\n",
      "nFeatures  30\n"
     ]
    },
    {
     "name": "stderr",
     "output_type": "stream",
     "text": [
      "/opt/anaconda3/lib/python3.7/site-packages/sklearn/manifold/_spectral_embedding.py:236: UserWarning: Graph is not fully connected, spectral embedding may not work as expected.\n",
      "  warnings.warn(\"Graph is not fully connected, spectral embedding\"\n",
      "/opt/anaconda3/lib/python3.7/site-packages/sklearn/manifold/_spectral_embedding.py:236: UserWarning: Graph is not fully connected, spectral embedding may not work as expected.\n",
      "  warnings.warn(\"Graph is not fully connected, spectral embedding\"\n"
     ]
    },
    {
     "name": "stdout",
     "output_type": "stream",
     "text": [
      "continued\n",
      "{0: 0.6190476190476191, 1: 0, 2: 0, 3: 0, 4: 0.4473684210526316, 5: 0, 6: 0, 7: 0}\n",
      "nFeatures  15\n"
     ]
    },
    {
     "name": "stderr",
     "output_type": "stream",
     "text": [
      "/opt/anaconda3/lib/python3.7/site-packages/sklearn/manifold/_spectral_embedding.py:236: UserWarning: Graph is not fully connected, spectral embedding may not work as expected.\n",
      "  warnings.warn(\"Graph is not fully connected, spectral embedding\"\n",
      "/opt/anaconda3/lib/python3.7/site-packages/sklearn/manifold/_spectral_embedding.py:236: UserWarning: Graph is not fully connected, spectral embedding may not work as expected.\n",
      "  warnings.warn(\"Graph is not fully connected, spectral embedding\"\n"
     ]
    },
    {
     "name": "stdout",
     "output_type": "stream",
     "text": [
      "continued\n",
      "{0: 0.5882352941176471, 1: 0, 2: 0, 3: 0.4375, 4: 0, 5: 0, 6: 0}\n",
      "nFeatures  28\n"
     ]
    },
    {
     "name": "stderr",
     "output_type": "stream",
     "text": [
      "/opt/anaconda3/lib/python3.7/site-packages/sklearn/manifold/_spectral_embedding.py:236: UserWarning: Graph is not fully connected, spectral embedding may not work as expected.\n",
      "  warnings.warn(\"Graph is not fully connected, spectral embedding\"\n",
      "/opt/anaconda3/lib/python3.7/site-packages/sklearn/manifold/_spectral_embedding.py:236: UserWarning: Graph is not fully connected, spectral embedding may not work as expected.\n",
      "  warnings.warn(\"Graph is not fully connected, spectral embedding\"\n"
     ]
    },
    {
     "name": "stdout",
     "output_type": "stream",
     "text": [
      "continued\n",
      "{0: 0.5833333333333334, 1: 0, 2: 0, 3: 0.4383561643835616, 4: 0, 5: 0, 6: 0}\n",
      "nFeatures  36\n"
     ]
    },
    {
     "name": "stderr",
     "output_type": "stream",
     "text": [
      "/opt/anaconda3/lib/python3.7/site-packages/sklearn/manifold/_spectral_embedding.py:236: UserWarning: Graph is not fully connected, spectral embedding may not work as expected.\n",
      "  warnings.warn(\"Graph is not fully connected, spectral embedding\"\n",
      "/opt/anaconda3/lib/python3.7/site-packages/sklearn/manifold/_spectral_embedding.py:236: UserWarning: Graph is not fully connected, spectral embedding may not work as expected.\n",
      "  warnings.warn(\"Graph is not fully connected, spectral embedding\"\n"
     ]
    },
    {
     "name": "stdout",
     "output_type": "stream",
     "text": [
      "continued\n",
      "{0: 0.65, 1: 0, 2: 0, 3: 0.45454545454545453, 4: 0, 5: 0, 6: 0}\n",
      "nFeatures  29\n"
     ]
    },
    {
     "name": "stderr",
     "output_type": "stream",
     "text": [
      "/opt/anaconda3/lib/python3.7/site-packages/sklearn/manifold/_spectral_embedding.py:236: UserWarning: Graph is not fully connected, spectral embedding may not work as expected.\n",
      "  warnings.warn(\"Graph is not fully connected, spectral embedding\"\n",
      "/opt/anaconda3/lib/python3.7/site-packages/sklearn/manifold/_spectral_embedding.py:236: UserWarning: Graph is not fully connected, spectral embedding may not work as expected.\n",
      "  warnings.warn(\"Graph is not fully connected, spectral embedding\"\n"
     ]
    },
    {
     "name": "stdout",
     "output_type": "stream",
     "text": [
      "continued\n",
      "{0: 0.5769230769230769, 1: 0, 2: 0, 3: 0.43661971830985913, 4: 0, 5: 0, 6: 0}\n",
      "nFeatures  13\n"
     ]
    },
    {
     "name": "stderr",
     "output_type": "stream",
     "text": [
      "/opt/anaconda3/lib/python3.7/site-packages/sklearn/manifold/_spectral_embedding.py:236: UserWarning: Graph is not fully connected, spectral embedding may not work as expected.\n",
      "  warnings.warn(\"Graph is not fully connected, spectral embedding\"\n",
      "/opt/anaconda3/lib/python3.7/site-packages/sklearn/manifold/_spectral_embedding.py:236: UserWarning: Graph is not fully connected, spectral embedding may not work as expected.\n",
      "  warnings.warn(\"Graph is not fully connected, spectral embedding\"\n"
     ]
    },
    {
     "name": "stdout",
     "output_type": "stream",
     "text": [
      "continued\n",
      "{0: 0.5882352941176471, 1: 0, 2: 0.4375, 3: 0, 4: 0, 5: 0}\n",
      "nFeatures  29\n"
     ]
    },
    {
     "name": "stderr",
     "output_type": "stream",
     "text": [
      "/opt/anaconda3/lib/python3.7/site-packages/sklearn/manifold/_spectral_embedding.py:236: UserWarning: Graph is not fully connected, spectral embedding may not work as expected.\n",
      "  warnings.warn(\"Graph is not fully connected, spectral embedding\"\n",
      "/opt/anaconda3/lib/python3.7/site-packages/sklearn/manifold/_spectral_embedding.py:236: UserWarning: Graph is not fully connected, spectral embedding may not work as expected.\n",
      "  warnings.warn(\"Graph is not fully connected, spectral embedding\"\n"
     ]
    },
    {
     "name": "stdout",
     "output_type": "stream",
     "text": [
      "continued\n",
      "{0: 0.5909090909090909, 1: 0, 2: 0.44, 3: 0, 4: 0, 5: 0}\n",
      "nFeatures  37\n"
     ]
    },
    {
     "name": "stderr",
     "output_type": "stream",
     "text": [
      "/opt/anaconda3/lib/python3.7/site-packages/sklearn/manifold/_spectral_embedding.py:236: UserWarning: Graph is not fully connected, spectral embedding may not work as expected.\n",
      "  warnings.warn(\"Graph is not fully connected, spectral embedding\"\n",
      "/opt/anaconda3/lib/python3.7/site-packages/sklearn/manifold/_spectral_embedding.py:236: UserWarning: Graph is not fully connected, spectral embedding may not work as expected.\n",
      "  warnings.warn(\"Graph is not fully connected, spectral embedding\"\n"
     ]
    },
    {
     "name": "stdout",
     "output_type": "stream",
     "text": [
      "continued\n",
      "{0: 0.6, 1: 0, 2: 0.44155844155844154, 3: 0, 4: 0, 5: 0}\n",
      "nFeatures  30\n"
     ]
    },
    {
     "name": "stderr",
     "output_type": "stream",
     "text": [
      "/opt/anaconda3/lib/python3.7/site-packages/sklearn/manifold/_spectral_embedding.py:236: UserWarning: Graph is not fully connected, spectral embedding may not work as expected.\n",
      "  warnings.warn(\"Graph is not fully connected, spectral embedding\"\n",
      "/opt/anaconda3/lib/python3.7/site-packages/sklearn/manifold/_spectral_embedding.py:236: UserWarning: Graph is not fully connected, spectral embedding may not work as expected.\n",
      "  warnings.warn(\"Graph is not fully connected, spectral embedding\"\n"
     ]
    },
    {
     "name": "stdout",
     "output_type": "stream",
     "text": [
      "continued\n",
      "{0: 0.5555555555555556, 1: 0, 2: 0.42857142857142855, 3: 0, 4: 0, 5: 0}\n",
      "nFeatures  13\n"
     ]
    },
    {
     "name": "stderr",
     "output_type": "stream",
     "text": [
      "/opt/anaconda3/lib/python3.7/site-packages/sklearn/manifold/_spectral_embedding.py:236: UserWarning: Graph is not fully connected, spectral embedding may not work as expected.\n",
      "  warnings.warn(\"Graph is not fully connected, spectral embedding\"\n",
      "/opt/anaconda3/lib/python3.7/site-packages/sklearn/manifold/_spectral_embedding.py:236: UserWarning: Graph is not fully connected, spectral embedding may not work as expected.\n",
      "  warnings.warn(\"Graph is not fully connected, spectral embedding\"\n"
     ]
    },
    {
     "name": "stdout",
     "output_type": "stream",
     "text": [
      "continued\n",
      "{0: 0.625, 1: 0.4444444444444444, 2: 0, 3: 0, 4: 0}\n",
      "nFeatures  29\n"
     ]
    },
    {
     "name": "stderr",
     "output_type": "stream",
     "text": [
      "/opt/anaconda3/lib/python3.7/site-packages/sklearn/manifold/_spectral_embedding.py:236: UserWarning: Graph is not fully connected, spectral embedding may not work as expected.\n",
      "  warnings.warn(\"Graph is not fully connected, spectral embedding\"\n",
      "/opt/anaconda3/lib/python3.7/site-packages/sklearn/manifold/_spectral_embedding.py:236: UserWarning: Graph is not fully connected, spectral embedding may not work as expected.\n",
      "  warnings.warn(\"Graph is not fully connected, spectral embedding\"\n"
     ]
    },
    {
     "name": "stdout",
     "output_type": "stream",
     "text": [
      "continued\n",
      "{0: 0.55, 1: 0.42857142857142855, 2: 0, 3: 0, 4: 0}\n",
      "nFeatures  37\n"
     ]
    },
    {
     "name": "stderr",
     "output_type": "stream",
     "text": [
      "/opt/anaconda3/lib/python3.7/site-packages/sklearn/manifold/_spectral_embedding.py:236: UserWarning: Graph is not fully connected, spectral embedding may not work as expected.\n",
      "  warnings.warn(\"Graph is not fully connected, spectral embedding\"\n",
      "/opt/anaconda3/lib/python3.7/site-packages/sklearn/manifold/_spectral_embedding.py:236: UserWarning: Graph is not fully connected, spectral embedding may not work as expected.\n",
      "  warnings.warn(\"Graph is not fully connected, spectral embedding\"\n"
     ]
    },
    {
     "name": "stdout",
     "output_type": "stream",
     "text": [
      "continued\n",
      "{0: 0.55, 1: 0.42857142857142855, 2: 0, 3: 0, 4: 0}\n",
      "nFeatures  28\n"
     ]
    },
    {
     "name": "stderr",
     "output_type": "stream",
     "text": [
      "/opt/anaconda3/lib/python3.7/site-packages/sklearn/manifold/_spectral_embedding.py:236: UserWarning: Graph is not fully connected, spectral embedding may not work as expected.\n",
      "  warnings.warn(\"Graph is not fully connected, spectral embedding\"\n",
      "/opt/anaconda3/lib/python3.7/site-packages/sklearn/manifold/_spectral_embedding.py:236: UserWarning: Graph is not fully connected, spectral embedding may not work as expected.\n",
      "  warnings.warn(\"Graph is not fully connected, spectral embedding\"\n"
     ]
    },
    {
     "name": "stdout",
     "output_type": "stream",
     "text": [
      "continued\n",
      "{0: 0.5909090909090909, 1: 0.44, 2: 0, 3: 0, 4: 0}\n",
      "nFeatures  3\n"
     ]
    },
    {
     "name": "stderr",
     "output_type": "stream",
     "text": [
      "/opt/anaconda3/lib/python3.7/site-packages/sklearn/manifold/_spectral_embedding.py:236: UserWarning: Graph is not fully connected, spectral embedding may not work as expected.\n",
      "  warnings.warn(\"Graph is not fully connected, spectral embedding\"\n",
      "/opt/anaconda3/lib/python3.7/site-packages/sklearn/manifold/_spectral_embedding.py:236: UserWarning: Graph is not fully connected, spectral embedding may not work as expected.\n",
      "  warnings.warn(\"Graph is not fully connected, spectral embedding\"\n"
     ]
    },
    {
     "name": "stdout",
     "output_type": "stream",
     "text": [
      "continued\n",
      "{0: 0.5625, 1: 0, 2: 0.0, 3: 0, 4: 0}\n",
      "nFeatures  37\n"
     ]
    },
    {
     "name": "stderr",
     "output_type": "stream",
     "text": [
      "/opt/anaconda3/lib/python3.7/site-packages/sklearn/manifold/_spectral_embedding.py:236: UserWarning: Graph is not fully connected, spectral embedding may not work as expected.\n",
      "  warnings.warn(\"Graph is not fully connected, spectral embedding\"\n",
      "/opt/anaconda3/lib/python3.7/site-packages/sklearn/manifold/_spectral_embedding.py:236: UserWarning: Graph is not fully connected, spectral embedding may not work as expected.\n",
      "  warnings.warn(\"Graph is not fully connected, spectral embedding\"\n"
     ]
    },
    {
     "name": "stdout",
     "output_type": "stream",
     "text": [
      "continued\n",
      "{0: 0.5223880597014925, 1: 0, 2: 0.3333333333333333, 3: 0, 4: 0, 5: 0}\n",
      "nFeatures  22\n"
     ]
    },
    {
     "name": "stderr",
     "output_type": "stream",
     "text": [
      "/opt/anaconda3/lib/python3.7/site-packages/sklearn/manifold/_spectral_embedding.py:236: UserWarning: Graph is not fully connected, spectral embedding may not work as expected.\n",
      "  warnings.warn(\"Graph is not fully connected, spectral embedding\"\n",
      "/opt/anaconda3/lib/python3.7/site-packages/sklearn/manifold/_spectral_embedding.py:236: UserWarning: Graph is not fully connected, spectral embedding may not work as expected.\n",
      "  warnings.warn(\"Graph is not fully connected, spectral embedding\"\n"
     ]
    },
    {
     "name": "stdout",
     "output_type": "stream",
     "text": [
      "continued\n",
      "{0: 0.5277777777777778, 1: 0, 2: 0.32, 3: 0, 4: 0, 5: 0}\n",
      "nFeatures  12\n"
     ]
    },
    {
     "name": "stderr",
     "output_type": "stream",
     "text": [
      "/opt/anaconda3/lib/python3.7/site-packages/sklearn/manifold/_spectral_embedding.py:236: UserWarning: Graph is not fully connected, spectral embedding may not work as expected.\n",
      "  warnings.warn(\"Graph is not fully connected, spectral embedding\"\n",
      "/opt/anaconda3/lib/python3.7/site-packages/sklearn/manifold/_spectral_embedding.py:236: UserWarning: Graph is not fully connected, spectral embedding may not work as expected.\n",
      "  warnings.warn(\"Graph is not fully connected, spectral embedding\"\n"
     ]
    },
    {
     "name": "stdout",
     "output_type": "stream",
     "text": [
      "continued\n",
      "{0: 0.6428571428571429, 1: 0, 2: 0.4457831325301205, 3: 0, 4: 0, 5: 0}\n",
      "nFeatures  30\n"
     ]
    },
    {
     "name": "stderr",
     "output_type": "stream",
     "text": [
      "/opt/anaconda3/lib/python3.7/site-packages/sklearn/manifold/_spectral_embedding.py:236: UserWarning: Graph is not fully connected, spectral embedding may not work as expected.\n",
      "  warnings.warn(\"Graph is not fully connected, spectral embedding\"\n",
      "/opt/anaconda3/lib/python3.7/site-packages/sklearn/manifold/_spectral_embedding.py:236: UserWarning: Graph is not fully connected, spectral embedding may not work as expected.\n",
      "  warnings.warn(\"Graph is not fully connected, spectral embedding\"\n"
     ]
    },
    {
     "name": "stdout",
     "output_type": "stream",
     "text": [
      "continued\n",
      "{0: 0.42857142857142855, 1: 0, 2: 0.40963855421686746, 3: 0, 4: 0, 5: 0}\n",
      "nFeatures  37\n"
     ]
    },
    {
     "name": "stderr",
     "output_type": "stream",
     "text": [
      "/opt/anaconda3/lib/python3.7/site-packages/sklearn/manifold/_spectral_embedding.py:236: UserWarning: Graph is not fully connected, spectral embedding may not work as expected.\n",
      "  warnings.warn(\"Graph is not fully connected, spectral embedding\"\n",
      "/opt/anaconda3/lib/python3.7/site-packages/sklearn/manifold/_spectral_embedding.py:236: UserWarning: Graph is not fully connected, spectral embedding may not work as expected.\n",
      "  warnings.warn(\"Graph is not fully connected, spectral embedding\"\n"
     ]
    },
    {
     "name": "stdout",
     "output_type": "stream",
     "text": [
      "continued\n",
      "{0: 0.5625, 1: 0, 2: 0.43209876543209874, 3: 0, 4: 0, 5: 0}\n",
      "nFeatures  34\n"
     ]
    },
    {
     "name": "stderr",
     "output_type": "stream",
     "text": [
      "/opt/anaconda3/lib/python3.7/site-packages/sklearn/manifold/_spectral_embedding.py:236: UserWarning: Graph is not fully connected, spectral embedding may not work as expected.\n",
      "  warnings.warn(\"Graph is not fully connected, spectral embedding\"\n",
      "/opt/anaconda3/lib/python3.7/site-packages/sklearn/manifold/_spectral_embedding.py:236: UserWarning: Graph is not fully connected, spectral embedding may not work as expected.\n",
      "  warnings.warn(\"Graph is not fully connected, spectral embedding\"\n"
     ]
    },
    {
     "name": "stdout",
     "output_type": "stream",
     "text": [
      "continued\n",
      "{0: 0.5, 1: 0, 2: 0.42168674698795183, 3: 0, 4: 0, 5: 0}\n",
      "nFeatures  13\n"
     ]
    },
    {
     "name": "stderr",
     "output_type": "stream",
     "text": [
      "/opt/anaconda3/lib/python3.7/site-packages/sklearn/manifold/_spectral_embedding.py:236: UserWarning: Graph is not fully connected, spectral embedding may not work as expected.\n",
      "  warnings.warn(\"Graph is not fully connected, spectral embedding\"\n",
      "/opt/anaconda3/lib/python3.7/site-packages/sklearn/manifold/_spectral_embedding.py:236: UserWarning: Graph is not fully connected, spectral embedding may not work as expected.\n",
      "  warnings.warn(\"Graph is not fully connected, spectral embedding\"\n"
     ]
    },
    {
     "name": "stdout",
     "output_type": "stream",
     "text": [
      "continued\n",
      "{0: 0.631578947368421, 1: 0, 2: 0, 3: 0, 4: 0.44871794871794873, 5: 0, 6: 0, 7: 0}\n",
      "nFeatures  28\n"
     ]
    },
    {
     "name": "stderr",
     "output_type": "stream",
     "text": [
      "/opt/anaconda3/lib/python3.7/site-packages/sklearn/manifold/_spectral_embedding.py:236: UserWarning: Graph is not fully connected, spectral embedding may not work as expected.\n",
      "  warnings.warn(\"Graph is not fully connected, spectral embedding\"\n",
      "/opt/anaconda3/lib/python3.7/site-packages/sklearn/manifold/_spectral_embedding.py:236: UserWarning: Graph is not fully connected, spectral embedding may not work as expected.\n",
      "  warnings.warn(\"Graph is not fully connected, spectral embedding\"\n"
     ]
    },
    {
     "name": "stdout",
     "output_type": "stream",
     "text": [
      "continued\n",
      "{0: 0.5714285714285714, 1: 0, 2: 0, 3: 0, 4: 0.4342105263157895, 5: 0, 6: 0, 7: 0}\n",
      "nFeatures  37\n"
     ]
    },
    {
     "name": "stderr",
     "output_type": "stream",
     "text": [
      "/opt/anaconda3/lib/python3.7/site-packages/sklearn/manifold/_spectral_embedding.py:236: UserWarning: Graph is not fully connected, spectral embedding may not work as expected.\n",
      "  warnings.warn(\"Graph is not fully connected, spectral embedding\"\n",
      "/opt/anaconda3/lib/python3.7/site-packages/sklearn/manifold/_spectral_embedding.py:236: UserWarning: Graph is not fully connected, spectral embedding may not work as expected.\n",
      "  warnings.warn(\"Graph is not fully connected, spectral embedding\"\n"
     ]
    },
    {
     "name": "stdout",
     "output_type": "stream",
     "text": [
      "continued\n",
      "{0: 0.6190476190476191, 1: 0, 2: 0, 3: 0, 4: 0.4473684210526316, 5: 0, 6: 0, 7: 0}\n",
      "nFeatures  24\n"
     ]
    },
    {
     "name": "stderr",
     "output_type": "stream",
     "text": [
      "/opt/anaconda3/lib/python3.7/site-packages/sklearn/manifold/_spectral_embedding.py:236: UserWarning: Graph is not fully connected, spectral embedding may not work as expected.\n",
      "  warnings.warn(\"Graph is not fully connected, spectral embedding\"\n",
      "/opt/anaconda3/lib/python3.7/site-packages/sklearn/manifold/_spectral_embedding.py:236: UserWarning: Graph is not fully connected, spectral embedding may not work as expected.\n",
      "  warnings.warn(\"Graph is not fully connected, spectral embedding\"\n"
     ]
    },
    {
     "name": "stdout",
     "output_type": "stream",
     "text": [
      "continued\n",
      "{0: 0.7, 1: 0, 2: 0, 3: 0, 4: 0.4675324675324675, 5: 0, 6: 0, 7: 0}\n",
      "nFeatures  13\n"
     ]
    },
    {
     "name": "stderr",
     "output_type": "stream",
     "text": [
      "/opt/anaconda3/lib/python3.7/site-packages/sklearn/manifold/_spectral_embedding.py:236: UserWarning: Graph is not fully connected, spectral embedding may not work as expected.\n",
      "  warnings.warn(\"Graph is not fully connected, spectral embedding\"\n",
      "/opt/anaconda3/lib/python3.7/site-packages/sklearn/manifold/_spectral_embedding.py:236: UserWarning: Graph is not fully connected, spectral embedding may not work as expected.\n",
      "  warnings.warn(\"Graph is not fully connected, spectral embedding\"\n"
     ]
    },
    {
     "name": "stdout",
     "output_type": "stream",
     "text": [
      "continued\n",
      "{0: 0.6666666666666666, 1: 0, 2: 0, 3: 0.45569620253164556, 4: 0, 5: 0, 6: 0}\n",
      "nFeatures  29\n"
     ]
    },
    {
     "name": "stderr",
     "output_type": "stream",
     "text": [
      "/opt/anaconda3/lib/python3.7/site-packages/sklearn/manifold/_spectral_embedding.py:236: UserWarning: Graph is not fully connected, spectral embedding may not work as expected.\n",
      "  warnings.warn(\"Graph is not fully connected, spectral embedding\"\n",
      "/opt/anaconda3/lib/python3.7/site-packages/sklearn/manifold/_spectral_embedding.py:236: UserWarning: Graph is not fully connected, spectral embedding may not work as expected.\n",
      "  warnings.warn(\"Graph is not fully connected, spectral embedding\"\n"
     ]
    },
    {
     "name": "stdout",
     "output_type": "stream",
     "text": [
      "continued\n",
      "{0: 0.5714285714285714, 1: 0, 2: 0, 3: 0.4342105263157895, 4: 0, 5: 0, 6: 0}\n",
      "nFeatures  37\n"
     ]
    },
    {
     "name": "stderr",
     "output_type": "stream",
     "text": [
      "/opt/anaconda3/lib/python3.7/site-packages/sklearn/manifold/_spectral_embedding.py:236: UserWarning: Graph is not fully connected, spectral embedding may not work as expected.\n",
      "  warnings.warn(\"Graph is not fully connected, spectral embedding\"\n",
      "/opt/anaconda3/lib/python3.7/site-packages/sklearn/manifold/_spectral_embedding.py:236: UserWarning: Graph is not fully connected, spectral embedding may not work as expected.\n",
      "  warnings.warn(\"Graph is not fully connected, spectral embedding\"\n"
     ]
    },
    {
     "name": "stdout",
     "output_type": "stream",
     "text": [
      "continued\n",
      "{0: 0.6190476190476191, 1: 0, 2: 0, 3: 0.4473684210526316, 4: 0, 5: 0, 6: 0}\n",
      "nFeatures  35\n"
     ]
    },
    {
     "name": "stderr",
     "output_type": "stream",
     "text": [
      "/opt/anaconda3/lib/python3.7/site-packages/sklearn/manifold/_spectral_embedding.py:236: UserWarning: Graph is not fully connected, spectral embedding may not work as expected.\n",
      "  warnings.warn(\"Graph is not fully connected, spectral embedding\"\n",
      "/opt/anaconda3/lib/python3.7/site-packages/sklearn/manifold/_spectral_embedding.py:236: UserWarning: Graph is not fully connected, spectral embedding may not work as expected.\n",
      "  warnings.warn(\"Graph is not fully connected, spectral embedding\"\n"
     ]
    },
    {
     "name": "stdout",
     "output_type": "stream",
     "text": [
      "continued\n",
      "{0: 0.6190476190476191, 1: 0, 2: 0, 3: 0.4473684210526316, 4: 0, 5: 0, 6: 0}\n",
      "nFeatures  13\n"
     ]
    },
    {
     "name": "stderr",
     "output_type": "stream",
     "text": [
      "/opt/anaconda3/lib/python3.7/site-packages/sklearn/manifold/_spectral_embedding.py:236: UserWarning: Graph is not fully connected, spectral embedding may not work as expected.\n",
      "  warnings.warn(\"Graph is not fully connected, spectral embedding\"\n",
      "/opt/anaconda3/lib/python3.7/site-packages/sklearn/manifold/_spectral_embedding.py:236: UserWarning: Graph is not fully connected, spectral embedding may not work as expected.\n",
      "  warnings.warn(\"Graph is not fully connected, spectral embedding\"\n"
     ]
    },
    {
     "name": "stdout",
     "output_type": "stream",
     "text": [
      "continued\n",
      "{0: 0.5789473684210527, 1: 0, 2: 0, 3: 0.4358974358974359, 4: 0, 5: 0, 6: 0}\n",
      "nFeatures  29\n"
     ]
    },
    {
     "name": "stderr",
     "output_type": "stream",
     "text": [
      "/opt/anaconda3/lib/python3.7/site-packages/sklearn/manifold/_spectral_embedding.py:236: UserWarning: Graph is not fully connected, spectral embedding may not work as expected.\n",
      "  warnings.warn(\"Graph is not fully connected, spectral embedding\"\n",
      "/opt/anaconda3/lib/python3.7/site-packages/sklearn/manifold/_spectral_embedding.py:236: UserWarning: Graph is not fully connected, spectral embedding may not work as expected.\n",
      "  warnings.warn(\"Graph is not fully connected, spectral embedding\"\n"
     ]
    },
    {
     "name": "stdout",
     "output_type": "stream",
     "text": [
      "continued\n",
      "{0: 0.5333333333333333, 1: 0, 2: 0, 3: 0.4268292682926829, 4: 0, 5: 0, 6: 0}\n",
      "nFeatures  37\n"
     ]
    },
    {
     "name": "stderr",
     "output_type": "stream",
     "text": [
      "/opt/anaconda3/lib/python3.7/site-packages/sklearn/manifold/_spectral_embedding.py:236: UserWarning: Graph is not fully connected, spectral embedding may not work as expected.\n",
      "  warnings.warn(\"Graph is not fully connected, spectral embedding\"\n",
      "/opt/anaconda3/lib/python3.7/site-packages/sklearn/manifold/_spectral_embedding.py:236: UserWarning: Graph is not fully connected, spectral embedding may not work as expected.\n",
      "  warnings.warn(\"Graph is not fully connected, spectral embedding\"\n"
     ]
    },
    {
     "name": "stdout",
     "output_type": "stream",
     "text": [
      "continued\n",
      "{0: 0.5263157894736842, 1: 0, 2: 0, 3: 0.4230769230769231, 4: 0, 5: 0, 6: 0}\n",
      "nFeatures  32\n"
     ]
    },
    {
     "name": "stderr",
     "output_type": "stream",
     "text": [
      "/opt/anaconda3/lib/python3.7/site-packages/sklearn/manifold/_spectral_embedding.py:236: UserWarning: Graph is not fully connected, spectral embedding may not work as expected.\n",
      "  warnings.warn(\"Graph is not fully connected, spectral embedding\"\n",
      "/opt/anaconda3/lib/python3.7/site-packages/sklearn/manifold/_spectral_embedding.py:236: UserWarning: Graph is not fully connected, spectral embedding may not work as expected.\n",
      "  warnings.warn(\"Graph is not fully connected, spectral embedding\"\n"
     ]
    },
    {
     "name": "stdout",
     "output_type": "stream",
     "text": [
      "continued\n",
      "{0: 0.5882352941176471, 1: 0, 2: 0, 3: 0.4375, 4: 0, 5: 0, 6: 0}\n"
     ]
    }
   ],
   "source": [
    "good_analysis = []\n",
    "for i in range(filtered_good_results.shape[0]):\n",
    "    interested_subtype = filtered_good_results.iloc[i]['Class with High PPV']\n",
    "    num_S = filtered_good_results.iloc[i]['Number of Stable Subtypes']\n",
    "    num_P = filtered_good_results.iloc[i]['Number of Progressor Subtypes']\n",
    "    nFeatures = filtered_good_results.iloc[i]['Number of Features']\n",
    "    Classifier = filtered_good_results.iloc[i]['Classifier']\n",
    "    print(\"nFeatures \", nFeatures)\n",
    "    convert = lambda x: 0 if (x==\"SVM\") else 1 if (x==\"RF\") else 2\n",
    "    \n",
    "    classifier = convert(Classifier)\n",
    "    weighting = filtered_good_results.iloc[i]['Weighting']\n",
    "    column_indices = filtered_good_results.iloc[i]['Features selected with highest frequencies across all folds']\n",
    "    #print(\"column_indices len \", len(column_indices))\n",
    "#     print(\"num_S\", num_S)\n",
    "#     print(\"num_P\", num_P)\n",
    "#     print(\"nFeatures\", nFeatures)\n",
    "#     print(\"Classifier\", Classifier)\n",
    "#     print(\"classifier\", classifier)\n",
    "#     print(\"weighting\", weighting)\n",
    "#     print(\"column_indices\", column_indices)\n",
    "    #print(\"interested subtype\", interested_subtype)\n",
    "#     print(X_train.shape)\n",
    "    try:\n",
    "        num_P, num_S, nFeatures, classifier, weighting, pred_y, y_test_selected = apply(X_train, y_train, X_test, y_test, num_P, num_S, nFeatures, classifier, weighting, column_indices, dataset)\n",
    "    except Exception as err:\n",
    "        print('exception catched')\n",
    "        continue\n",
    "    print('continued')\n",
    "    ppvs = computePPV(num_P, num_S, pred_y, y_test_selected)\n",
    "    count, index_of_intances_correctly_classified = calculateCorrectlyClassifiedSubjects(pred_y, \n",
    "                                                                                             y_test_selected, \n",
    "                                                                                             test_scan_index, \n",
    "                                                                                             interested_subtype, \n",
    "                                                                                             num_P, \n",
    "                                                                                             num_S\n",
    "                                        \n",
    "                                                                                        \n",
    "                                                                                        \n",
    "                                                                                        )\n",
    "   # print(\"count\", count)\n",
    "    #print(\"index_of_intances_correctly_classified\", index_of_intances_correctly_classified)    \n",
    "    \n",
    "    \n",
    "    TP_indexes, FP_indexes = computeTP(num_P, num_S, interested_subtype, pred_y, y_test_selected, test_scan_index)\n",
    "    #print(\"FP_indexes\", FP_indexes)\n",
    "    print(ppvs)\n",
    "    ppv_target_subtype = ppvs.get(interested_subtype)\n",
    "    if ppv_target_subtype > 0.9:\n",
    "        print(\"found good one!!! \", i)\n",
    "        good_analysis.append(i)\n",
    "    row = {'PPV of interested subtype': ppv_target_subtype, \n",
    "                    'Interested subtype': interested_subtype,\n",
    "                    'Index of intances correctly classified of interested type': index_of_intances_correctly_classified,\n",
    "                    'Index of instances incorrectly classified into the interested type': FP_indexes,\n",
    "                    'Number of correctly classified instances': count,\n",
    "                    'Number of Progressor Subtypes': num_P, \n",
    "                    'Number of Stable Subtypes': num_S, \n",
    "                    'Number of Features': nFeatures, \n",
    "                    'Classifier': classifier, \n",
    "                    'Weighting': weighting,\n",
    "                    'pred_y': pred_y,\n",
    "                    'act_y': y_test_selected,\n",
    "                    'test_index': test_scan_index,\n",
    "                    'PPVs': ppvs\n",
    "                }\n",
    "\n",
    "    result_df = result_df.append(row, ignore_index=True)\n",
    "    "
   ]
  },
  {
   "cell_type": "code",
   "execution_count": 57,
   "metadata": {},
   "outputs": [],
   "source": [
    "result_df.to_csv(\"./X\"+dataset+\"_results/results/fold\" + fold + \"/validation.csv\")\n",
    "result_df.to_pickle(\"./X\"+dataset+\"_results/results/fold\" + fold  + \"/validation.pkl\")"
   ]
  },
  {
   "cell_type": "code",
   "execution_count": 58,
   "metadata": {},
   "outputs": [],
   "source": [
    "good_analysises = pd.DataFrame(good_analysis)\n",
    "good_analysises.to_csv(\"./X\"+dataset+\"_results/results/fold\" + fold + \"/good_analysis.csv\")"
   ]
  },
  {
   "cell_type": "code",
   "execution_count": 59,
   "metadata": {},
   "outputs": [
    {
     "name": "stdout",
     "output_type": "stream",
     "text": [
      "<bound method DataFrame.info of      PPV Subjects Correctly Classified Number of Progressor Subtypes  \\\n",
      "0    1.0                             5                             4   \n",
      "1    1.0                             5                             4   \n",
      "2    1.0                             4                             4   \n",
      "3    1.0                             5                             4   \n",
      "4    1.0                             2                             3   \n",
      "..   ...                           ...                           ...   \n",
      "204  1.0                             5                             3   \n",
      "205  1.0                             5                             3   \n",
      "206  1.0                             5                             3   \n",
      "207  1.0                             4                             3   \n",
      "208  1.0                             5                             3   \n",
      "\n",
      "    Number of Stable Subtypes Number of Features Classifier Weighting  \\\n",
      "0                           4                 13         LR         1   \n",
      "1                           4                 30         LR         1   \n",
      "2                           4                 37         LR         1   \n",
      "3                           4                 37         LR         1   \n",
      "4                           4                 28        SVM        20   \n",
      "..                        ...                ...        ...       ...   \n",
      "204                         4                 35         LR         1   \n",
      "205                         4                 13        SVM         1   \n",
      "206                         4                 29        SVM         1   \n",
      "207                         4                 37        SVM         1   \n",
      "208                         4                 32        SVM         1   \n",
      "\n",
      "    Class with High PPV Stability of High PPV  \\\n",
      "0                     5                     5   \n",
      "1                     5                     3   \n",
      "2                     5                     3   \n",
      "3                     6                    59   \n",
      "4                     4                     3   \n",
      "..                  ...                   ...   \n",
      "204                   5                    59   \n",
      "205                   4                     5   \n",
      "206                   4                     3   \n",
      "207                   4                     3   \n",
      "208                   5                    59   \n",
      "\n",
      "    Number of features mutually selected  \\\n",
      "0                                      2   \n",
      "1                                      4   \n",
      "2                                      3   \n",
      "3                                      3   \n",
      "4                                      3   \n",
      "..                                   ...   \n",
      "204                                    3   \n",
      "205                                    2   \n",
      "206                                    3   \n",
      "207                                    2   \n",
      "208                                    3   \n",
      "\n",
      "     Percentage of Mutual Features Selected across all folds  \\\n",
      "0                                             0.153846         \n",
      "1                                             0.133333         \n",
      "2                                             0.081081         \n",
      "3                                             0.081081         \n",
      "4                                             0.107143         \n",
      "..                                                 ...         \n",
      "204                                           0.085714         \n",
      "205                                           0.153846         \n",
      "206                                           0.103448         \n",
      "207                                           0.054054         \n",
      "208                                           0.093750         \n",
      "\n",
      "    Features selected with highest frequencies across all folds  \\\n",
      "0    [46615, 9707, 49376, 29022, 42092, 10258, 2065...            \n",
      "1    [46615, 9707, 29022, 49376, 42092, 26750, 1312...            \n",
      "2    [46615, 9707, 29022, 49376, 42092, 26750, 1312...            \n",
      "3    [46615, 9707, 29022, 49376, 42092, 26750, 1312...            \n",
      "4    [46615, 9707, 49376, 26750, 42092, 15217, 2902...            \n",
      "..                                                 ...            \n",
      "204  [46615, 9707, 42092, 49376, 26750, 13120, 2902...            \n",
      "205  [46615, 9707, 49376, 42092, 29022, 42279, 2065...            \n",
      "206  [46615, 9707, 49376, 26750, 42092, 15217, 2902...            \n",
      "207  [46615, 9707, 49376, 42092, 26750, 13120, 2902...            \n",
      "208  [46615, 9707, 42092, 49376, 26750, 13120, 1521...            \n",
      "\n",
      "                           Frequencies of the features  \\\n",
      "0    [248, 248, 247, 242, 236, 224, 214, 201, 189, ...   \n",
      "1    [248, 248, 248, 248, 247, 247, 245, 244, 231, ...   \n",
      "2    [248, 248, 248, 247, 247, 247, 246, 244, 241, ...   \n",
      "3    [248, 248, 248, 247, 247, 247, 246, 244, 241, ...   \n",
      "4    [248, 248, 248, 247, 245, 245, 244, 242, 221, ...   \n",
      "..                                                 ...   \n",
      "204  [248, 248, 248, 247, 247, 246, 245, 245, 237, ...   \n",
      "205  [248, 248, 246, 236, 231, 219, 211, 208, 195, ...   \n",
      "206  [248, 248, 248, 247, 246, 245, 244, 242, 225, ...   \n",
      "207  [248, 248, 247, 247, 247, 246, 245, 245, 238, ...   \n",
      "208  [248, 248, 248, 247, 247, 246, 245, 244, 233, ...   \n",
      "\n",
      "    Indexes of Instances Correctly Classified  \n",
      "0                   [439, 440, 441, 442, 443]  \n",
      "1                   [439, 440, 441, 442, 443]  \n",
      "2                        [439, 440, 441, 443]  \n",
      "3                   [404, 405, 406, 407, 408]  \n",
      "4                                  [440, 443]  \n",
      "..                                        ...  \n",
      "204                 [404, 405, 406, 407, 408]  \n",
      "205                 [439, 440, 441, 442, 443]  \n",
      "206                 [439, 440, 441, 442, 443]  \n",
      "207                      [439, 440, 441, 443]  \n",
      "208                 [404, 405, 406, 407, 408]  \n",
      "\n",
      "[209 rows x 14 columns]>\n"
     ]
    }
   ],
   "source": [
    "print(filtered_good_results.info)"
   ]
  },
  {
   "cell_type": "code",
   "execution_count": null,
   "metadata": {},
   "outputs": [],
   "source": []
  }
 ],
 "metadata": {
  "kernelspec": {
   "display_name": "Python 3",
   "language": "python",
   "name": "python3"
  },
  "language_info": {
   "codemirror_mode": {
    "name": "ipython",
    "version": 3
   },
   "file_extension": ".py",
   "mimetype": "text/x-python",
   "name": "python",
   "nbconvert_exporter": "python",
   "pygments_lexer": "ipython3",
   "version": "3.7.4"
  }
 },
 "nbformat": 4,
 "nbformat_minor": 4
}
